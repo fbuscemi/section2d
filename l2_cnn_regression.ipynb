{
 "cells": [
  {
   "cell_type": "markdown",
   "metadata": {},
   "source": [
    "# CNN for Shape Dimensions"
   ]
  },
  {
   "cell_type": "code",
   "execution_count": 1,
   "metadata": {},
   "outputs": [],
   "source": [
    "%matplotlib inline\n",
    "import numpy as np\n",
    "import matplotlib.pyplot as plt\n",
    "import pandas as pd\n",
    "import os\n",
    "import copy\n",
    "\n",
    "import torch\n",
    "import torch.nn as nn\n",
    "import torch.nn.functional as F\n",
    "#from torchvision import transforms \n",
    "from torch.utils.data import DataLoader\n",
    "\n",
    "from data_load import ShapeDimensionDataset\n",
    "import regression"
   ]
  },
  {
   "cell_type": "markdown",
   "metadata": {},
   "source": [
    "## SETTINGS"
   ]
  },
  {
   "cell_type": "code",
   "execution_count": 2,
   "metadata": {},
   "outputs": [],
   "source": [
    "IMAGE_SIZE = 150\n",
    "BATCH_SIZE = 32"
   ]
  },
  {
   "cell_type": "markdown",
   "metadata": {},
   "source": [
    "## Datasets and Dataloaders\n",
    "\n",
    "omit test for the time being ..."
   ]
  },
  {
   "cell_type": "code",
   "execution_count": 3,
   "metadata": {},
   "outputs": [],
   "source": [
    "parameters = [\"h\", \"tw\", \"ba\", \"ra\"]\n",
    "target_cols = [\"h_scaled\", \"tw_scaled\", \"ba_scaled\", \"ra_scaled\"]\n",
    "\n",
    "flip_transform = regression.flip_transform(IMAGE_SIZE)\n",
    "no_transform = regression.no_transform(IMAGE_SIZE)\n",
    "\n",
    "datasets = {\n",
    "    'train': ShapeDimensionDataset(\"dataset/L2_train.csv\", \n",
    "                                   \"dataset/train/L2/\",\n",
    "                                   transform=flip_transform, \n",
    "                                   target_cols=target_cols),\n",
    "    'val': ShapeDimensionDataset(\"dataset/L2_val.csv\", \n",
    "                                 \"dataset/val/L2/\",\n",
    "                                 transform=flip_transform, \n",
    "                                 target_cols=target_cols),    \n",
    "}"
   ]
  },
  {
   "cell_type": "code",
   "execution_count": 4,
   "metadata": {},
   "outputs": [],
   "source": [
    "dataloaders = {'train': DataLoader(datasets['train'], \n",
    "                                   batch_size=BATCH_SIZE,\n",
    "                                   shuffle=True, \n",
    "                                   num_workers=6),\n",
    "               'val': DataLoader(datasets['val'], \n",
    "                                 batch_size=BATCH_SIZE,\n",
    "                                 shuffle=False, \n",
    "                                 num_workers=6),                                       \n",
    "    }\n"
   ]
  },
  {
   "cell_type": "markdown",
   "metadata": {},
   "source": [
    "## Show something\n",
    "\n",
    "Convert PIL grayscale image (type=L) to np array (axes are still flipped):\n",
    "\n",
    "`img = np.frombuffer(img_.tobytes(), dtype=np.uint8).reshape(224,224)`\n",
    "\n",
    "Convert torch.Tensor to np array:\n",
    "\n"
   ]
  },
  {
   "cell_type": "code",
   "execution_count": 5,
   "metadata": {},
   "outputs": [
    {
     "name": "stdout",
     "output_type": "stream",
     "text": [
      "pixel value range: 0.0 1.0\n",
      "shape: (150, 150)\n",
      "dtype: float32\n",
      "[[0.48124684]\n",
      " [0.06297849]\n",
      " [0.80638858]\n",
      " [0.05941315]]\n"
     ]
    },
    {
     "data": {
      "image/png": "[encoded data removed]",
      "text/plain": [
       "<Figure size 432x288 with 1 Axes>"
      ]
     },
     "metadata": {
      "needs_background": "light"
     },
     "output_type": "display_data"
    }
   ],
   "source": [
    "ds = datasets['train']\n",
    "\n",
    "img_, y = ds[12]  \n",
    "# TODO: how to rotate ???\n",
    "img = img_[0].numpy() # shape(1,224,224) -> shape(224,224)\n",
    "img = img.squeeze()\n",
    "print(\"pixel value range:\", np.min(img), np.max(img))\n",
    "# TODO: these are grayscale (B/W) pictures. One depth dimension is enough.\n",
    "print(\"shape:\", img.shape)\n",
    "print(\"dtype:\", img.dtype)\n",
    "print(y)\n",
    "plt.imshow(img, cmap='gray');\n",
    "\n"
   ]
  },
  {
   "cell_type": "code",
   "execution_count": 6,
   "metadata": {},
   "outputs": [],
   "source": [
    "def plot_history(history, log=False):\n",
    "    \"\"\"history plot, return image\"\"\"\n",
    "    fig, ax = plt.subplots()\n",
    "    ax.plot(history['train'], \"o-\", label=\"train\")\n",
    "    ax.plot(history['val'], \"o-\", label=\"val\")\n",
    "    ax.set_xlabel(\"Epoch\")\n",
    "    ax.set_ylabel(\"Loss\")\n",
    "    if log:\n",
    "        ax.semilogy()\n",
    "    ax.grid()\n",
    "    ax.legend()"
   ]
  },
  {
   "cell_type": "markdown",
   "metadata": {},
   "source": [
    "## Settings"
   ]
  },
  {
   "cell_type": "code",
   "execution_count": 7,
   "metadata": {},
   "outputs": [
    {
     "name": "stdout",
     "output_type": "stream",
     "text": [
      "Net1(\n",
      "  (conv1): Conv2d(1, 8, kernel_size=(5, 5), stride=(2, 2))\n",
      "  (conv2): Conv2d(8, 16, kernel_size=(3, 3), stride=(1, 1))\n",
      "  (pool1): MaxPool2d(kernel_size=2, stride=2, padding=0, dilation=1, ceil_mode=False)\n",
      "  (pool2): MaxPool2d(kernel_size=2, stride=2, padding=0, dilation=1, ceil_mode=False)\n",
      "  (fc1): Linear(in_features=4624, out_features=1000, bias=True)\n",
      "  (fc2): Linear(in_features=1000, out_features=100, bias=True)\n",
      "  (fc3): Linear(in_features=100, out_features=4, bias=True)\n",
      ")\n"
     ]
    }
   ],
   "source": [
    "lr = 0.001\n",
    "\n",
    "model = regression.Net1(4, image_size=IMAGE_SIZE, param_names=parameters, description=\"L2\")\n",
    "optimizer = torch.optim.Adam(model.parameters(), lr=lr)\n",
    "criterion = nn.MSELoss()\n",
    "print(model)\n",
    " "
   ]
  },
  {
   "cell_type": "code",
   "execution_count": 8,
   "metadata": {},
   "outputs": [
    {
     "name": "stdout",
     "output_type": "stream",
     "text": [
      "Epoch 1/50: train Loss: 0.019220 val Loss: 0.006301 \n",
      "\n",
      "Epoch 2/50: train Loss: 0.005820 val Loss: 0.005808 \n",
      "\n",
      "Epoch 3/50: train Loss: 0.004139 val Loss: 0.003482 \n",
      "\n",
      "Epoch 4/50: train Loss: 0.002821 val Loss: 0.001874 \n",
      "\n",
      "Epoch 5/50: train Loss: 0.002110 val Loss: 0.001828 \n",
      "\n",
      "Epoch 6/50: train Loss: 0.001734 val Loss: 0.001155 \n",
      "\n",
      "Epoch 7/50: train Loss: 0.001262 val Loss: 0.001172 \n",
      "\n",
      "Epoch 8/50: train Loss: 0.001172 val Loss: 0.001078 \n",
      "\n",
      "Epoch 9/50: train Loss: 0.001101 val Loss: 0.002219 \n",
      "\n",
      "Epoch 10/50: train Loss: 0.001087 val Loss: 0.001013 \n",
      "\n",
      "Epoch 11/50: train Loss: 0.000950 val Loss: 0.001155 \n",
      "\n",
      "Epoch 12/50: train Loss: 0.000911 val Loss: 0.000771 \n",
      "\n",
      "Epoch 13/50: train Loss: 0.000808 val Loss: 0.000875 \n",
      "\n",
      "Epoch 14/50: train Loss: 0.000870 val Loss: 0.001226 \n",
      "\n",
      "Epoch 15/50: train Loss: 0.000825 val Loss: 0.000795 \n",
      "\n",
      "Epoch 16/50: train Loss: 0.000764 val Loss: 0.000926 \n",
      "\n",
      "Epoch 17/50: train Loss: 0.000758 val Loss: 0.000802 \n",
      "\n",
      "Epoch 18/50: train Loss: 0.000820 val Loss: 0.000845 \n",
      "\n",
      "Epoch 19/50: train Loss: 0.000814 val Loss: 0.000703 \n",
      "\n",
      "Epoch 20/50: train Loss: 0.000845 val Loss: 0.001077 \n",
      "\n",
      "Epoch 21/50: train Loss: 0.000738 val Loss: 0.000914 \n",
      "\n",
      "Epoch 22/50: train Loss: 0.000772 val Loss: 0.000783 \n",
      "\n",
      "Epoch 23/50: train Loss: 0.000694 val Loss: 0.000945 \n",
      "\n",
      "Epoch 24/50: train Loss: 0.000712 val Loss: 0.000836 \n",
      "\n",
      "Epoch 25/50: train Loss: 0.000765 val Loss: 0.000723 \n",
      "\n",
      "Epoch 26/50: train Loss: 0.000721 val Loss: 0.000639 \n",
      "\n",
      "Epoch 27/50: train Loss: 0.000691 val Loss: 0.000799 \n",
      "\n",
      "Epoch 28/50: train Loss: 0.000795 val Loss: 0.000876 \n",
      "\n",
      "Epoch 29/50: train Loss: 0.000663 val Loss: 0.000604 \n",
      "\n",
      "Epoch 30/50: train Loss: 0.000745 val Loss: 0.001041 \n",
      "\n",
      "Epoch 31/50: train Loss: 0.000774 val Loss: 0.001337 \n",
      "\n",
      "Epoch 32/50: train Loss: 0.000722 val Loss: 0.000690 \n",
      "\n",
      "Epoch 33/50: train Loss: 0.000936 val Loss: 0.000659 \n",
      "\n",
      "Epoch 34/50: train Loss: 0.000642 val Loss: 0.000784 \n",
      "\n",
      "Epoch 35/50: train Loss: 0.000701 val Loss: 0.000967 \n",
      "\n",
      "Epoch 36/50: train Loss: 0.000606 val Loss: 0.000578 \n",
      "\n",
      "Epoch 37/50: train Loss: 0.000570 val Loss: 0.000657 \n",
      "\n",
      "Epoch 38/50: train Loss: 0.000668 val Loss: 0.000624 \n",
      "\n",
      "Epoch 39/50: train Loss: 0.000633 val Loss: 0.000873 \n",
      "\n",
      "Epoch 40/50: train Loss: 0.000599 val Loss: 0.000652 \n",
      "\n",
      "Epoch 41/50: train Loss: 0.000554 val Loss: 0.000625 \n",
      "\n",
      "Epoch 42/50: train Loss: 0.000703 val Loss: 0.000580 \n",
      "\n",
      "Epoch 43/50: train Loss: 0.000600 val Loss: 0.000543 \n",
      "\n",
      "Epoch 44/50: train Loss: 0.000565 val Loss: 0.000583 \n",
      "\n",
      "Epoch 45/50: train Loss: 0.000577 val Loss: 0.000591 \n",
      "\n",
      "Epoch 46/50: train Loss: 0.000547 val Loss: 0.000569 \n",
      "\n",
      "Epoch 47/50: train Loss: 0.000527 val Loss: 0.000581 \n",
      "\n",
      "Epoch 48/50: train Loss: 0.000543 val Loss: 0.000489 \n",
      "\n",
      "Epoch 49/50: train Loss: 0.000531 val Loss: 0.000703 \n",
      "\n",
      "Epoch 50/50: train Loss: 0.000590 val Loss: 0.000546 \n",
      "\n",
      "\n",
      "Best val loss: 0.000489\n"
     ]
    },
    {
     "data": {
      "image/png": "[encoded data removed]",
      "text/plain": [
       "<Figure size 432x288 with 1 Axes>"
      ]
     },
     "metadata": {
      "needs_background": "light"
     },
     "output_type": "display_data"
    }
   ],
   "source": [
    "if 1 == 1:\n",
    "    hist = regression.train_regression(model, dataloaders, criterion, optimizer, num_epochs=50)\n",
    "    plot_history(hist, log=True)\n",
    "    model.save_checkpoint(\"models/L2_flip_50.pt\")"
   ]
  },
  {
   "cell_type": "markdown",
   "metadata": {},
   "source": [
    "Ah, great! It works!"
   ]
  },
  {
   "cell_type": "code",
   "execution_count": 10,
   "metadata": {},
   "outputs": [],
   "source": [
    "import json\n",
    "with open(\"history_L2_flip_50.json\", \"w\") as fp:\n",
    "    json.dump(hist, fp, indent=2)"
   ]
  },
  {
   "cell_type": "markdown",
   "metadata": {},
   "source": [
    "# Inference"
   ]
  },
  {
   "cell_type": "markdown",
   "metadata": {},
   "source": [
    "### Utilities"
   ]
  },
  {
   "cell_type": "code",
   "execution_count": 11,
   "metadata": {},
   "outputs": [],
   "source": [
    "from sklearn.preprocessing import MinMaxScaler\n",
    "import pickle\n",
    "import pandas as pd\n",
    "from sections import VERTEX_FUNCTIONS\n",
    "\n",
    "l2_func, l2_params = VERTEX_FUNCTIONS['l2']\n",
    "\n",
    "def imshow(tensor):\n",
    "    \"\"\"show first image in a tensor\"\"\"\n",
    "    img = tensor[0].numpy() # shape(1,224,224) -> shape(224,224)\n",
    "    img = img.squeeze()\n",
    "    plt.imshow(img, cmap='gray');\n"
   ]
  },
  {
   "cell_type": "code",
   "execution_count": 12,
   "metadata": {},
   "outputs": [
    {
     "name": "stdout",
     "output_type": "stream",
     "text": [
      "L2\n",
      "Input size: 150, output size: 4\n",
      "parameter names: h, tw, ba, ra\n"
     ]
    }
   ],
   "source": [
    "model = regression.Net1.from_checkpoint(\"models/L2_flip_50.pt\")\n",
    "\n",
    "# scaler\n",
    "with open(\"dataset/L2_scaler.pkl\", \"rb\") as fp:\n",
    "    scaler = pickle.load(fp)"
   ]
  },
  {
   "cell_type": "code",
   "execution_count": 25,
   "metadata": {},
   "outputs": [
    {
     "data": {
      "image/png": "[encoded data removed]",
      "text/plain": [
       "<Figure size 432x288 with 1 Axes>"
      ]
     },
     "metadata": {
      "needs_background": "light"
     },
     "output_type": "display_data"
    }
   ],
   "source": [
    "i = 100\n",
    "area = 200\n",
    "\n",
    "# get data point\n",
    "ds = datasets['val']\n",
    "image, target = ds[i]\n",
    "# show image and target\n",
    "imshow(image)"
   ]
  },
  {
   "cell_type": "code",
   "execution_count": 26,
   "metadata": {},
   "outputs": [
    {
     "name": "stdout",
     "output_type": "stream",
     "text": [
      "torch.Size([1, 1, 150, 150])\n",
      "torch.float32\n",
      "tensor(1.)\n",
      "['h', 'tw', 'ba', 'ra']\n",
      "target (scaled):  [0.57958109 0.17546345 0.35267896 0.42270199]\n",
      "output (scaled):  [0.5708643  0.17169331 0.34657386 0.41010845]\n",
      "target (unscaled):  [85.71343023  1.78569646 33.9282328  12.49987524]\n",
      "output (unscaled):  [84.87359    1.7714759 33.39554   12.16095  ]\n"
     ]
    }
   ],
   "source": [
    "img = image.reshape(1, 1, IMAGE_SIZE, IMAGE_SIZE)\n",
    "print(img.shape)\n",
    "print(img.dtype)\n",
    "print(img.max())\n",
    "with torch.no_grad():\n",
    "    model.eval()\n",
    "    outputs = model.forward(img)\n",
    "    outputs = outputs.numpy()\n",
    "    \n",
    "# print raw target / output\n",
    "print(l2_params)\n",
    "\n",
    "print(\"target (scaled): \", target.squeeze())\n",
    "print(\"output (scaled): \", outputs.squeeze())\n",
    "\n",
    "# unscale both, multiply with reference length (sqrt(A))\n",
    "target_dim = np.sqrt(area) * scaler.inverse_transform(target.T)\n",
    "target_dim = target_dim.squeeze()\n",
    "output_dim = np.sqrt(area) * scaler.inverse_transform(outputs)\n",
    "output_dim = output_dim.squeeze()\n",
    "print(\"target (unscaled): \", target_dim)\n",
    "print(\"output (unscaled): \", output_dim)\n",
    "\n",
    "# generate vertices"
   ]
  },
  {
   "cell_type": "code",
   "execution_count": 27,
   "metadata": {},
   "outputs": [
    {
     "data": {
      "text/html": [
       "<div>\n",
       "<style scoped>\n",
       "    .dataframe tbody tr th:only-of-type {\n",
       "        vertical-align: middle;\n",
       "    }\n",
       "\n",
       "    .dataframe tbody tr th {\n",
       "        vertical-align: top;\n",
       "    }\n",
       "\n",
       "    .dataframe thead th {\n",
       "        text-align: right;\n",
       "    }\n",
       "</style>\n",
       "<table border=\"1\" class=\"dataframe\">\n",
       "  <thead>\n",
       "    <tr style=\"text-align: right;\">\n",
       "      <th></th>\n",
       "      <th>h</th>\n",
       "      <th>tw</th>\n",
       "      <th>ba</th>\n",
       "      <th>ra</th>\n",
       "    </tr>\n",
       "  </thead>\n",
       "  <tbody>\n",
       "    <tr>\n",
       "      <th>true</th>\n",
       "      <td>85.71</td>\n",
       "      <td>1.79</td>\n",
       "      <td>33.93</td>\n",
       "      <td>12.50</td>\n",
       "    </tr>\n",
       "    <tr>\n",
       "      <th>predicted</th>\n",
       "      <td>84.87</td>\n",
       "      <td>1.77</td>\n",
       "      <td>33.40</td>\n",
       "      <td>12.16</td>\n",
       "    </tr>\n",
       "  </tbody>\n",
       "</table>\n",
       "</div>"
      ],
      "text/plain": [
       "               h    tw     ba     ra\n",
       "true       85.71  1.79  33.93  12.50\n",
       "predicted  84.87  1.77  33.40  12.16"
      ]
     },
     "execution_count": 27,
     "metadata": {},
     "output_type": "execute_result"
    }
   ],
   "source": [
    "# show results\n",
    "df = pd.DataFrame([target_dim, output_dim], index=['true', 'predicted'], \n",
    "                  columns=l2_params)\n",
    "df.round(2)"
   ]
  },
  {
   "cell_type": "code",
   "execution_count": 28,
   "metadata": {},
   "outputs": [
    {
     "data": {
      "image/png": "[encoded data removed]",
      "text/plain": [
       "<Figure size 432x432 with 1 Axes>"
      ]
     },
     "metadata": {
      "needs_background": "light"
     },
     "output_type": "display_data"
    }
   ],
   "source": [
    "fig, ax = plt.subplots(figsize=(6, 6))\n",
    "\n",
    "# generate polygons\n",
    "true_o, true_i = l2_func(*target_dim.squeeze())\n",
    "pred_o, pred_i = l2_func(*output_dim.squeeze())\n",
    "\n",
    "\n",
    "for outer in true_o:\n",
    "    mppoly = plt.Polygon(outer, ec=\"k\", ls='--', fill=False, linewidth=1)\n",
    "    ax.add_patch(mppoly)\n",
    "for inner in true_i:\n",
    "    mppoly = plt.Polygon(inner, ec=\"k\", ls='--', fill=False, linewidth=1)\n",
    "    ax.add_patch(mppoly)\n",
    "    \n",
    "for outer in pred_o:\n",
    "    mppoly = plt.Polygon(outer, ec=\"r\", fill=False, linewidth=1)\n",
    "    ax.add_patch(mppoly)\n",
    "for inner in pred_i:\n",
    "    mppoly = plt.Polygon(inner, ec=\"r\", fill=False, linewidth=1)\n",
    "    ax.add_patch(mppoly)\n",
    "\n",
    "ax.autoscale(tight=False)\n",
    "ax.set_aspect(\"equal\")\n",
    "#ax.axis(\"off\");\n"
   ]
  },
  {
   "cell_type": "markdown",
   "metadata": {},
   "source": [
    "### Evaluate: Compute IOU"
   ]
  },
  {
   "cell_type": "code",
   "execution_count": null,
   "metadata": {},
   "outputs": [],
   "source": [
    "# to be completed"
   ]
  },
  {
   "cell_type": "markdown",
   "metadata": {},
   "source": [
    "### Full Loop: Input polygon vertices, create image "
   ]
  },
  {
   "cell_type": "code",
   "execution_count": null,
   "metadata": {},
   "outputs": [],
   "source": [
    "# to be completed"
   ]
  }
 ],
 "metadata": {
  "kernelspec": {
   "display_name": "Python 3",
   "language": "python",
   "name": "python3"
  },
  "language_info": {
   "codemirror_mode": {
    "name": "ipython",
    "version": 3
   },
   "file_extension": ".py",
   "mimetype": "text/x-python",
   "name": "python",
   "nbconvert_exporter": "python",
   "pygments_lexer": "ipython3",
   "version": "3.8.2"
  }
 },
 "nbformat": 4,
 "nbformat_minor": 4
}
