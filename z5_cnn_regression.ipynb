{
 "cells": [
  {
   "cell_type": "markdown",
   "metadata": {},
   "source": [
    "# CNN for Shape Dimensions: Z5"
   ]
  },
  {
   "cell_type": "code",
   "execution_count": 1,
   "metadata": {},
   "outputs": [],
   "source": [
    "%matplotlib inline\n",
    "import numpy as np\n",
    "import matplotlib.pyplot as plt\n",
    "import pandas as pd\n",
    "import os\n",
    "import copy\n",
    "\n",
    "import torch\n",
    "import torch.nn as nn\n",
    "import torch.nn.functional as F\n",
    "from torch.utils.data import DataLoader\n",
    "\n",
    "from data_load import ShapeDimensionDataset\n",
    "import regression"
   ]
  },
  {
   "cell_type": "markdown",
   "metadata": {},
   "source": [
    "## SETTINGS"
   ]
  },
  {
   "cell_type": "code",
   "execution_count": 2,
   "metadata": {},
   "outputs": [],
   "source": [
    "IMAGE_SIZE = 150\n",
    "BATCH_SIZE = 32"
   ]
  },
  {
   "cell_type": "markdown",
   "metadata": {},
   "source": [
    "## Datasets and Dataloaders\n",
    "\n",
    "omit test for the time being ..."
   ]
  },
  {
   "cell_type": "code",
   "execution_count": 3,
   "metadata": {},
   "outputs": [],
   "source": [
    "parameters = ['h', 'tw', 'ba', 'ta', 'ra', 'bf', 'tf', 'rf']\n",
    "target_cols = [s + \"_scaled\" for s in parameters] \n",
    "\n",
    "flip_transform = regression.flip_transform(IMAGE_SIZE)\n",
    "no_transform = regression.no_transform(IMAGE_SIZE)\n",
    "\n",
    "datasets = {\n",
    "    'train': ShapeDimensionDataset(\"dataset/Z5_train.csv\", \n",
    "                                   \"dataset/train/Z5/\",\n",
    "                                   transform=flip_transform, \n",
    "                                   target_cols=target_cols),\n",
    "    'val': ShapeDimensionDataset(\"dataset/Z5_val.csv\", \n",
    "                                 \"dataset/val/Z5/\",\n",
    "                                 transform=flip_transform, \n",
    "                                 target_cols=target_cols),    \n",
    "}"
   ]
  },
  {
   "cell_type": "code",
   "execution_count": 4,
   "metadata": {},
   "outputs": [],
   "source": [
    "dataloaders = {'train': DataLoader(datasets['train'], \n",
    "                                   batch_size=BATCH_SIZE,\n",
    "                                   shuffle=True, \n",
    "                                   num_workers=6),\n",
    "               'val': DataLoader(datasets['val'], \n",
    "                                 batch_size=BATCH_SIZE,\n",
    "                                 shuffle=False, \n",
    "                                 num_workers=6),                                       \n",
    "    }\n"
   ]
  },
  {
   "cell_type": "markdown",
   "metadata": {},
   "source": [
    "## Show something\n",
    "\n",
    "Convert PIL grayscale image (type=L) to np array (axes are still flipped):\n",
    "\n",
    "`img = np.frombuffer(img_.tobytes(), dtype=np.uint8).reshape(224,224)`\n",
    "\n",
    "Convert torch.Tensor to np array:\n",
    "\n"
   ]
  },
  {
   "cell_type": "code",
   "execution_count": 5,
   "metadata": {},
   "outputs": [
    {
     "name": "stdout",
     "output_type": "stream",
     "text": [
      "pixel value range: 0.0 1.0\n",
      "shape: (150, 150)\n",
      "dtype: float32\n",
      "[[0.25712872]\n",
      " [0.49350689]\n",
      " [0.33814161]\n",
      " [0.28498634]\n",
      " [0.53413673]\n",
      " [0.15327902]\n",
      " [0.55998151]\n",
      " [0.28855698]]\n"
     ]
    },
    {
     "data": {
      "image/png": "[encoded data removed]",
      "text/plain": [
       "<Figure size 432x288 with 1 Axes>"
      ]
     },
     "metadata": {
      "needs_background": "light"
     },
     "output_type": "display_data"
    }
   ],
   "source": [
    "ds = datasets['train']\n",
    "\n",
    "img_, y = ds[120]  \n",
    "# TODO: how to rotate ???\n",
    "img = img_[0].numpy() # shape(1,224,224) -> shape(224,224)\n",
    "img = img.squeeze()\n",
    "print(\"pixel value range:\", np.min(img), np.max(img))\n",
    "# TODO: these are grayscale (B/W) pictures. One depth dimension is enough.\n",
    "print(\"shape:\", img.shape)\n",
    "print(\"dtype:\", img.dtype)\n",
    "print(y)\n",
    "plt.imshow(img, cmap='gray');\n",
    "\n"
   ]
  },
  {
   "cell_type": "code",
   "execution_count": 6,
   "metadata": {},
   "outputs": [],
   "source": [
    "def plot_history(history, log=False):\n",
    "    \"\"\"history plot, return image\"\"\"\n",
    "    fig, ax = plt.subplots()\n",
    "    ax.plot(history['train'], \"o-\", label=\"train\")\n",
    "    ax.plot(history['val'], \"o-\", label=\"val\")\n",
    "    ax.set_xlabel(\"Epoch\")\n",
    "    ax.set_ylabel(\"Loss\")\n",
    "    if log:\n",
    "        ax.semilogy()\n",
    "    ax.grid()\n",
    "    ax.legend()"
   ]
  },
  {
   "cell_type": "markdown",
   "metadata": {},
   "source": [
    "## Settings"
   ]
  },
  {
   "cell_type": "code",
   "execution_count": 7,
   "metadata": {},
   "outputs": [
    {
     "name": "stdout",
     "output_type": "stream",
     "text": [
      "Net1(\n",
      "  (conv1): Conv2d(1, 8, kernel_size=(5, 5), stride=(2, 2))\n",
      "  (conv2): Conv2d(8, 16, kernel_size=(3, 3), stride=(1, 1))\n",
      "  (pool1): MaxPool2d(kernel_size=2, stride=2, padding=0, dilation=1, ceil_mode=False)\n",
      "  (pool2): MaxPool2d(kernel_size=2, stride=2, padding=0, dilation=1, ceil_mode=False)\n",
      "  (fc1): Linear(in_features=4624, out_features=1000, bias=True)\n",
      "  (fc2): Linear(in_features=1000, out_features=100, bias=True)\n",
      "  (fc3): Linear(in_features=100, out_features=8, bias=True)\n",
      ")\n"
     ]
    }
   ],
   "source": [
    "lr = 0.001\n",
    "\n",
    "model = regression.Net1(len(parameters), \n",
    "                        image_size=IMAGE_SIZE, \n",
    "                        param_names=parameters, \n",
    "                        description=\"Z5\")\n",
    "optimizer = torch.optim.Adam(model.parameters(), lr=lr)\n",
    "criterion = nn.MSELoss()\n",
    "print(model)\n",
    " "
   ]
  },
  {
   "cell_type": "code",
   "execution_count": 8,
   "metadata": {},
   "outputs": [
    {
     "name": "stdout",
     "output_type": "stream",
     "text": [
      "Epoch 1/50: train Loss: 0.014738 val Loss: 0.010278 \n",
      "\n",
      "Epoch 2/50: train Loss: 0.008693 val Loss: 0.008156 \n",
      "\n",
      "Epoch 3/50: train Loss: 0.007305 val Loss: 0.007116 \n",
      "\n",
      "Epoch 4/50: train Loss: 0.006572 val Loss: 0.006519 \n",
      "\n",
      "Epoch 5/50: train Loss: 0.005834 val Loss: 0.006041 \n",
      "\n",
      "Epoch 6/50: train Loss: 0.005345 val Loss: 0.005603 \n",
      "\n",
      "Epoch 7/50: train Loss: 0.004782 val Loss: 0.005316 \n",
      "\n",
      "Epoch 8/50: train Loss: 0.004353 val Loss: 0.004747 \n",
      "\n",
      "Epoch 9/50: train Loss: 0.003984 val Loss: 0.004431 \n",
      "\n",
      "Epoch 10/50: train Loss: 0.003696 val Loss: 0.004347 \n",
      "\n",
      "Epoch 11/50: train Loss: 0.003561 val Loss: 0.004165 \n",
      "\n",
      "Epoch 12/50: train Loss: 0.003298 val Loss: 0.003923 \n",
      "\n",
      "Epoch 13/50: train Loss: 0.003170 val Loss: 0.003926 \n",
      "\n",
      "Epoch 14/50: train Loss: 0.002976 val Loss: 0.004013 \n",
      "\n",
      "Epoch 15/50: train Loss: 0.002826 val Loss: 0.003373 \n",
      "\n",
      "Epoch 16/50: train Loss: 0.002683 val Loss: 0.003233 \n",
      "\n",
      "Epoch 17/50: train Loss: 0.002604 val Loss: 0.003180 \n",
      "\n",
      "Epoch 18/50: train Loss: 0.002598 val Loss: 0.005301 \n",
      "\n",
      "Epoch 19/50: train Loss: 0.002767 val Loss: 0.003083 \n",
      "\n",
      "Epoch 20/50: train Loss: 0.002295 val Loss: 0.003045 \n",
      "\n",
      "Epoch 21/50: train Loss: 0.002179 val Loss: 0.003090 \n",
      "\n",
      "Epoch 22/50: train Loss: 0.002057 val Loss: 0.002738 \n",
      "\n",
      "Epoch 23/50: train Loss: 0.001983 val Loss: 0.002766 \n",
      "\n",
      "Epoch 24/50: train Loss: 0.001904 val Loss: 0.002849 \n",
      "\n",
      "Epoch 25/50: train Loss: 0.001883 val Loss: 0.002814 \n",
      "\n",
      "Epoch 26/50: train Loss: 0.001868 val Loss: 0.002663 \n",
      "\n",
      "Epoch 27/50: train Loss: 0.001714 val Loss: 0.002635 \n",
      "\n",
      "Epoch 28/50: train Loss: 0.001717 val Loss: 0.002675 \n",
      "\n",
      "Epoch 29/50: train Loss: 0.001679 val Loss: 0.002567 \n",
      "\n",
      "Epoch 30/50: train Loss: 0.001584 val Loss: 0.002580 \n",
      "\n",
      "Epoch 31/50: train Loss: 0.001528 val Loss: 0.002405 \n",
      "\n",
      "Epoch 32/50: train Loss: 0.001496 val Loss: 0.002423 \n",
      "\n",
      "Epoch 33/50: train Loss: 0.001472 val Loss: 0.002467 \n",
      "\n",
      "Epoch 34/50: train Loss: 0.001417 val Loss: 0.002376 \n",
      "\n",
      "Epoch 35/50: train Loss: 0.001357 val Loss: 0.002455 \n",
      "\n",
      "Epoch 36/50: train Loss: 0.001315 val Loss: 0.002409 \n",
      "\n",
      "Epoch 37/50: train Loss: 0.001304 val Loss: 0.002428 \n",
      "\n",
      "Epoch 38/50: train Loss: 0.001296 val Loss: 0.002223 \n",
      "\n",
      "Epoch 39/50: train Loss: 0.001238 val Loss: 0.002322 \n",
      "\n",
      "Epoch 40/50: train Loss: 0.001168 val Loss: 0.002317 \n",
      "\n",
      "Epoch 41/50: train Loss: 0.001201 val Loss: 0.002288 \n",
      "\n",
      "Epoch 42/50: train Loss: 0.001168 val Loss: 0.002226 \n",
      "\n",
      "Epoch 43/50: train Loss: 0.001121 val Loss: 0.002213 \n",
      "\n",
      "Epoch 44/50: train Loss: 0.001104 val Loss: 0.002202 \n",
      "\n",
      "Epoch 45/50: train Loss: 0.001041 val Loss: 0.002200 \n",
      "\n",
      "Epoch 46/50: train Loss: 0.001035 val Loss: 0.002301 \n",
      "\n",
      "Epoch 47/50: train Loss: 0.001032 val Loss: 0.002177 \n",
      "\n",
      "Epoch 48/50: train Loss: 0.001017 val Loss: 0.002236 \n",
      "\n",
      "Epoch 49/50: train Loss: 0.000987 val Loss: 0.002180 \n",
      "\n",
      "Epoch 50/50: train Loss: 0.000971 val Loss: 0.002208 \n",
      "\n",
      "\n",
      "Best val loss: 0.002177\n"
     ]
    },
    {
     "data": {
      "image/png": "[encoded data removed]",
      "text/plain": [
       "<Figure size 432x288 with 1 Axes>"
      ]
     },
     "metadata": {
      "needs_background": "light"
     },
     "output_type": "display_data"
    }
   ],
   "source": [
    "if 1 == 1:\n",
    "    hist = regression.train_regression(model, dataloaders, criterion, optimizer, num_epochs=50)\n",
    "    plot_history(hist, log=True)\n",
    "    model.save_checkpoint(\"models/Z5_flip_50.pt\")"
   ]
  },
  {
   "cell_type": "markdown",
   "metadata": {},
   "source": [
    "Ah, great! It works!"
   ]
  },
  {
   "cell_type": "code",
   "execution_count": 10,
   "metadata": {},
   "outputs": [],
   "source": [
    "import json\n",
    "with open(\"history_Z5_flip_50.json\", \"w\") as fp:\n",
    "    json.dump(hist, fp, indent=2)"
   ]
  },
  {
   "cell_type": "markdown",
   "metadata": {},
   "source": [
    "# Inference"
   ]
  },
  {
   "cell_type": "markdown",
   "metadata": {},
   "source": [
    "### Utilities"
   ]
  },
  {
   "cell_type": "code",
   "execution_count": 11,
   "metadata": {},
   "outputs": [],
   "source": [
    "from sklearn.preprocessing import MinMaxScaler\n",
    "import pickle\n",
    "import pandas as pd\n",
    "from sections import VERTEX_FUNCTIONS\n",
    "\n",
    "func, params = VERTEX_FUNCTIONS['z5']\n",
    "\n",
    "def imshow(tensor):\n",
    "    \"\"\"show first image in a tensor\"\"\"\n",
    "    img = tensor[0].numpy() # shape(1,224,224) -> shape(224,224)\n",
    "    img = img.squeeze()\n",
    "    plt.imshow(img, cmap='gray');\n"
   ]
  },
  {
   "cell_type": "code",
   "execution_count": 12,
   "metadata": {},
   "outputs": [
    {
     "name": "stdout",
     "output_type": "stream",
     "text": [
      "Z5\n",
      "Input size: 150, output size: 8\n",
      "parameter names: h, tw, ba, ta, ra, bf, tf, rf\n"
     ]
    }
   ],
   "source": [
    "model = regression.Net1.from_checkpoint(\"models/Z5_flip_50.pt\")\n",
    "\n",
    "# scaler\n",
    "with open(\"dataset/Z5_scaler.pkl\", \"rb\") as fp:\n",
    "    scaler = pickle.load(fp)"
   ]
  },
  {
   "cell_type": "code",
   "execution_count": 13,
   "metadata": {},
   "outputs": [
    {
     "data": {
      "image/png": "[encoded data removed]",
      "text/plain": [
       "<Figure size 432x288 with 1 Axes>"
      ]
     },
     "metadata": {
      "needs_background": "light"
     },
     "output_type": "display_data"
    }
   ],
   "source": [
    "i = 309\n",
    "area = 200\n",
    "\n",
    "# get data point\n",
    "ds = datasets['val']\n",
    "image, target = ds[i]\n",
    "# show image and target\n",
    "imshow(image)"
   ]
  },
  {
   "cell_type": "code",
   "execution_count": 14,
   "metadata": {},
   "outputs": [
    {
     "name": "stdout",
     "output_type": "stream",
     "text": [
      "torch.Size([1, 1, 150, 150])\n",
      "torch.float32\n",
      "tensor(1.)\n",
      "['h', 'tw', 'ba', 'ta', 'ra', 'bf', 'tf', 'rf']\n",
      "target (scaled):  [0.32285505 0.28146379 0.20225719 0.39412333 0.10727068 0.58652705\n",
      " 0.19768611 0.25230829]\n",
      "output (scaled):  [0.32382423 0.31552467 0.22534817 0.36743897 0.12170105 0.5973806\n",
      " 0.18365622 0.25291252]\n",
      "target (unscaled):  [40.07876273  1.86566179 11.99156517  3.3940658   2.27010512 45.99050894\n",
      "  1.95920062  3.87533568]\n",
      "output (unscaled):  [40.140766   1.9666512 12.958098   3.2033346  2.3884656 46.740047\n",
      "  1.864968   3.8812242]\n"
     ]
    }
   ],
   "source": [
    "img = image.reshape(1, 1, IMAGE_SIZE, IMAGE_SIZE)\n",
    "print(img.shape)\n",
    "print(img.dtype)\n",
    "print(img.max())\n",
    "with torch.no_grad():\n",
    "    model.eval()\n",
    "    outputs = model.forward(img)\n",
    "    outputs = outputs.numpy()\n",
    "    \n",
    "# print raw target / output\n",
    "print(params)\n",
    "\n",
    "print(\"target (scaled): \", target.squeeze())\n",
    "print(\"output (scaled): \", outputs.squeeze())\n",
    "\n",
    "# unscale both, multiply with reference length (sqrt(A))\n",
    "target_dim = np.sqrt(area) * scaler.inverse_transform(target.T)\n",
    "target_dim = target_dim.squeeze()\n",
    "output_dim = np.sqrt(area) * scaler.inverse_transform(outputs)\n",
    "output_dim = output_dim.squeeze()\n",
    "print(\"target (unscaled): \", target_dim)\n",
    "print(\"output (unscaled): \", output_dim)\n",
    "\n",
    "# generate vertices"
   ]
  },
  {
   "cell_type": "code",
   "execution_count": 15,
   "metadata": {},
   "outputs": [
    {
     "data": {
      "text/html": [
       "<div>\n",
       "<style scoped>\n",
       "    .dataframe tbody tr th:only-of-type {\n",
       "        vertical-align: middle;\n",
       "    }\n",
       "\n",
       "    .dataframe tbody tr th {\n",
       "        vertical-align: top;\n",
       "    }\n",
       "\n",
       "    .dataframe thead th {\n",
       "        text-align: right;\n",
       "    }\n",
       "</style>\n",
       "<table border=\"1\" class=\"dataframe\">\n",
       "  <thead>\n",
       "    <tr style=\"text-align: right;\">\n",
       "      <th></th>\n",
       "      <th>h</th>\n",
       "      <th>tw</th>\n",
       "      <th>ba</th>\n",
       "      <th>ta</th>\n",
       "      <th>ra</th>\n",
       "      <th>bf</th>\n",
       "      <th>tf</th>\n",
       "      <th>rf</th>\n",
       "    </tr>\n",
       "  </thead>\n",
       "  <tbody>\n",
       "    <tr>\n",
       "      <th>true</th>\n",
       "      <td>40.08</td>\n",
       "      <td>1.87</td>\n",
       "      <td>11.99</td>\n",
       "      <td>3.39</td>\n",
       "      <td>2.27</td>\n",
       "      <td>45.99</td>\n",
       "      <td>1.96</td>\n",
       "      <td>3.88</td>\n",
       "    </tr>\n",
       "    <tr>\n",
       "      <th>predicted</th>\n",
       "      <td>40.14</td>\n",
       "      <td>1.97</td>\n",
       "      <td>12.96</td>\n",
       "      <td>3.20</td>\n",
       "      <td>2.39</td>\n",
       "      <td>46.74</td>\n",
       "      <td>1.86</td>\n",
       "      <td>3.88</td>\n",
       "    </tr>\n",
       "  </tbody>\n",
       "</table>\n",
       "</div>"
      ],
      "text/plain": [
       "               h    tw     ba    ta    ra     bf    tf    rf\n",
       "true       40.08  1.87  11.99  3.39  2.27  45.99  1.96  3.88\n",
       "predicted  40.14  1.97  12.96  3.20  2.39  46.74  1.86  3.88"
      ]
     },
     "execution_count": 15,
     "metadata": {},
     "output_type": "execute_result"
    }
   ],
   "source": [
    "# show results\n",
    "df = pd.DataFrame([target_dim, output_dim], index=['true', 'predicted'], \n",
    "                  columns=params)\n",
    "df.round(2)"
   ]
  },
  {
   "cell_type": "code",
   "execution_count": 16,
   "metadata": {},
   "outputs": [
    {
     "data": {
      "image/png": "[encoded data removed]",
      "text/plain": [
       "<Figure size 432x432 with 1 Axes>"
      ]
     },
     "metadata": {
      "needs_background": "light"
     },
     "output_type": "display_data"
    }
   ],
   "source": [
    "fig, ax = plt.subplots(figsize=(6, 6))\n",
    "\n",
    "# generate polygons\n",
    "true_o, true_i = func(*target_dim.squeeze())\n",
    "pred_o, pred_i = func(*output_dim.squeeze())\n",
    "\n",
    "\n",
    "for outer in true_o:\n",
    "    mppoly = plt.Polygon(outer, ec=\"k\", ls='--', fill=False, linewidth=1)\n",
    "    ax.add_patch(mppoly)\n",
    "for inner in true_i:\n",
    "    mppoly = plt.Polygon(inner, ec=\"k\", ls='--', fill=False, linewidth=1)\n",
    "    ax.add_patch(mppoly)\n",
    "    \n",
    "for outer in pred_o:\n",
    "    mppoly = plt.Polygon(outer, ec=\"r\", fill=False, linewidth=1)\n",
    "    ax.add_patch(mppoly)\n",
    "for inner in pred_i:\n",
    "    mppoly = plt.Polygon(inner, ec=\"r\", fill=False, linewidth=1)\n",
    "    ax.add_patch(mppoly)\n",
    "\n",
    "ax.autoscale(tight=False)\n",
    "ax.set_aspect(\"equal\")\n",
    "#ax.axis(\"off\");\n"
   ]
  },
  {
   "cell_type": "markdown",
   "metadata": {},
   "source": [
    "### Evaluate: Compute IOU"
   ]
  },
  {
   "cell_type": "code",
   "execution_count": null,
   "metadata": {},
   "outputs": [],
   "source": [
    "# to be completed"
   ]
  },
  {
   "cell_type": "markdown",
   "metadata": {},
   "source": [
    "### Full Loop: Input polygon vertices, create image "
   ]
  },
  {
   "cell_type": "code",
   "execution_count": null,
   "metadata": {},
   "outputs": [],
   "source": [
    "# to be completed"
   ]
  }
 ],
 "metadata": {
  "kernelspec": {
   "display_name": "Python 3",
   "language": "python",
   "name": "python3"
  },
  "language_info": {
   "codemirror_mode": {
    "name": "ipython",
    "version": 3
   },
   "file_extension": ".py",
   "mimetype": "text/x-python",
   "name": "python",
   "nbconvert_exporter": "python",
   "pygments_lexer": "ipython3",
   "version": "3.8.2"
  }
 },
 "nbformat": 4,
 "nbformat_minor": 4
}
