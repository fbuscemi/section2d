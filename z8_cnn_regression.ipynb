{
 "cells": [
  {
   "cell_type": "markdown",
   "metadata": {},
   "source": [
    "# CNN for Shape Dimensions: Z8"
   ]
  },
  {
   "cell_type": "code",
   "execution_count": 1,
   "metadata": {},
   "outputs": [],
   "source": [
    "%matplotlib inline\n",
    "import numpy as np\n",
    "import matplotlib.pyplot as plt\n",
    "import pandas as pd\n",
    "import os\n",
    "import copy\n",
    "\n",
    "import torch\n",
    "import torch.nn as nn\n",
    "import torch.nn.functional as F\n",
    "from torch.utils.data import DataLoader\n",
    "\n",
    "from data_load import ShapeDimensionDataset\n",
    "import regression"
   ]
  },
  {
   "cell_type": "markdown",
   "metadata": {},
   "source": [
    "## SETTINGS"
   ]
  },
  {
   "cell_type": "code",
   "execution_count": 2,
   "metadata": {},
   "outputs": [],
   "source": [
    "IMAGE_SIZE = 150\n",
    "BATCH_SIZE = 32"
   ]
  },
  {
   "cell_type": "markdown",
   "metadata": {},
   "source": [
    "## Datasets and Dataloaders\n",
    "\n",
    "omit test for the time being ..."
   ]
  },
  {
   "cell_type": "code",
   "execution_count": 3,
   "metadata": {},
   "outputs": [],
   "source": [
    "parameters = [\"h\", \"tw\", \"ba\", \"ta\", \"ra\", \"rf\"]\n",
    "target_cols = [s + \"_scaled\" for s in parameters] \n",
    "\n",
    "flip_transform = regression.flip_transform(IMAGE_SIZE)\n",
    "no_transform = regression.no_transform(IMAGE_SIZE)\n",
    "\n",
    "datasets = {\n",
    "    'train': ShapeDimensionDataset(\"dataset/Z8_train.csv\", \n",
    "                                   \"dataset/train/Z8/\",\n",
    "                                   transform=flip_transform, \n",
    "                                   target_cols=target_cols),\n",
    "    'val': ShapeDimensionDataset(\"dataset/Z8_val.csv\", \n",
    "                                 \"dataset/val/Z8/\",\n",
    "                                 transform=flip_transform, \n",
    "                                 target_cols=target_cols),    \n",
    "}"
   ]
  },
  {
   "cell_type": "code",
   "execution_count": 4,
   "metadata": {},
   "outputs": [],
   "source": [
    "dataloaders = {'train': DataLoader(datasets['train'], \n",
    "                                   batch_size=BATCH_SIZE,\n",
    "                                   shuffle=True, \n",
    "                                   num_workers=6),\n",
    "               'val': DataLoader(datasets['val'], \n",
    "                                 batch_size=BATCH_SIZE,\n",
    "                                 shuffle=False, \n",
    "                                 num_workers=6),                                       \n",
    "    }\n"
   ]
  },
  {
   "cell_type": "markdown",
   "metadata": {},
   "source": [
    "## Show something\n",
    "\n",
    "Convert PIL grayscale image (type=L) to np array (axes are still flipped):\n",
    "\n",
    "`img = np.frombuffer(img_.tobytes(), dtype=np.uint8).reshape(224,224)`\n",
    "\n",
    "Convert torch.Tensor to np array:\n",
    "\n"
   ]
  },
  {
   "cell_type": "code",
   "execution_count": 5,
   "metadata": {},
   "outputs": [
    {
     "name": "stdout",
     "output_type": "stream",
     "text": [
      "pixel value range: 0.0 1.0\n",
      "shape: (150, 150)\n",
      "dtype: float32\n",
      "[[0.5696192 ]\n",
      " [0.15266086]\n",
      " [0.40518883]\n",
      " [0.15482337]\n",
      " [0.39337117]\n",
      " [0.69075732]]\n"
     ]
    },
    {
     "data": {
      "image/png": "[encoded data removed]",
      "text/plain": [
       "<Figure size 432x288 with 1 Axes>"
      ]
     },
     "metadata": {
      "needs_background": "light"
     },
     "output_type": "display_data"
    }
   ],
   "source": [
    "ds = datasets['train']\n",
    "\n",
    "img_, y = ds[120]  \n",
    "# TODO: how to rotate ???\n",
    "img = img_[0].numpy() # shape(1,224,224) -> shape(224,224)\n",
    "img = img.squeeze()\n",
    "print(\"pixel value range:\", np.min(img), np.max(img))\n",
    "# TODO: these are grayscale (B/W) pictures. One depth dimension is enough.\n",
    "print(\"shape:\", img.shape)\n",
    "print(\"dtype:\", img.dtype)\n",
    "print(y)\n",
    "plt.imshow(img, cmap='gray');\n",
    "\n"
   ]
  },
  {
   "cell_type": "code",
   "execution_count": 6,
   "metadata": {},
   "outputs": [],
   "source": [
    "def plot_history(history, log=False):\n",
    "    \"\"\"history plot, return image\"\"\"\n",
    "    fig, ax = plt.subplots()\n",
    "    ax.plot(history['train'], \"o-\", label=\"train\")\n",
    "    ax.plot(history['val'], \"o-\", label=\"val\")\n",
    "    ax.set_xlabel(\"Epoch\")\n",
    "    ax.set_ylabel(\"Loss\")\n",
    "    if log:\n",
    "        ax.semilogy()\n",
    "    ax.grid()\n",
    "    ax.legend()"
   ]
  },
  {
   "cell_type": "markdown",
   "metadata": {},
   "source": [
    "## Settings"
   ]
  },
  {
   "cell_type": "code",
   "execution_count": 7,
   "metadata": {},
   "outputs": [
    {
     "name": "stdout",
     "output_type": "stream",
     "text": [
      "Net1(\n",
      "  (conv1): Conv2d(1, 8, kernel_size=(5, 5), stride=(2, 2))\n",
      "  (conv2): Conv2d(8, 16, kernel_size=(3, 3), stride=(1, 1))\n",
      "  (pool1): MaxPool2d(kernel_size=2, stride=2, padding=0, dilation=1, ceil_mode=False)\n",
      "  (pool2): MaxPool2d(kernel_size=2, stride=2, padding=0, dilation=1, ceil_mode=False)\n",
      "  (fc1): Linear(in_features=4624, out_features=1000, bias=True)\n",
      "  (fc2): Linear(in_features=1000, out_features=100, bias=True)\n",
      "  (fc3): Linear(in_features=100, out_features=6, bias=True)\n",
      ")\n"
     ]
    }
   ],
   "source": [
    "lr = 0.001\n",
    "\n",
    "model = regression.Net1(len(parameters), \n",
    "                        image_size=IMAGE_SIZE, \n",
    "                        param_names=parameters, \n",
    "                        description=\"Z8\")\n",
    "optimizer = torch.optim.Adam(model.parameters(), lr=lr)\n",
    "criterion = nn.MSELoss()\n",
    "print(model)\n",
    " "
   ]
  },
  {
   "cell_type": "code",
   "execution_count": 8,
   "metadata": {},
   "outputs": [
    {
     "name": "stdout",
     "output_type": "stream",
     "text": [
      "Epoch 1/50: train Loss: 0.010362 val Loss: 0.004317 \n",
      "\n",
      "Epoch 2/50: train Loss: 0.003773 val Loss: 0.003227 \n",
      "\n",
      "Epoch 3/50: train Loss: 0.003305 val Loss: 0.002856 \n",
      "\n",
      "Epoch 4/50: train Loss: 0.002746 val Loss: 0.002660 \n",
      "\n",
      "Epoch 5/50: train Loss: 0.002506 val Loss: 0.002530 \n",
      "\n",
      "Epoch 6/50: train Loss: 0.002203 val Loss: 0.002213 \n",
      "\n",
      "Epoch 7/50: train Loss: 0.001801 val Loss: 0.001954 \n",
      "\n",
      "Epoch 8/50: train Loss: 0.001686 val Loss: 0.001887 \n",
      "\n",
      "Epoch 9/50: train Loss: 0.001469 val Loss: 0.001365 \n",
      "\n",
      "Epoch 10/50: train Loss: 0.001369 val Loss: 0.001378 \n",
      "\n",
      "Epoch 11/50: train Loss: 0.001275 val Loss: 0.001225 \n",
      "\n",
      "Epoch 12/50: train Loss: 0.001183 val Loss: 0.001310 \n",
      "\n",
      "Epoch 13/50: train Loss: 0.001109 val Loss: 0.001263 \n",
      "\n",
      "Epoch 14/50: train Loss: 0.001040 val Loss: 0.001254 \n",
      "\n",
      "Epoch 15/50: train Loss: 0.000926 val Loss: 0.000947 \n",
      "\n",
      "Epoch 16/50: train Loss: 0.000923 val Loss: 0.000931 \n",
      "\n",
      "Epoch 17/50: train Loss: 0.000837 val Loss: 0.000917 \n",
      "\n",
      "Epoch 18/50: train Loss: 0.000819 val Loss: 0.000983 \n",
      "\n",
      "Epoch 19/50: train Loss: 0.000836 val Loss: 0.000874 \n",
      "\n",
      "Epoch 20/50: train Loss: 0.000751 val Loss: 0.000959 \n",
      "\n",
      "Epoch 21/50: train Loss: 0.000755 val Loss: 0.000809 \n",
      "\n",
      "Epoch 22/50: train Loss: 0.000696 val Loss: 0.000757 \n",
      "\n",
      "Epoch 23/50: train Loss: 0.000645 val Loss: 0.000718 \n",
      "\n",
      "Epoch 24/50: train Loss: 0.000597 val Loss: 0.000746 \n",
      "\n",
      "Epoch 25/50: train Loss: 0.000632 val Loss: 0.000740 \n",
      "\n",
      "Epoch 26/50: train Loss: 0.000587 val Loss: 0.000798 \n",
      "\n",
      "Epoch 27/50: train Loss: 0.000544 val Loss: 0.000714 \n",
      "\n",
      "Epoch 28/50: train Loss: 0.000531 val Loss: 0.000716 \n",
      "\n",
      "Epoch 29/50: train Loss: 0.000540 val Loss: 0.000696 \n",
      "\n",
      "Epoch 30/50: train Loss: 0.000543 val Loss: 0.000611 \n",
      "\n",
      "Epoch 31/50: train Loss: 0.000503 val Loss: 0.000633 \n",
      "\n",
      "Epoch 32/50: train Loss: 0.000475 val Loss: 0.000606 \n",
      "\n",
      "Epoch 33/50: train Loss: 0.000540 val Loss: 0.000636 \n",
      "\n",
      "Epoch 34/50: train Loss: 0.000520 val Loss: 0.000596 \n",
      "\n",
      "Epoch 35/50: train Loss: 0.000456 val Loss: 0.000588 \n",
      "\n",
      "Epoch 36/50: train Loss: 0.000450 val Loss: 0.000614 \n",
      "\n",
      "Epoch 37/50: train Loss: 0.000420 val Loss: 0.000563 \n",
      "\n",
      "Epoch 38/50: train Loss: 0.000423 val Loss: 0.000553 \n",
      "\n",
      "Epoch 39/50: train Loss: 0.000418 val Loss: 0.000598 \n",
      "\n",
      "Epoch 40/50: train Loss: 0.000407 val Loss: 0.000547 \n",
      "\n",
      "Epoch 41/50: train Loss: 0.000406 val Loss: 0.000568 \n",
      "\n",
      "Epoch 42/50: train Loss: 0.000376 val Loss: 0.000500 \n",
      "\n",
      "Epoch 43/50: train Loss: 0.000370 val Loss: 0.000503 \n",
      "\n",
      "Epoch 44/50: train Loss: 0.000368 val Loss: 0.000505 \n",
      "\n",
      "Epoch 45/50: train Loss: 0.000402 val Loss: 0.000486 \n",
      "\n",
      "Epoch 46/50: train Loss: 0.000362 val Loss: 0.000488 \n",
      "\n",
      "Epoch 47/50: train Loss: 0.000346 val Loss: 0.000520 \n",
      "\n",
      "Epoch 48/50: train Loss: 0.000338 val Loss: 0.000488 \n",
      "\n",
      "Epoch 49/50: train Loss: 0.000331 val Loss: 0.000465 \n",
      "\n",
      "Epoch 50/50: train Loss: 0.000346 val Loss: 0.000490 \n",
      "\n",
      "\n",
      "Best val loss: 0.000465\n"
     ]
    },
    {
     "data": {
      "image/png": "[encoded data removed]",
      "text/plain": [
       "<Figure size 432x288 with 1 Axes>"
      ]
     },
     "metadata": {
      "needs_background": "light"
     },
     "output_type": "display_data"
    }
   ],
   "source": [
    "if 1 == 1:\n",
    "    hist = regression.train_regression(model, dataloaders, criterion, optimizer, num_epochs=50)\n",
    "    plot_history(hist, log=True)\n",
    "    model.save_checkpoint(\"models/Z8_flip_50.pt\")"
   ]
  },
  {
   "cell_type": "markdown",
   "metadata": {},
   "source": [
    "Ah, great! It works!"
   ]
  },
  {
   "cell_type": "code",
   "execution_count": 9,
   "metadata": {},
   "outputs": [],
   "source": [
    "import json\n",
    "with open(\"history_Z8_flip_50.json\", \"w\") as fp:\n",
    "    json.dump(hist, fp, indent=2)"
   ]
  },
  {
   "cell_type": "markdown",
   "metadata": {},
   "source": [
    "# Inference"
   ]
  },
  {
   "cell_type": "markdown",
   "metadata": {},
   "source": [
    "### Utilities"
   ]
  },
  {
   "cell_type": "code",
   "execution_count": 10,
   "metadata": {},
   "outputs": [],
   "source": [
    "from sklearn.preprocessing import MinMaxScaler\n",
    "import pickle\n",
    "import pandas as pd\n",
    "from sections import VERTEX_FUNCTIONS\n",
    "\n",
    "func, params = VERTEX_FUNCTIONS['z8']\n",
    "\n",
    "def imshow(tensor):\n",
    "    \"\"\"show first image in a tensor\"\"\"\n",
    "    img = tensor[0].numpy() # shape(1,224,224) -> shape(224,224)\n",
    "    img = img.squeeze()\n",
    "    plt.imshow(img, cmap='gray');\n"
   ]
  },
  {
   "cell_type": "code",
   "execution_count": 11,
   "metadata": {},
   "outputs": [
    {
     "name": "stdout",
     "output_type": "stream",
     "text": [
      "Z8\n",
      "Input size: 150, output size: 6\n",
      "parameter names: h, tw, ba, ta, ra, rf\n"
     ]
    }
   ],
   "source": [
    "model = regression.Net1.from_checkpoint(\"models/Z8_flip_50.pt\")\n",
    "\n",
    "# scaler\n",
    "with open(\"dataset/Z8_scaler.pkl\", \"rb\") as fp:\n",
    "    scaler = pickle.load(fp)"
   ]
  },
  {
   "cell_type": "code",
   "execution_count": 12,
   "metadata": {},
   "outputs": [
    {
     "data": {
      "image/png": "[encoded data removed]",
      "text/plain": [
       "<Figure size 432x288 with 1 Axes>"
      ]
     },
     "metadata": {
      "needs_background": "light"
     },
     "output_type": "display_data"
    }
   ],
   "source": [
    "i = 308\n",
    "area = 200\n",
    "\n",
    "# get data point\n",
    "ds = datasets['val']\n",
    "image, target = ds[i]\n",
    "# show image and target\n",
    "imshow(image)"
   ]
  },
  {
   "cell_type": "code",
   "execution_count": 13,
   "metadata": {},
   "outputs": [
    {
     "name": "stdout",
     "output_type": "stream",
     "text": [
      "torch.Size([1, 1, 150, 150])\n",
      "torch.float32\n",
      "tensor(1.)\n",
      "['h', 'tw', 'ba', 'ta', 'ra', 'rf']\n",
      "target (scaled):  [0.55317284 0.20407387 0.51315019 0.09622514 0.15609522 0.65172871]\n",
      "output (scaled):  [0.5481777  0.21146378 0.524534   0.10159152 0.12499031 0.6367573 ]\n",
      "target (unscaled):  [61.30893139  1.53272328 29.12174241  1.53272328  3.06544657 19.9254027 ]\n",
      "output (unscaled):  [60.973434   1.5536736 29.706245   1.5828838  2.6491113 19.588173 ]\n"
     ]
    }
   ],
   "source": [
    "img = image.reshape(1, 1, IMAGE_SIZE, IMAGE_SIZE)\n",
    "print(img.shape)\n",
    "print(img.dtype)\n",
    "print(img.max())\n",
    "with torch.no_grad():\n",
    "    model.eval()\n",
    "    outputs = model.forward(img)\n",
    "    outputs = outputs.numpy()\n",
    "    \n",
    "# print raw target / output\n",
    "print(params)\n",
    "\n",
    "print(\"target (scaled): \", target.squeeze())\n",
    "print(\"output (scaled): \", outputs.squeeze())\n",
    "\n",
    "# unscale both, multiply with reference length (sqrt(A))\n",
    "target_dim = np.sqrt(area) * scaler.inverse_transform(target.T)\n",
    "target_dim = target_dim.squeeze()\n",
    "output_dim = np.sqrt(area) * scaler.inverse_transform(outputs)\n",
    "output_dim = output_dim.squeeze()\n",
    "print(\"target (unscaled): \", target_dim)\n",
    "print(\"output (unscaled): \", output_dim)\n",
    "\n",
    "# generate vertices"
   ]
  },
  {
   "cell_type": "code",
   "execution_count": 14,
   "metadata": {},
   "outputs": [
    {
     "data": {
      "text/html": [
       "<div>\n",
       "<style scoped>\n",
       "    .dataframe tbody tr th:only-of-type {\n",
       "        vertical-align: middle;\n",
       "    }\n",
       "\n",
       "    .dataframe tbody tr th {\n",
       "        vertical-align: top;\n",
       "    }\n",
       "\n",
       "    .dataframe thead th {\n",
       "        text-align: right;\n",
       "    }\n",
       "</style>\n",
       "<table border=\"1\" class=\"dataframe\">\n",
       "  <thead>\n",
       "    <tr style=\"text-align: right;\">\n",
       "      <th></th>\n",
       "      <th>h</th>\n",
       "      <th>tw</th>\n",
       "      <th>ba</th>\n",
       "      <th>ta</th>\n",
       "      <th>ra</th>\n",
       "      <th>rf</th>\n",
       "    </tr>\n",
       "  </thead>\n",
       "  <tbody>\n",
       "    <tr>\n",
       "      <th>true</th>\n",
       "      <td>61.31</td>\n",
       "      <td>1.53</td>\n",
       "      <td>29.12</td>\n",
       "      <td>1.53</td>\n",
       "      <td>3.07</td>\n",
       "      <td>19.93</td>\n",
       "    </tr>\n",
       "    <tr>\n",
       "      <th>predicted</th>\n",
       "      <td>60.97</td>\n",
       "      <td>1.55</td>\n",
       "      <td>29.71</td>\n",
       "      <td>1.58</td>\n",
       "      <td>2.65</td>\n",
       "      <td>19.59</td>\n",
       "    </tr>\n",
       "  </tbody>\n",
       "</table>\n",
       "</div>"
      ],
      "text/plain": [
       "               h    tw     ba    ta    ra     rf\n",
       "true       61.31  1.53  29.12  1.53  3.07  19.93\n",
       "predicted  60.97  1.55  29.71  1.58  2.65  19.59"
      ]
     },
     "execution_count": 14,
     "metadata": {},
     "output_type": "execute_result"
    }
   ],
   "source": [
    "# show results\n",
    "df = pd.DataFrame([target_dim, output_dim], index=['true', 'predicted'], \n",
    "                  columns=params)\n",
    "df.round(2)"
   ]
  },
  {
   "cell_type": "code",
   "execution_count": 15,
   "metadata": {},
   "outputs": [
    {
     "data": {
      "image/png": "[encoded data removed]",
      "text/plain": [
       "<Figure size 432x432 with 1 Axes>"
      ]
     },
     "metadata": {
      "needs_background": "light"
     },
     "output_type": "display_data"
    }
   ],
   "source": [
    "fig, ax = plt.subplots(figsize=(6, 6))\n",
    "\n",
    "# generate polygons\n",
    "true_o, true_i = func(*target_dim.squeeze())\n",
    "pred_o, pred_i = func(*output_dim.squeeze())\n",
    "\n",
    "\n",
    "for outer in true_o:\n",
    "    mppoly = plt.Polygon(outer, ec=\"k\", ls='--', fill=False, linewidth=1)\n",
    "    ax.add_patch(mppoly)\n",
    "for inner in true_i:\n",
    "    mppoly = plt.Polygon(inner, ec=\"k\", ls='--', fill=False, linewidth=1)\n",
    "    ax.add_patch(mppoly)\n",
    "    \n",
    "for outer in pred_o:\n",
    "    mppoly = plt.Polygon(outer, ec=\"r\", fill=False, linewidth=1)\n",
    "    ax.add_patch(mppoly)\n",
    "for inner in pred_i:\n",
    "    mppoly = plt.Polygon(inner, ec=\"r\", fill=False, linewidth=1)\n",
    "    ax.add_patch(mppoly)\n",
    "\n",
    "ax.autoscale(tight=False)\n",
    "ax.set_aspect(\"equal\")\n",
    "#ax.axis(\"off\");\n"
   ]
  },
  {
   "cell_type": "markdown",
   "metadata": {},
   "source": [
    "### Evaluate: Compute IOU"
   ]
  },
  {
   "cell_type": "code",
   "execution_count": null,
   "metadata": {},
   "outputs": [],
   "source": [
    "# to be completed"
   ]
  },
  {
   "cell_type": "markdown",
   "metadata": {},
   "source": [
    "### Full Loop: Input polygon vertices, create image "
   ]
  },
  {
   "cell_type": "code",
   "execution_count": null,
   "metadata": {},
   "outputs": [],
   "source": [
    "# to be completed"
   ]
  }
 ],
 "metadata": {
  "kernelspec": {
   "display_name": "Python 3",
   "language": "python",
   "name": "python3"
  },
  "language_info": {
   "codemirror_mode": {
    "name": "ipython",
    "version": 3
   },
   "file_extension": ".py",
   "mimetype": "text/x-python",
   "name": "python",
   "nbconvert_exporter": "python",
   "pygments_lexer": "ipython3",
   "version": "3.8.2"
  }
 },
 "nbformat": 4,
 "nbformat_minor": 4
}
