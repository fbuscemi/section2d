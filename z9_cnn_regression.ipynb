{
 "cells": [
  {
   "cell_type": "markdown",
   "metadata": {},
   "source": [
    "# CNN for Shape Dimensions: Z9"
   ]
  },
  {
   "cell_type": "code",
   "execution_count": 1,
   "metadata": {},
   "outputs": [],
   "source": [
    "%matplotlib inline\n",
    "import numpy as np\n",
    "import matplotlib.pyplot as plt\n",
    "import pandas as pd\n",
    "import os\n",
    "import copy\n",
    "\n",
    "import torch\n",
    "import torch.nn as nn\n",
    "import torch.nn.functional as F\n",
    "from torch.utils.data import DataLoader\n",
    "\n",
    "from data_load import ShapeDimensionDataset\n",
    "import regression"
   ]
  },
  {
   "cell_type": "markdown",
   "metadata": {},
   "source": [
    "## SETTINGS"
   ]
  },
  {
   "cell_type": "code",
   "execution_count": 2,
   "metadata": {},
   "outputs": [],
   "source": [
    "IMAGE_SIZE = 150\n",
    "BATCH_SIZE = 32"
   ]
  },
  {
   "cell_type": "markdown",
   "metadata": {},
   "source": [
    "## Datasets and Dataloaders\n",
    "\n",
    "omit test for the time being ..."
   ]
  },
  {
   "cell_type": "code",
   "execution_count": 3,
   "metadata": {},
   "outputs": [],
   "source": [
    "parameters = ['h', 'tw', 'ba', 'ta', 'ra', 'bf', 'tf', 'rf', 'blf', 'tlf', 'rlf']\n",
    "target_cols = [s + \"_scaled\" for s in parameters] \n",
    "\n",
    "flip_transform = regression.flip_transform(IMAGE_SIZE)\n",
    "no_transform = regression.no_transform(IMAGE_SIZE)\n",
    "\n",
    "datasets = {\n",
    "    'train': ShapeDimensionDataset(\"dataset/Z9_train.csv\", \n",
    "                                   \"dataset/train/Z9/\",\n",
    "                                   transform=flip_transform, \n",
    "                                   target_cols=target_cols),\n",
    "    'val': ShapeDimensionDataset(\"dataset/Z9_val.csv\", \n",
    "                                 \"dataset/val/Z9/\",\n",
    "                                 transform=flip_transform, \n",
    "                                 target_cols=target_cols),    \n",
    "}"
   ]
  },
  {
   "cell_type": "code",
   "execution_count": 4,
   "metadata": {},
   "outputs": [],
   "source": [
    "dataloaders = {'train': DataLoader(datasets['train'], \n",
    "                                   batch_size=BATCH_SIZE,\n",
    "                                   shuffle=True, \n",
    "                                   num_workers=6),\n",
    "               'val': DataLoader(datasets['val'], \n",
    "                                 batch_size=BATCH_SIZE,\n",
    "                                 shuffle=False, \n",
    "                                 num_workers=6),                                       \n",
    "    }\n"
   ]
  },
  {
   "cell_type": "markdown",
   "metadata": {},
   "source": [
    "## Show something\n",
    "\n",
    "Convert PIL grayscale image (type=L) to np array (axes are still flipped):\n",
    "\n",
    "`img = np.frombuffer(img_.tobytes(), dtype=np.uint8).reshape(224,224)`\n",
    "\n",
    "Convert torch.Tensor to np array:\n",
    "\n"
   ]
  },
  {
   "cell_type": "code",
   "execution_count": 5,
   "metadata": {},
   "outputs": [
    {
     "name": "stdout",
     "output_type": "stream",
     "text": [
      "pixel value range: 0.0 1.0\n",
      "shape: (150, 150)\n",
      "dtype: float32\n",
      "[[0.86789816]\n",
      " [0.36512457]\n",
      " [0.34533224]\n",
      " [0.19744704]\n",
      " [0.10438685]\n",
      " [0.26740996]\n",
      " [0.26925324]\n",
      " [0.45775369]\n",
      " [0.07554774]\n",
      " [0.48918266]\n",
      " [0.16400704]]\n"
     ]
    },
    {
     "data": {
      "image/png": "[encoded data removed]",
      "text/plain": [
       "<Figure size 432x288 with 1 Axes>"
      ]
     },
     "metadata": {
      "needs_background": "light"
     },
     "output_type": "display_data"
    }
   ],
   "source": [
    "ds = datasets['train']\n",
    "\n",
    "img_, y = ds[120]  \n",
    "# TODO: how to rotate ???\n",
    "img = img_[0].numpy() # shape(1,224,224) -> shape(224,224)\n",
    "img = img.squeeze()\n",
    "print(\"pixel value range:\", np.min(img), np.max(img))\n",
    "# TODO: these are grayscale (B/W) pictures. One depth dimension is enough.\n",
    "print(\"shape:\", img.shape)\n",
    "print(\"dtype:\", img.dtype)\n",
    "print(y)\n",
    "plt.imshow(img, cmap='gray');\n",
    "\n"
   ]
  },
  {
   "cell_type": "code",
   "execution_count": 6,
   "metadata": {},
   "outputs": [],
   "source": [
    "def plot_history(history, log=False):\n",
    "    \"\"\"history plot, return image\"\"\"\n",
    "    fig, ax = plt.subplots()\n",
    "    ax.plot(history['train'], \"o-\", label=\"train\")\n",
    "    ax.plot(history['val'], \"o-\", label=\"val\")\n",
    "    ax.set_xlabel(\"Epoch\")\n",
    "    ax.set_ylabel(\"Loss\")\n",
    "    if log:\n",
    "        ax.semilogy()\n",
    "    ax.grid()\n",
    "    ax.legend()"
   ]
  },
  {
   "cell_type": "markdown",
   "metadata": {},
   "source": [
    "## Settings"
   ]
  },
  {
   "cell_type": "code",
   "execution_count": 7,
   "metadata": {},
   "outputs": [
    {
     "name": "stdout",
     "output_type": "stream",
     "text": [
      "Net1(\n",
      "  (conv1): Conv2d(1, 8, kernel_size=(5, 5), stride=(2, 2))\n",
      "  (conv2): Conv2d(8, 16, kernel_size=(3, 3), stride=(1, 1))\n",
      "  (pool1): MaxPool2d(kernel_size=2, stride=2, padding=0, dilation=1, ceil_mode=False)\n",
      "  (pool2): MaxPool2d(kernel_size=2, stride=2, padding=0, dilation=1, ceil_mode=False)\n",
      "  (fc1): Linear(in_features=4624, out_features=1000, bias=True)\n",
      "  (fc2): Linear(in_features=1000, out_features=100, bias=True)\n",
      "  (fc3): Linear(in_features=100, out_features=11, bias=True)\n",
      ")\n"
     ]
    }
   ],
   "source": [
    "lr = 0.001\n",
    "\n",
    "model = regression.Net1(len(parameters), \n",
    "                        image_size=IMAGE_SIZE, \n",
    "                        param_names=parameters, \n",
    "                        description=\"Z9\")\n",
    "optimizer = torch.optim.Adam(model.parameters(), lr=lr)\n",
    "criterion = nn.MSELoss()\n",
    "print(model)\n",
    " "
   ]
  },
  {
   "cell_type": "code",
   "execution_count": 8,
   "metadata": {},
   "outputs": [
    {
     "name": "stdout",
     "output_type": "stream",
     "text": [
      "Epoch 1/50: train Loss: 0.022242 val Loss: 0.015829 \n",
      "\n",
      "Epoch 2/50: train Loss: 0.013930 val Loss: 0.012352 \n",
      "\n",
      "Epoch 3/50: train Loss: 0.011462 val Loss: 0.010767 \n",
      "\n",
      "Epoch 4/50: train Loss: 0.010308 val Loss: 0.010067 \n",
      "\n",
      "Epoch 5/50: train Loss: 0.009509 val Loss: 0.009186 \n",
      "\n",
      "Epoch 6/50: train Loss: 0.008513 val Loss: 0.008227 \n",
      "\n",
      "Epoch 7/50: train Loss: 0.007698 val Loss: 0.007773 \n",
      "\n",
      "Epoch 8/50: train Loss: 0.006815 val Loss: 0.006714 \n",
      "\n",
      "Epoch 9/50: train Loss: 0.006175 val Loss: 0.006494 \n",
      "\n",
      "Epoch 10/50: train Loss: 0.005470 val Loss: 0.005547 \n",
      "\n",
      "Epoch 11/50: train Loss: 0.004648 val Loss: 0.004671 \n",
      "\n",
      "Epoch 12/50: train Loss: 0.004136 val Loss: 0.004084 \n",
      "\n",
      "Epoch 13/50: train Loss: 0.003659 val Loss: 0.003978 \n",
      "\n",
      "Epoch 14/50: train Loss: 0.003330 val Loss: 0.003633 \n",
      "\n",
      "Epoch 15/50: train Loss: 0.003135 val Loss: 0.003615 \n",
      "\n",
      "Epoch 16/50: train Loss: 0.003004 val Loss: 0.003418 \n",
      "\n",
      "Epoch 17/50: train Loss: 0.002761 val Loss: 0.003253 \n",
      "\n",
      "Epoch 18/50: train Loss: 0.002577 val Loss: 0.003094 \n",
      "\n",
      "Epoch 19/50: train Loss: 0.002546 val Loss: 0.003066 \n",
      "\n",
      "Epoch 20/50: train Loss: 0.002429 val Loss: 0.002988 \n",
      "\n",
      "Epoch 21/50: train Loss: 0.002353 val Loss: 0.003132 \n",
      "\n",
      "Epoch 22/50: train Loss: 0.002302 val Loss: 0.003197 \n",
      "\n",
      "Epoch 23/50: train Loss: 0.002204 val Loss: 0.002892 \n",
      "\n",
      "Epoch 24/50: train Loss: 0.002140 val Loss: 0.002753 \n",
      "\n",
      "Epoch 25/50: train Loss: 0.002122 val Loss: 0.002813 \n",
      "\n",
      "Epoch 26/50: train Loss: 0.002054 val Loss: 0.002713 \n",
      "\n",
      "Epoch 27/50: train Loss: 0.002023 val Loss: 0.002755 \n",
      "\n",
      "Epoch 28/50: train Loss: 0.001908 val Loss: 0.002776 \n",
      "\n",
      "Epoch 29/50: train Loss: 0.001876 val Loss: 0.002729 \n",
      "\n",
      "Epoch 30/50: train Loss: 0.001856 val Loss: 0.002569 \n",
      "\n",
      "Epoch 31/50: train Loss: 0.001808 val Loss: 0.002514 \n",
      "\n",
      "Epoch 32/50: train Loss: 0.001778 val Loss: 0.002579 \n",
      "\n",
      "Epoch 33/50: train Loss: 0.001738 val Loss: 0.002514 \n",
      "\n",
      "Epoch 34/50: train Loss: 0.001661 val Loss: 0.002496 \n",
      "\n",
      "Epoch 35/50: train Loss: 0.001658 val Loss: 0.002449 \n",
      "\n",
      "Epoch 36/50: train Loss: 0.001624 val Loss: 0.002553 \n",
      "\n",
      "Epoch 37/50: train Loss: 0.001598 val Loss: 0.002753 \n",
      "\n",
      "Epoch 38/50: train Loss: 0.001587 val Loss: 0.002424 \n",
      "\n",
      "Epoch 39/50: train Loss: 0.001554 val Loss: 0.002393 \n",
      "\n",
      "Epoch 40/50: train Loss: 0.001505 val Loss: 0.002521 \n",
      "\n",
      "Epoch 41/50: train Loss: 0.001487 val Loss: 0.002454 \n",
      "\n",
      "Epoch 42/50: train Loss: 0.001541 val Loss: 0.002448 \n",
      "\n",
      "Epoch 43/50: train Loss: 0.001433 val Loss: 0.002434 \n",
      "\n",
      "Epoch 44/50: train Loss: 0.001378 val Loss: 0.002326 \n",
      "\n",
      "Epoch 45/50: train Loss: 0.001370 val Loss: 0.002450 \n",
      "\n",
      "Epoch 46/50: train Loss: 0.001332 val Loss: 0.002418 \n",
      "\n",
      "Epoch 47/50: train Loss: 0.001277 val Loss: 0.002361 \n",
      "\n",
      "Epoch 48/50: train Loss: 0.001289 val Loss: 0.002391 \n",
      "\n",
      "Epoch 49/50: train Loss: 0.001259 val Loss: 0.002424 \n",
      "\n",
      "Epoch 50/50: train Loss: 0.001265 val Loss: 0.002359 \n",
      "\n",
      "\n",
      "Best val loss: 0.002326\n"
     ]
    },
    {
     "data": {
      "image/png": "[encoded data removed]",
      "text/plain": [
       "<Figure size 432x288 with 1 Axes>"
      ]
     },
     "metadata": {
      "needs_background": "light"
     },
     "output_type": "display_data"
    }
   ],
   "source": [
    "if 1 == 1:\n",
    "    hist = regression.train_regression(model, dataloaders, criterion, optimizer, num_epochs=50)\n",
    "    plot_history(hist, log=True)\n",
    "    model.save_checkpoint(\"models/Z9_flip_50.pt\")"
   ]
  },
  {
   "cell_type": "markdown",
   "metadata": {},
   "source": [
    "Ah, great! It works!"
   ]
  },
  {
   "cell_type": "code",
   "execution_count": 9,
   "metadata": {},
   "outputs": [],
   "source": [
    "import json\n",
    "with open(\"history_Z9_flip_50.json\", \"w\") as fp:\n",
    "    json.dump(hist, fp, indent=2)"
   ]
  },
  {
   "cell_type": "markdown",
   "metadata": {},
   "source": [
    "# Inference"
   ]
  },
  {
   "cell_type": "markdown",
   "metadata": {},
   "source": [
    "### Utilities"
   ]
  },
  {
   "cell_type": "code",
   "execution_count": 10,
   "metadata": {},
   "outputs": [],
   "source": [
    "from sklearn.preprocessing import MinMaxScaler\n",
    "import pickle\n",
    "import pandas as pd\n",
    "from sections import VERTEX_FUNCTIONS\n",
    "\n",
    "func, params = VERTEX_FUNCTIONS['z9']\n",
    "\n",
    "def imshow(tensor):\n",
    "    \"\"\"show first image in a tensor\"\"\"\n",
    "    img = tensor[0].numpy() # shape(1,224,224) -> shape(224,224)\n",
    "    img = img.squeeze()\n",
    "    plt.imshow(img, cmap='gray');\n"
   ]
  },
  {
   "cell_type": "code",
   "execution_count": 11,
   "metadata": {},
   "outputs": [
    {
     "name": "stdout",
     "output_type": "stream",
     "text": [
      "Z9\n",
      "Input size: 150, output size: 11\n",
      "parameter names: h, tw, ba, ta, ra, bf, tf, rf, blf, tlf, rlf\n"
     ]
    }
   ],
   "source": [
    "model = regression.Net1.from_checkpoint(\"models/Z9_flip_50.pt\")\n",
    "\n",
    "# scaler\n",
    "with open(\"dataset/Z9_scaler.pkl\", \"rb\") as fp:\n",
    "    scaler = pickle.load(fp)"
   ]
  },
  {
   "cell_type": "code",
   "execution_count": 12,
   "metadata": {},
   "outputs": [
    {
     "data": {
      "image/png": "[encoded data removed]",
      "text/plain": [
       "<Figure size 432x288 with 1 Axes>"
      ]
     },
     "metadata": {
      "needs_background": "light"
     },
     "output_type": "display_data"
    }
   ],
   "source": [
    "i = 310\n",
    "area = 200\n",
    "\n",
    "# get data point\n",
    "ds = datasets['val']\n",
    "image, target = ds[i]\n",
    "# show image and target\n",
    "imshow(image)"
   ]
  },
  {
   "cell_type": "code",
   "execution_count": 13,
   "metadata": {},
   "outputs": [
    {
     "name": "stdout",
     "output_type": "stream",
     "text": [
      "torch.Size([1, 1, 150, 150])\n",
      "torch.float32\n",
      "tensor(1.)\n",
      "['h', 'tw', 'ba', 'ta', 'ra', 'bf', 'tf', 'rf', 'blf', 'tlf', 'rlf']\n",
      "target (scaled):  [0.43350755 0.18126704 0.19138209 0.16448657 0.33703863 0.47997991\n",
      " 0.31756039 0.17387859 0.67865887 0.27153048 0.37943566]\n",
      "output (scaled):  [0.454825   0.16171512 0.20954117 0.12038503 0.4018792  0.48536372\n",
      " 0.33101058 0.26694885 0.66870075 0.22608408 0.5283401 ]\n",
      "target (unscaled):  [46.75974603  1.36162733 11.76640918  1.90694371  3.3305327  26.95987844\n",
      "  2.50462739  2.25002858 15.36466748  3.62329134  3.20717275]\n",
      "output (unscaled):  [47.726974   1.323157  12.444868   1.7267481  3.731433  27.14944\n",
      "  2.5582316  2.795763  15.170669   3.249046   3.9699137]\n"
     ]
    }
   ],
   "source": [
    "img = image.reshape(1, 1, IMAGE_SIZE, IMAGE_SIZE)\n",
    "print(img.shape)\n",
    "print(img.dtype)\n",
    "print(img.max())\n",
    "with torch.no_grad():\n",
    "    model.eval()\n",
    "    outputs = model.forward(img)\n",
    "    outputs = outputs.numpy()\n",
    "    \n",
    "# print raw target / output\n",
    "print(params)\n",
    "\n",
    "print(\"target (scaled): \", target.squeeze())\n",
    "print(\"output (scaled): \", outputs.squeeze())\n",
    "\n",
    "# unscale both, multiply with reference length (sqrt(A))\n",
    "target_dim = np.sqrt(area) * scaler.inverse_transform(target.T)\n",
    "target_dim = target_dim.squeeze()\n",
    "output_dim = np.sqrt(area) * scaler.inverse_transform(outputs)\n",
    "output_dim = output_dim.squeeze()\n",
    "print(\"target (unscaled): \", target_dim)\n",
    "print(\"output (unscaled): \", output_dim)\n",
    "\n",
    "# generate vertices"
   ]
  },
  {
   "cell_type": "code",
   "execution_count": 14,
   "metadata": {},
   "outputs": [
    {
     "data": {
      "text/html": [
       "<div>\n",
       "<style scoped>\n",
       "    .dataframe tbody tr th:only-of-type {\n",
       "        vertical-align: middle;\n",
       "    }\n",
       "\n",
       "    .dataframe tbody tr th {\n",
       "        vertical-align: top;\n",
       "    }\n",
       "\n",
       "    .dataframe thead th {\n",
       "        text-align: right;\n",
       "    }\n",
       "</style>\n",
       "<table border=\"1\" class=\"dataframe\">\n",
       "  <thead>\n",
       "    <tr style=\"text-align: right;\">\n",
       "      <th></th>\n",
       "      <th>h</th>\n",
       "      <th>tw</th>\n",
       "      <th>ba</th>\n",
       "      <th>ta</th>\n",
       "      <th>ra</th>\n",
       "      <th>bf</th>\n",
       "      <th>tf</th>\n",
       "      <th>rf</th>\n",
       "      <th>blf</th>\n",
       "      <th>tlf</th>\n",
       "      <th>rlf</th>\n",
       "    </tr>\n",
       "  </thead>\n",
       "  <tbody>\n",
       "    <tr>\n",
       "      <th>true</th>\n",
       "      <td>46.76</td>\n",
       "      <td>1.36</td>\n",
       "      <td>11.77</td>\n",
       "      <td>1.91</td>\n",
       "      <td>3.33</td>\n",
       "      <td>26.96</td>\n",
       "      <td>2.50</td>\n",
       "      <td>2.25</td>\n",
       "      <td>15.36</td>\n",
       "      <td>3.62</td>\n",
       "      <td>3.21</td>\n",
       "    </tr>\n",
       "    <tr>\n",
       "      <th>predicted</th>\n",
       "      <td>47.73</td>\n",
       "      <td>1.32</td>\n",
       "      <td>12.44</td>\n",
       "      <td>1.73</td>\n",
       "      <td>3.73</td>\n",
       "      <td>27.15</td>\n",
       "      <td>2.56</td>\n",
       "      <td>2.80</td>\n",
       "      <td>15.17</td>\n",
       "      <td>3.25</td>\n",
       "      <td>3.97</td>\n",
       "    </tr>\n",
       "  </tbody>\n",
       "</table>\n",
       "</div>"
      ],
      "text/plain": [
       "               h    tw     ba    ta    ra     bf    tf    rf    blf   tlf  \\\n",
       "true       46.76  1.36  11.77  1.91  3.33  26.96  2.50  2.25  15.36  3.62   \n",
       "predicted  47.73  1.32  12.44  1.73  3.73  27.15  2.56  2.80  15.17  3.25   \n",
       "\n",
       "            rlf  \n",
       "true       3.21  \n",
       "predicted  3.97  "
      ]
     },
     "execution_count": 14,
     "metadata": {},
     "output_type": "execute_result"
    }
   ],
   "source": [
    "# show results\n",
    "df = pd.DataFrame([target_dim, output_dim], index=['true', 'predicted'], \n",
    "                  columns=params)\n",
    "df.round(2)"
   ]
  },
  {
   "cell_type": "code",
   "execution_count": 15,
   "metadata": {},
   "outputs": [
    {
     "data": {
      "image/png": "[encoded data removed]",
      "text/plain": [
       "<Figure size 432x432 with 1 Axes>"
      ]
     },
     "metadata": {
      "needs_background": "light"
     },
     "output_type": "display_data"
    }
   ],
   "source": [
    "fig, ax = plt.subplots(figsize=(6, 6))\n",
    "\n",
    "# generate polygons\n",
    "true_o, true_i = func(*target_dim.squeeze())\n",
    "pred_o, pred_i = func(*output_dim.squeeze())\n",
    "\n",
    "\n",
    "for outer in true_o:\n",
    "    mppoly = plt.Polygon(outer, ec=\"k\", ls='--', fill=False, linewidth=1)\n",
    "    ax.add_patch(mppoly)\n",
    "for inner in true_i:\n",
    "    mppoly = plt.Polygon(inner, ec=\"k\", ls='--', fill=False, linewidth=1)\n",
    "    ax.add_patch(mppoly)\n",
    "    \n",
    "for outer in pred_o:\n",
    "    mppoly = plt.Polygon(outer, ec=\"r\", fill=False, linewidth=1)\n",
    "    ax.add_patch(mppoly)\n",
    "for inner in pred_i:\n",
    "    mppoly = plt.Polygon(inner, ec=\"r\", fill=False, linewidth=1)\n",
    "    ax.add_patch(mppoly)\n",
    "\n",
    "ax.autoscale(tight=False)\n",
    "ax.set_aspect(\"equal\")\n",
    "#ax.axis(\"off\");\n"
   ]
  },
  {
   "cell_type": "markdown",
   "metadata": {},
   "source": [
    "### Evaluate: Compute IOU"
   ]
  },
  {
   "cell_type": "code",
   "execution_count": 16,
   "metadata": {},
   "outputs": [],
   "source": [
    "# to be completed"
   ]
  },
  {
   "cell_type": "markdown",
   "metadata": {},
   "source": [
    "### Full Loop: Input polygon vertices, create image "
   ]
  },
  {
   "cell_type": "code",
   "execution_count": 17,
   "metadata": {},
   "outputs": [],
   "source": [
    "# to be completed"
   ]
  }
 ],
 "metadata": {
  "kernelspec": {
   "display_name": "Python 3",
   "language": "python",
   "name": "python3"
  },
  "language_info": {
   "codemirror_mode": {
    "name": "ipython",
    "version": 3
   },
   "file_extension": ".py",
   "mimetype": "text/x-python",
   "name": "python",
   "nbconvert_exporter": "python",
   "pygments_lexer": "ipython3",
   "version": "3.8.2"
  }
 },
 "nbformat": 4,
 "nbformat_minor": 4
}
