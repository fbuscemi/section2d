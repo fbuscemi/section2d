{
 "cells": [
  {
   "cell_type": "markdown",
   "metadata": {},
   "source": [
    "# CNN for Shape Dimensions"
   ]
  },
  {
   "cell_type": "code",
   "execution_count": 1,
   "metadata": {},
   "outputs": [],
   "source": [
    "%matplotlib inline\n",
    "import numpy as np\n",
    "import matplotlib.pyplot as plt\n",
    "import pandas as pd\n",
    "import os\n",
    "import copy\n",
    "\n",
    "import torch\n",
    "import torch.nn as nn\n",
    "import torch.nn.functional as F\n",
    "#from torchvision import transforms \n",
    "from torch.utils.data import DataLoader\n",
    "\n",
    "from data_load import ShapeDimensionDataset\n",
    "import regression"
   ]
  },
  {
   "cell_type": "markdown",
   "metadata": {},
   "source": [
    "## SETTINGS"
   ]
  },
  {
   "cell_type": "code",
   "execution_count": 2,
   "metadata": {},
   "outputs": [],
   "source": [
    "IMAGE_SIZE = 150\n",
    "BATCH_SIZE = 32"
   ]
  },
  {
   "cell_type": "markdown",
   "metadata": {},
   "source": [
    "## Datasets and Dataloaders\n",
    "\n",
    "omit test for the time being ..."
   ]
  },
  {
   "cell_type": "code",
   "execution_count": 3,
   "metadata": {},
   "outputs": [],
   "source": [
    "parameters = ['h', 'tw', 'ba', 'ra', 'bf', 'rf']\n",
    "target_cols = [s + \"_scaled\" for s in parameters] \n",
    "\n",
    "flip_transform = regression.flip_transform(IMAGE_SIZE)\n",
    "no_transform = regression.no_transform(IMAGE_SIZE)\n",
    "\n",
    "datasets = {\n",
    "    'train': ShapeDimensionDataset(\"dataset/C2_train.csv\", \n",
    "                                   \"dataset/train/C2/\",\n",
    "                                   transform=flip_transform, \n",
    "                                   target_cols=target_cols),\n",
    "    'val': ShapeDimensionDataset(\"dataset/C2_val.csv\", \n",
    "                                 \"dataset/val/C2/\",\n",
    "                                 transform=flip_transform, \n",
    "                                 target_cols=target_cols),    \n",
    "}"
   ]
  },
  {
   "cell_type": "code",
   "execution_count": 4,
   "metadata": {},
   "outputs": [],
   "source": [
    "dataloaders = {'train': DataLoader(datasets['train'], \n",
    "                                   batch_size=BATCH_SIZE,\n",
    "                                   shuffle=True, \n",
    "                                   num_workers=6),\n",
    "               'val': DataLoader(datasets['val'], \n",
    "                                 batch_size=BATCH_SIZE,\n",
    "                                 shuffle=False, \n",
    "                                 num_workers=6),                                       \n",
    "    }\n"
   ]
  },
  {
   "cell_type": "markdown",
   "metadata": {},
   "source": [
    "## Show something\n",
    "\n",
    "Convert PIL grayscale image (type=L) to np array (axes are still flipped):\n",
    "\n",
    "`img = np.frombuffer(img_.tobytes(), dtype=np.uint8).reshape(224,224)`\n",
    "\n",
    "Convert torch.Tensor to np array:\n",
    "\n"
   ]
  },
  {
   "cell_type": "code",
   "execution_count": 5,
   "metadata": {},
   "outputs": [
    {
     "name": "stdout",
     "output_type": "stream",
     "text": [
      "pixel value range: 0.0 1.0\n",
      "shape: (150, 150)\n",
      "dtype: float32\n",
      "[[0.41766554]\n",
      " [0.28170041]\n",
      " [0.19146489]\n",
      " [0.55222089]\n",
      " [0.51926789]\n",
      " [0.61392345]]\n"
     ]
    },
    {
     "data": {
      "image/png": "[encoded data removed]",
      "text/plain": [
       "<Figure size 432x288 with 1 Axes>"
      ]
     },
     "metadata": {
      "needs_background": "light"
     },
     "output_type": "display_data"
    }
   ],
   "source": [
    "ds = datasets['train']\n",
    "\n",
    "img_, y = ds[12]  \n",
    "# TODO: how to rotate ???\n",
    "img = img_[0].numpy() # shape(1,224,224) -> shape(224,224)\n",
    "img = img.squeeze()\n",
    "print(\"pixel value range:\", np.min(img), np.max(img))\n",
    "# TODO: these are grayscale (B/W) pictures. One depth dimension is enough.\n",
    "print(\"shape:\", img.shape)\n",
    "print(\"dtype:\", img.dtype)\n",
    "print(y)\n",
    "plt.imshow(img, cmap='gray');\n",
    "\n"
   ]
  },
  {
   "cell_type": "code",
   "execution_count": 6,
   "metadata": {},
   "outputs": [],
   "source": [
    "def plot_history(history, log=False):\n",
    "    \"\"\"history plot, return image\"\"\"\n",
    "    fig, ax = plt.subplots()\n",
    "    ax.plot(history['train'], \"o-\", label=\"train\")\n",
    "    ax.plot(history['val'], \"o-\", label=\"val\")\n",
    "    ax.set_xlabel(\"Epoch\")\n",
    "    ax.set_ylabel(\"Loss\")\n",
    "    if log:\n",
    "        ax.semilogy()\n",
    "    ax.grid()\n",
    "    ax.legend()"
   ]
  },
  {
   "cell_type": "markdown",
   "metadata": {},
   "source": [
    "## Settings"
   ]
  },
  {
   "cell_type": "code",
   "execution_count": 7,
   "metadata": {},
   "outputs": [
    {
     "name": "stdout",
     "output_type": "stream",
     "text": [
      "Net1(\n",
      "  (conv1): Conv2d(1, 8, kernel_size=(5, 5), stride=(2, 2))\n",
      "  (conv2): Conv2d(8, 16, kernel_size=(3, 3), stride=(1, 1))\n",
      "  (pool1): MaxPool2d(kernel_size=2, stride=2, padding=0, dilation=1, ceil_mode=False)\n",
      "  (pool2): MaxPool2d(kernel_size=2, stride=2, padding=0, dilation=1, ceil_mode=False)\n",
      "  (fc1): Linear(in_features=4624, out_features=1000, bias=True)\n",
      "  (fc2): Linear(in_features=1000, out_features=100, bias=True)\n",
      "  (fc3): Linear(in_features=100, out_features=6, bias=True)\n",
      ")\n"
     ]
    }
   ],
   "source": [
    "lr = 0.001\n",
    "\n",
    "model = regression.Net1(len(parameters), \n",
    "                        image_size=IMAGE_SIZE, \n",
    "                        param_names=parameters, \n",
    "                        description=\"C2\")\n",
    "optimizer = torch.optim.Adam(model.parameters(), lr=lr)\n",
    "criterion = nn.MSELoss()\n",
    "print(model)\n",
    " "
   ]
  },
  {
   "cell_type": "code",
   "execution_count": 8,
   "metadata": {},
   "outputs": [
    {
     "name": "stdout",
     "output_type": "stream",
     "text": [
      "Epoch 1/50: train Loss: 0.016715 val Loss: 0.007652 \n",
      "\n",
      "Epoch 2/50: train Loss: 0.006598 val Loss: 0.006109 \n",
      "\n",
      "Epoch 3/50: train Loss: 0.005820 val Loss: 0.005324 \n",
      "\n",
      "Epoch 4/50: train Loss: 0.004500 val Loss: 0.002760 \n",
      "\n",
      "Epoch 5/50: train Loss: 0.001972 val Loss: 0.001291 \n",
      "\n",
      "Epoch 6/50: train Loss: 0.001317 val Loss: 0.001202 \n",
      "\n",
      "Epoch 7/50: train Loss: 0.000991 val Loss: 0.000913 \n",
      "\n",
      "Epoch 8/50: train Loss: 0.000894 val Loss: 0.000962 \n",
      "\n",
      "Epoch 9/50: train Loss: 0.000756 val Loss: 0.000713 \n",
      "\n",
      "Epoch 10/50: train Loss: 0.000748 val Loss: 0.000752 \n",
      "\n",
      "Epoch 11/50: train Loss: 0.000642 val Loss: 0.000535 \n",
      "\n",
      "Epoch 12/50: train Loss: 0.000588 val Loss: 0.000458 \n",
      "\n",
      "Epoch 13/50: train Loss: 0.000496 val Loss: 0.000523 \n",
      "\n",
      "Epoch 14/50: train Loss: 0.000591 val Loss: 0.000427 \n",
      "\n",
      "Epoch 15/50: train Loss: 0.000506 val Loss: 0.000398 \n",
      "\n",
      "Epoch 16/50: train Loss: 0.000464 val Loss: 0.000442 \n",
      "\n",
      "Epoch 17/50: train Loss: 0.000443 val Loss: 0.000439 \n",
      "\n",
      "Epoch 18/50: train Loss: 0.000483 val Loss: 0.000511 \n",
      "\n",
      "Epoch 19/50: train Loss: 0.000411 val Loss: 0.000367 \n",
      "\n",
      "Epoch 20/50: train Loss: 0.000400 val Loss: 0.000393 \n",
      "\n",
      "Epoch 21/50: train Loss: 0.000381 val Loss: 0.000394 \n",
      "\n",
      "Epoch 22/50: train Loss: 0.000378 val Loss: 0.000434 \n",
      "\n",
      "Epoch 23/50: train Loss: 0.000361 val Loss: 0.000465 \n",
      "\n",
      "Epoch 24/50: train Loss: 0.000336 val Loss: 0.000281 \n",
      "\n",
      "Epoch 25/50: train Loss: 0.000325 val Loss: 0.000427 \n",
      "\n",
      "Epoch 26/50: train Loss: 0.000295 val Loss: 0.000312 \n",
      "\n",
      "Epoch 27/50: train Loss: 0.000296 val Loss: 0.000273 \n",
      "\n",
      "Epoch 28/50: train Loss: 0.000288 val Loss: 0.000254 \n",
      "\n",
      "Epoch 29/50: train Loss: 0.000314 val Loss: 0.000345 \n",
      "\n",
      "Epoch 30/50: train Loss: 0.000286 val Loss: 0.000241 \n",
      "\n",
      "Epoch 31/50: train Loss: 0.000272 val Loss: 0.000233 \n",
      "\n",
      "Epoch 32/50: train Loss: 0.000286 val Loss: 0.000257 \n",
      "\n",
      "Epoch 33/50: train Loss: 0.000278 val Loss: 0.000249 \n",
      "\n",
      "Epoch 34/50: train Loss: 0.000281 val Loss: 0.000423 \n",
      "\n",
      "Epoch 35/50: train Loss: 0.000225 val Loss: 0.000243 \n",
      "\n",
      "Epoch 36/50: train Loss: 0.000255 val Loss: 0.000358 \n",
      "\n",
      "Epoch 37/50: train Loss: 0.000225 val Loss: 0.000290 \n",
      "\n",
      "Epoch 38/50: train Loss: 0.000218 val Loss: 0.000265 \n",
      "\n",
      "Epoch 39/50: train Loss: 0.000209 val Loss: 0.000188 \n",
      "\n",
      "Epoch 40/50: train Loss: 0.000221 val Loss: 0.000244 \n",
      "\n",
      "Epoch 41/50: train Loss: 0.000253 val Loss: 0.000181 \n",
      "\n",
      "Epoch 42/50: train Loss: 0.000194 val Loss: 0.000202 \n",
      "\n",
      "Epoch 43/50: train Loss: 0.000218 val Loss: 0.000227 \n",
      "\n",
      "Epoch 44/50: train Loss: 0.000180 val Loss: 0.000218 \n",
      "\n",
      "Epoch 45/50: train Loss: 0.000197 val Loss: 0.000179 \n",
      "\n",
      "Epoch 46/50: train Loss: 0.000192 val Loss: 0.000256 \n",
      "\n",
      "Epoch 47/50: train Loss: 0.000178 val Loss: 0.000184 \n",
      "\n",
      "Epoch 48/50: train Loss: 0.000172 val Loss: 0.000269 \n",
      "\n",
      "Epoch 49/50: train Loss: 0.000170 val Loss: 0.000194 \n",
      "\n",
      "Epoch 50/50: train Loss: 0.000186 val Loss: 0.000192 \n",
      "\n",
      "\n",
      "Best val loss: 0.000179\n"
     ]
    },
    {
     "data": {
      "image/png": "[encoded data removed]",
      "text/plain": [
       "<Figure size 432x288 with 1 Axes>"
      ]
     },
     "metadata": {
      "needs_background": "light"
     },
     "output_type": "display_data"
    }
   ],
   "source": [
    "if 1 == 1:\n",
    "    hist = regression.train_regression(model, dataloaders, criterion, optimizer, num_epochs=50)\n",
    "    plot_history(hist, log=True)\n",
    "    model.save_checkpoint(\"models/C2_flip_50.pt\")"
   ]
  },
  {
   "cell_type": "markdown",
   "metadata": {},
   "source": [
    "Ah, great! It works!"
   ]
  },
  {
   "cell_type": "code",
   "execution_count": 10,
   "metadata": {},
   "outputs": [],
   "source": [
    "import json\n",
    "with open(\"history_C2_flip_50.json\", \"w\") as fp:\n",
    "    json.dump(hist, fp, indent=2)"
   ]
  },
  {
   "cell_type": "markdown",
   "metadata": {},
   "source": [
    "# Inference"
   ]
  },
  {
   "cell_type": "markdown",
   "metadata": {},
   "source": [
    "### Utilities"
   ]
  },
  {
   "cell_type": "code",
   "execution_count": 11,
   "metadata": {},
   "outputs": [],
   "source": [
    "from sklearn.preprocessing import MinMaxScaler\n",
    "import pickle\n",
    "import pandas as pd\n",
    "from sections import VERTEX_FUNCTIONS\n",
    "\n",
    "func, params = VERTEX_FUNCTIONS['c2']\n",
    "\n",
    "def imshow(tensor):\n",
    "    \"\"\"show first image in a tensor\"\"\"\n",
    "    img = tensor[0].numpy() # shape(1,224,224) -> shape(224,224)\n",
    "    img = img.squeeze()\n",
    "    plt.imshow(img, cmap='gray');\n"
   ]
  },
  {
   "cell_type": "code",
   "execution_count": 12,
   "metadata": {},
   "outputs": [
    {
     "name": "stdout",
     "output_type": "stream",
     "text": [
      "C2\n",
      "Input size: 150, output size: 6\n",
      "parameter names: h, tw, ba, ra, bf, rf\n"
     ]
    }
   ],
   "source": [
    "model = regression.Net1.from_checkpoint(\"models/C2_flip_50.pt\")\n",
    "\n",
    "# scaler\n",
    "with open(\"dataset/C2_scaler.pkl\", \"rb\") as fp:\n",
    "    scaler = pickle.load(fp)"
   ]
  },
  {
   "cell_type": "code",
   "execution_count": 13,
   "metadata": {},
   "outputs": [
    {
     "data": {
      "image/png": "[encoded data removed]",
      "text/plain": [
       "<Figure size 432x288 with 1 Axes>"
      ]
     },
     "metadata": {
      "needs_background": "light"
     },
     "output_type": "display_data"
    }
   ],
   "source": [
    "i = 307\n",
    "area = 200\n",
    "\n",
    "# get data point\n",
    "ds = datasets['val']\n",
    "image, target = ds[i]\n",
    "# show image and target\n",
    "imshow(image)"
   ]
  },
  {
   "cell_type": "code",
   "execution_count": 14,
   "metadata": {},
   "outputs": [
    {
     "name": "stdout",
     "output_type": "stream",
     "text": [
      "torch.Size([1, 1, 150, 150])\n",
      "torch.float32\n",
      "tensor(1.)\n",
      "['h', 'tw', 'ba', 'ra', 'bf', 'rf']\n",
      "target (scaled):  [0.59350381 0.1526853  0.36785846 0.02341419 0.39795292 0.09896951]\n",
      "output (scaled):  [0.6066133  0.14874965 0.3677866  0.02797651 0.39482597 0.07300947]\n",
      "target (unscaled):  [88.34458191  1.4724097  23.55855518  1.4724097  29.44819397  2.9448194 ]\n",
      "output (unscaled):  [89.4809     1.4615753 23.554914   1.5543115 29.265102   2.448348 ]\n"
     ]
    }
   ],
   "source": [
    "img = image.reshape(1, 1, IMAGE_SIZE, IMAGE_SIZE)\n",
    "print(img.shape)\n",
    "print(img.dtype)\n",
    "print(img.max())\n",
    "with torch.no_grad():\n",
    "    model.eval()\n",
    "    outputs = model.forward(img)\n",
    "    outputs = outputs.numpy()\n",
    "    \n",
    "# print raw target / output\n",
    "print(params)\n",
    "\n",
    "print(\"target (scaled): \", target.squeeze())\n",
    "print(\"output (scaled): \", outputs.squeeze())\n",
    "\n",
    "# unscale both, multiply with reference length (sqrt(A))\n",
    "target_dim = np.sqrt(area) * scaler.inverse_transform(target.T)\n",
    "target_dim = target_dim.squeeze()\n",
    "output_dim = np.sqrt(area) * scaler.inverse_transform(outputs)\n",
    "output_dim = output_dim.squeeze()\n",
    "print(\"target (unscaled): \", target_dim)\n",
    "print(\"output (unscaled): \", output_dim)\n",
    "\n",
    "# generate vertices"
   ]
  },
  {
   "cell_type": "code",
   "execution_count": 15,
   "metadata": {},
   "outputs": [
    {
     "data": {
      "text/html": [
       "<div>\n",
       "<style scoped>\n",
       "    .dataframe tbody tr th:only-of-type {\n",
       "        vertical-align: middle;\n",
       "    }\n",
       "\n",
       "    .dataframe tbody tr th {\n",
       "        vertical-align: top;\n",
       "    }\n",
       "\n",
       "    .dataframe thead th {\n",
       "        text-align: right;\n",
       "    }\n",
       "</style>\n",
       "<table border=\"1\" class=\"dataframe\">\n",
       "  <thead>\n",
       "    <tr style=\"text-align: right;\">\n",
       "      <th></th>\n",
       "      <th>h</th>\n",
       "      <th>tw</th>\n",
       "      <th>ba</th>\n",
       "      <th>ra</th>\n",
       "      <th>bf</th>\n",
       "      <th>rf</th>\n",
       "    </tr>\n",
       "  </thead>\n",
       "  <tbody>\n",
       "    <tr>\n",
       "      <th>true</th>\n",
       "      <td>88.34</td>\n",
       "      <td>1.47</td>\n",
       "      <td>23.56</td>\n",
       "      <td>1.47</td>\n",
       "      <td>29.45</td>\n",
       "      <td>2.94</td>\n",
       "    </tr>\n",
       "    <tr>\n",
       "      <th>predicted</th>\n",
       "      <td>89.48</td>\n",
       "      <td>1.46</td>\n",
       "      <td>23.55</td>\n",
       "      <td>1.55</td>\n",
       "      <td>29.27</td>\n",
       "      <td>2.45</td>\n",
       "    </tr>\n",
       "  </tbody>\n",
       "</table>\n",
       "</div>"
      ],
      "text/plain": [
       "               h    tw     ba    ra     bf    rf\n",
       "true       88.34  1.47  23.56  1.47  29.45  2.94\n",
       "predicted  89.48  1.46  23.55  1.55  29.27  2.45"
      ]
     },
     "execution_count": 15,
     "metadata": {},
     "output_type": "execute_result"
    }
   ],
   "source": [
    "# show results\n",
    "df = pd.DataFrame([target_dim, output_dim], index=['true', 'predicted'], \n",
    "                  columns=params)\n",
    "df.round(2)"
   ]
  },
  {
   "cell_type": "code",
   "execution_count": 16,
   "metadata": {},
   "outputs": [
    {
     "data": {
      "image/png": "[encoded data removed]",
      "text/plain": [
       "<Figure size 432x432 with 1 Axes>"
      ]
     },
     "metadata": {
      "needs_background": "light"
     },
     "output_type": "display_data"
    }
   ],
   "source": [
    "fig, ax = plt.subplots(figsize=(6, 6))\n",
    "\n",
    "# generate polygons\n",
    "true_o, true_i = func(*target_dim.squeeze())\n",
    "pred_o, pred_i = func(*output_dim.squeeze())\n",
    "\n",
    "\n",
    "for outer in true_o:\n",
    "    mppoly = plt.Polygon(outer, ec=\"k\", ls='--', fill=False, linewidth=1)\n",
    "    ax.add_patch(mppoly)\n",
    "for inner in true_i:\n",
    "    mppoly = plt.Polygon(inner, ec=\"k\", ls='--', fill=False, linewidth=1)\n",
    "    ax.add_patch(mppoly)\n",
    "    \n",
    "for outer in pred_o:\n",
    "    mppoly = plt.Polygon(outer, ec=\"r\", fill=False, linewidth=1)\n",
    "    ax.add_patch(mppoly)\n",
    "for inner in pred_i:\n",
    "    mppoly = plt.Polygon(inner, ec=\"r\", fill=False, linewidth=1)\n",
    "    ax.add_patch(mppoly)\n",
    "\n",
    "ax.autoscale(tight=False)\n",
    "ax.set_aspect(\"equal\")\n",
    "#ax.axis(\"off\");\n"
   ]
  },
  {
   "cell_type": "markdown",
   "metadata": {},
   "source": [
    "### Evaluate: Compute IOU"
   ]
  },
  {
   "cell_type": "code",
   "execution_count": null,
   "metadata": {},
   "outputs": [],
   "source": [
    "# to be completed"
   ]
  },
  {
   "cell_type": "markdown",
   "metadata": {},
   "source": [
    "### Full Loop: Input polygon vertices, create image "
   ]
  },
  {
   "cell_type": "code",
   "execution_count": null,
   "metadata": {},
   "outputs": [],
   "source": [
    "# to be completed"
   ]
  }
 ],
 "metadata": {
  "kernelspec": {
   "display_name": "Python 3",
   "language": "python",
   "name": "python3"
  },
  "language_info": {
   "codemirror_mode": {
    "name": "ipython",
    "version": 3
   },
   "file_extension": ".py",
   "mimetype": "text/x-python",
   "name": "python",
   "nbconvert_exporter": "python",
   "pygments_lexer": "ipython3",
   "version": "3.8.2"
  }
 },
 "nbformat": 4,
 "nbformat_minor": 4
}
