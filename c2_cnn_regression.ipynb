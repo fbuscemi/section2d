{
 "cells": [
  {
   "cell_type": "markdown",
   "metadata": {},
   "source": [
    "# CNN for Shape Dimensions"
   ]
  },
  {
   "cell_type": "code",
   "execution_count": 5,
   "metadata": {},
   "outputs": [],
   "source": [
    "%matplotlib inline\n",
    "import numpy as np\n",
    "import matplotlib.pyplot as plt\n",
    "import pandas as pd\n",
    "import os\n",
    "import copy\n",
    "\n",
    "import torch\n",
    "import torch.nn as nn\n",
    "import torch.nn.functional as F\n",
    "from torchvision import transforms \n",
    "from torch.utils.data import DataLoader\n",
    "\n",
    "from data_load import ShapeDimensionDataset\n",
    "\n",
    "from sections import VERTEX_FUNCTIONS"
   ]
  },
  {
   "cell_type": "markdown",
   "metadata": {},
   "source": [
    "## Transformations"
   ]
  },
  {
   "cell_type": "code",
   "execution_count": 2,
   "metadata": {},
   "outputs": [],
   "source": [
    "## Define Transforms\n",
    "\n",
    "full_transform = transforms.Compose([\n",
    "    # these operate on PIL image\n",
    "    transforms.Resize((100, 100), interpolation=0),\n",
    "    transforms.RandomHorizontalFlip(),\n",
    "    transforms.RandomVerticalFlip(),\n",
    "    # the fill thing needs to be 255 (white); we're still in uint8 mode\n",
    "    transforms.RandomRotation((-45,45), expand=False, fill=255),\n",
    "    # Normalise wants a tensor as input, so ToTensor has to run first\n",
    "    transforms.ToTensor(), \n",
    "    transforms.Normalize(0, 1), \n",
    "])\n",
    "\n",
    "flip_transform = transforms.Compose([\n",
    "    # these operate on PIL image\n",
    "    transforms.Resize((100, 100), interpolation=0),\n",
    "    transforms.RandomHorizontalFlip(),\n",
    "    transforms.RandomVerticalFlip(),\n",
    "    # Normalise wants a tensor as input, so ToTensor has to run first\n",
    "    transforms.ToTensor(), \n",
    "    transforms.Normalize(0, 1), \n",
    "])\n",
    "\n",
    "no_transform = transforms.Compose([\n",
    "    # Normalise wants a tensor as input, so ToTensor has to run first\n",
    "    transforms.Resize((100, 100), interpolation=0),\n",
    "    transforms.ToTensor(), \n",
    "    transforms.Normalize(0, 1), \n",
    "])"
   ]
  },
  {
   "cell_type": "markdown",
   "metadata": {},
   "source": [
    "## Datasets and Dataloaders\n",
    "\n",
    "omit test for the time being ..."
   ]
  },
  {
   "cell_type": "code",
   "execution_count": 27,
   "metadata": {},
   "outputs": [],
   "source": [
    "shape_func, shape_params = VERTEX_FUNCTIONS['c2']\n",
    "target_cols = [p + \"_scaled\" for p in shape_params]\n",
    "\n",
    "datasets = {\n",
    "    'train': ShapeDimensionDataset(\"dataset/C2_train.csv\", \n",
    "                                   \"dataset/train/C2/\",\n",
    "                                   transform=no_transform, \n",
    "                                   target_cols=target_cols\n",
    "                                  ),\n",
    "    'val': ShapeDimensionDataset(\"dataset/C2_val.csv\", \n",
    "                                   \"dataset/val/C2/\",\n",
    "                                   transform=no_transform,\n",
    "                                   target_cols=target_cols\n",
    "                                ),    \n",
    "}"
   ]
  },
  {
   "cell_type": "code",
   "execution_count": 28,
   "metadata": {},
   "outputs": [],
   "source": [
    "BATCH_SIZE = 32\n",
    "\n",
    "dataloaders = {'train': DataLoader(datasets['train'], \n",
    "                                   batch_size=BATCH_SIZE,\n",
    "                                   shuffle=True, \n",
    "                                   num_workers=6),\n",
    "               'val': DataLoader(datasets['val'], \n",
    "                                 batch_size=BATCH_SIZE,\n",
    "                                 shuffle=False, \n",
    "                                 num_workers=6),                                       \n",
    "    }\n"
   ]
  },
  {
   "cell_type": "markdown",
   "metadata": {},
   "source": [
    "## Show something\n",
    "\n",
    "Convert PIL grayscale image (type=L) to np array (axes are still flipped):\n",
    "\n",
    "`img = np.frombuffer(img_.tobytes(), dtype=np.uint8).reshape(224,224)`\n",
    "\n",
    "Convert torch.Tensor to np array:\n",
    "\n"
   ]
  },
  {
   "cell_type": "code",
   "execution_count": 29,
   "metadata": {},
   "outputs": [
    {
     "name": "stdout",
     "output_type": "stream",
     "text": [
      "pixel value range: 0.0 1.0\n",
      "shape: (100, 100)\n",
      "dtype: float32\n",
      "[[0.25991578]\n",
      " [0.31267151]\n",
      " [0.50710719]\n",
      " [0.39772495]\n",
      " [0.45535454]\n",
      " [0.55873339]]\n"
     ]
    },
    {
     "data": {
      "image/png": "[encoded data removed]",
      "text/plain": [
       "<Figure size 432x288 with 1 Axes>"
      ]
     },
     "metadata": {
      "needs_background": "light"
     },
     "output_type": "display_data"
    }
   ],
   "source": [
    "\n",
    "\n",
    "ds = datasets['train']\n",
    "\n",
    "img_, y = ds[40]  \n",
    "# TODO: how to rotate ???\n",
    "img = img_[0].numpy() # shape(1,224,224) -> shape(224,224)\n",
    "img = img.squeeze()\n",
    "print(\"pixel value range:\", np.min(img), np.max(img))\n",
    "# TODO: these are grayscale (B/W) pictures. One depth dimension is enough.\n",
    "print(\"shape:\", img.shape)\n",
    "print(\"dtype:\", img.dtype)\n",
    "print(y)\n",
    "plt.imshow(img, cmap='gray');\n",
    "\n"
   ]
  },
  {
   "cell_type": "markdown",
   "metadata": {},
   "source": [
    "## Training function"
   ]
  },
  {
   "cell_type": "code",
   "execution_count": 30,
   "metadata": {},
   "outputs": [],
   "source": [
    "# TODO: make nicer progress reporting using tqdm\n",
    "# for i, batch in enumerate(tqdm(dataloader))\n",
    "\n",
    "def train_model(model, dataloaders, criterion, optimizer, scheduler=None, num_epochs=1):\n",
    "    \"\"\"Train a model. After training, the model weights are set to those that resulted \n",
    "    in the lowest validation loss during training.\n",
    "    \n",
    "    Parameters:\n",
    "    - model: a model instance\n",
    "    - dataloaders: a dictionary. Must have keys \"train\" and \"val\", and dataloaders as values\n",
    "    - criterion: a loss function\n",
    "    - optimizer: an optimizer instance\n",
    "    - scheduler: a method from torch.optim.lr_scheduler\n",
    "    - num_epochs: number of epochs to train (default 1)\n",
    "    \n",
    "    Returns:\n",
    "    - history: dict with training/validation loss history\n",
    "    \"\"\"\n",
    "\n",
    "    best_model_wts = copy.deepcopy(model.state_dict())\n",
    "\n",
    "    # set initial loss to infinity\n",
    "    best_loss = np.inf \n",
    "\n",
    "    dataset_sizes = {k: len(loader.dataset) for k, loader in dataloaders.items()}\n",
    "\n",
    "    # initialise \n",
    "    history = {'train': [], 'val': []}\n",
    "\n",
    "    for epoch in range(num_epochs):\n",
    "        print('Epoch {}/{}'.format(epoch + 1, num_epochs))\n",
    "        print('-' * 10)\n",
    "\n",
    "        # Each epoch has a training and validation phase\n",
    "        for phase in ['train', 'val']:\n",
    "            if phase == 'train':\n",
    "                model.train()  # Set model to training mode\n",
    "            else:\n",
    "                model.eval()   # Set model to evaluate mode\n",
    "\n",
    "            running_loss = 0.0\n",
    "\n",
    "            # Iterate over data batches\n",
    "            dataloader = dataloaders[phase]\n",
    "            for batch_i, data in enumerate(dataloader):\n",
    "\n",
    "                # get the input images and the shape parameters\n",
    "                images, targets = data\n",
    "\n",
    "                # flatten pts\n",
    "                targets = targets.view(targets.size(0), -1)\n",
    "\n",
    "                # convert variables to floats for regression loss\n",
    "                #images = images.type(torch.FloatTensor)\n",
    "                targets = targets.type(torch.FloatTensor)\n",
    "\n",
    "                # zero the parameter (weight) gradients\n",
    "                optimizer.zero_grad()                \n",
    "                \n",
    "                # forward pass to get outputs\n",
    "                output = model.forward(images)\n",
    "\n",
    "                # calculate the loss between predicted and target keypoints\n",
    "                loss = criterion(output, targets)\n",
    "\n",
    "                # backward + optimize only if in training phase\n",
    "                if phase == 'train':\n",
    "                    loss.backward()\n",
    "                    optimizer.step()\n",
    "\n",
    "                # Statistics. Loss function returns mean loss over images; multiply by size of current batch\n",
    "                running_loss += loss.item() * images.size(0)\n",
    "\n",
    "            # learning rate scheduler\n",
    "            if phase == 'train' and scheduler is not None:\n",
    "                scheduler.step()\n",
    "\n",
    "            # epoch finished\n",
    "            epoch_loss = running_loss / dataset_sizes[phase]\n",
    "            history[phase].append(epoch_loss)\n",
    "            print('{} Loss: {:.6f}'.format(phase, epoch_loss))\n",
    "          \n",
    "            # deep copy the model\n",
    "            if phase == 'val' and epoch_loss < best_loss:\n",
    "                best_loss = epoch_loss\n",
    "                best_model_wts = copy.deepcopy(model.state_dict())\n",
    "\n",
    "    # final message\n",
    "    print('\\nBest val loss: {:6f}'.format(best_loss))\n",
    "\n",
    "    # load best model weights\n",
    "    model.load_state_dict(best_model_wts)\n",
    "\n",
    "    return history\n"
   ]
  },
  {
   "cell_type": "markdown",
   "metadata": {},
   "source": [
    "## Define a Model"
   ]
  },
  {
   "cell_type": "code",
   "execution_count": 31,
   "metadata": {},
   "outputs": [],
   "source": [
    "\n",
    "def conv_dims(input_size, k, s, p):\n",
    "    \"\"\"Return output size for a 2D convolution kernel (square input, \n",
    "    square kernel). See https://arxiv.org/pdf/1603.07285v2.pdf, relationship 6\n",
    "\n",
    "    Parameters\n",
    "    ----------\n",
    "    input_size : int\n",
    "        size (width) of input feature\n",
    "    k : int\n",
    "        convolution kernel size\n",
    "    s : int\n",
    "        convolution stride\n",
    "    p : int \n",
    "        zero padding\n",
    "\n",
    "    Returns\n",
    "    -------\n",
    "    output_size : int\n",
    "        size (width) of output feature\n",
    "    \n",
    "    \"\"\"\n",
    "    return (input_size + 2*p - k)//s + 1\n",
    "\n",
    "\n",
    "\n",
    "def pool_dims(input_size, k, s):\n",
    "    \"\"\"Return output size for a 2D convolution kernel (square input, \n",
    "    square kernel). See https://arxiv.org/pdf/1603.07285v2.pdf, relationship 7\n",
    "\n",
    "    Parameters\n",
    "    ----------\n",
    "    input_size : int\n",
    "        size (width) of input feature\n",
    "    k : int\n",
    "        pooling kernel size\n",
    "    s : int\n",
    "        pooling stride\n",
    "\n",
    "    Returns\n",
    "    -------\n",
    "    output_size : int\n",
    "        size (width) of output feature\n",
    "    \n",
    "    \"\"\"\n",
    "    return (input_size - k)//s + 1"
   ]
  },
  {
   "cell_type": "code",
   "execution_count": 32,
   "metadata": {},
   "outputs": [],
   "source": [
    "IMAGE_SIZE = 100\n",
    "OUTPUT_SIZE = 6\n",
    "\n",
    "class Net1(nn.Module):\n",
    "    \n",
    "    def __init__(self):\n",
    "        super(Net1, self).__init__()\n",
    "        \n",
    "        # first convolution\n",
    "        i1, m1, n1 = IMAGE_SIZE, 1, 8    # input size, num features in, num out\n",
    "        k1, s1, p1 = 5, 2, 0              # kernel size, stride, padding\n",
    "        o1 = conv_dims(i1, k1, s1, p1)    # output size\n",
    "        # first pooling\n",
    "        kp1, sp1 = 2, 2                   # kernel size, stride  \n",
    "        op1 = pool_dims(o1, kp1, sp1)     # output size\n",
    "        # second convolution\n",
    "        i2, m2, n2 = op1, n1, 16          # input size, num features in, num out\n",
    "        k2, s2, p2 = 3, 1, 0              # kernel size, stride, padding\n",
    "        o2 = conv_dims(i2, k2, s2, p2)    # output size\n",
    "        # second pooling\n",
    "        kp2, sp2 = 2, 2                   # kernel size, stride\n",
    "        op2 = pool_dims(o2, kp2, sp2)     # output size\n",
    "\n",
    "        # fully connected layers\n",
    "        self.mh0 = n2 * op2**2            # needed later - size of first linear layer\n",
    "        mh1 = 1000                        # input size of second fully connected layer        \n",
    "        mh2 = 50                        # input size of second fully connected layer        \n",
    "        \n",
    "        self.conv1 = nn.Conv2d(m1, n1, k1, stride=s1, padding=p1)\n",
    "        self.conv2 = nn.Conv2d(m2, n2, k2, stride=s2, padding=p2)\n",
    "        self.pool1 = nn.MaxPool2d(kp1, stride=sp1)\n",
    "        self.pool2 = nn.MaxPool2d(kp2, stride=sp2)        \n",
    "\n",
    "        self.fc1 = nn.Linear(self.mh0, mh1)\n",
    "        self.fc2 = nn.Linear(mh1, mh2)\n",
    "        self.fc3 = nn.Linear(mh2, OUTPUT_SIZE)\n",
    "        \n",
    "        \n",
    "    def forward(self, x):\n",
    "        x = self.pool1(F.relu(self.conv1(x)))\n",
    "        x = self.pool2(F.relu(self.conv2(x)))\n",
    "        x = x.view(-1, self.mh0)\n",
    "        x = F.relu(self.fc1(x))\n",
    "        x = F.relu(self.fc2(x))\n",
    "        x = self.fc3(x)\n",
    "        return x"
   ]
  },
  {
   "cell_type": "code",
   "execution_count": 33,
   "metadata": {},
   "outputs": [],
   "source": [
    "def plot_history(history, log=False):\n",
    "    \"\"\"history plot, return image\"\"\"\n",
    "    fig, ax = plt.subplots()\n",
    "    ax.plot(history['train'], \"o-\", label=\"train\")\n",
    "    ax.plot(history['val'], \"o-\", label=\"val\")\n",
    "    ax.set_xlabel(\"Epoch\")\n",
    "    ax.set_ylabel(\"Loss\")\n",
    "    if log:\n",
    "        ax.semilogy()\n",
    "    ax.grid()\n",
    "    ax.legend()"
   ]
  },
  {
   "cell_type": "markdown",
   "metadata": {},
   "source": [
    "## Settings"
   ]
  },
  {
   "cell_type": "code",
   "execution_count": 44,
   "metadata": {},
   "outputs": [
    {
     "name": "stdout",
     "output_type": "stream",
     "text": [
      "Net1(\n",
      "  (conv1): Conv2d(1, 8, kernel_size=(5, 5), stride=(2, 2))\n",
      "  (conv2): Conv2d(8, 16, kernel_size=(3, 3), stride=(1, 1))\n",
      "  (pool1): MaxPool2d(kernel_size=2, stride=2, padding=0, dilation=1, ceil_mode=False)\n",
      "  (pool2): MaxPool2d(kernel_size=2, stride=2, padding=0, dilation=1, ceil_mode=False)\n",
      "  (fc1): Linear(in_features=1936, out_features=1000, bias=True)\n",
      "  (fc2): Linear(in_features=1000, out_features=50, bias=True)\n",
      "  (fc3): Linear(in_features=50, out_features=6, bias=True)\n",
      ")\n"
     ]
    }
   ],
   "source": [
    "lr = 0.0003\n",
    "\n",
    "model = Net1()\n",
    "optimizer = torch.optim.Adam(model.parameters(), lr=lr)\n",
    "criterion = nn.MSELoss()\n",
    "print(model)\n",
    " "
   ]
  },
  {
   "cell_type": "code",
   "execution_count": 45,
   "metadata": {},
   "outputs": [
    {
     "name": "stdout",
     "output_type": "stream",
     "text": [
      "Epoch 1/50\n",
      "----------\n",
      "train Loss: 0.023018\n",
      "val Loss: 0.006457\n",
      "Epoch 2/50\n",
      "----------\n",
      "train Loss: 0.004268\n",
      "val Loss: 0.002593\n",
      "Epoch 3/50\n",
      "----------\n",
      "train Loss: 0.002023\n",
      "val Loss: 0.001230\n",
      "Epoch 4/50\n",
      "----------\n",
      "train Loss: 0.001094\n",
      "val Loss: 0.000794\n",
      "Epoch 5/50\n",
      "----------\n",
      "train Loss: 0.000752\n",
      "val Loss: 0.000727\n",
      "Epoch 6/50\n",
      "----------\n",
      "train Loss: 0.000626\n",
      "val Loss: 0.000456\n",
      "Epoch 7/50\n",
      "----------\n",
      "train Loss: 0.000476\n",
      "val Loss: 0.000397\n",
      "Epoch 8/50\n",
      "----------\n",
      "train Loss: 0.000381\n",
      "val Loss: 0.000268\n",
      "Epoch 9/50\n",
      "----------\n",
      "train Loss: 0.000334\n",
      "val Loss: 0.000319\n",
      "Epoch 10/50\n",
      "----------\n",
      "train Loss: 0.000271\n",
      "val Loss: 0.000371\n",
      "Epoch 11/50\n",
      "----------\n",
      "train Loss: 0.000240\n",
      "val Loss: 0.000251\n",
      "Epoch 12/50\n",
      "----------\n",
      "train Loss: 0.000174\n",
      "val Loss: 0.000184\n",
      "Epoch 13/50\n",
      "----------\n",
      "train Loss: 0.000167\n",
      "val Loss: 0.000181\n",
      "Epoch 14/50\n",
      "----------\n",
      "train Loss: 0.000139\n",
      "val Loss: 0.000140\n",
      "Epoch 15/50\n",
      "----------\n",
      "train Loss: 0.000134\n",
      "val Loss: 0.000137\n",
      "Epoch 16/50\n",
      "----------\n",
      "train Loss: 0.000117\n",
      "val Loss: 0.000158\n",
      "Epoch 17/50\n",
      "----------\n",
      "train Loss: 0.000114\n",
      "val Loss: 0.000139\n",
      "Epoch 18/50\n",
      "----------\n",
      "train Loss: 0.000102\n",
      "val Loss: 0.000082\n",
      "Epoch 19/50\n",
      "----------\n",
      "train Loss: 0.000105\n",
      "val Loss: 0.000135\n",
      "Epoch 20/50\n",
      "----------\n",
      "train Loss: 0.000083\n",
      "val Loss: 0.000087\n",
      "Epoch 21/50\n",
      "----------\n",
      "train Loss: 0.000091\n",
      "val Loss: 0.000258\n",
      "Epoch 22/50\n",
      "----------\n",
      "train Loss: 0.000089\n",
      "val Loss: 0.000115\n",
      "Epoch 23/50\n",
      "----------\n",
      "train Loss: 0.000067\n",
      "val Loss: 0.000082\n",
      "Epoch 24/50\n",
      "----------\n",
      "train Loss: 0.000056\n",
      "val Loss: 0.000089\n",
      "Epoch 25/50\n",
      "----------\n",
      "train Loss: 0.000062\n",
      "val Loss: 0.000072\n",
      "Epoch 26/50\n",
      "----------\n",
      "train Loss: 0.000063\n",
      "val Loss: 0.000044\n",
      "Epoch 27/50\n",
      "----------\n",
      "train Loss: 0.000053\n",
      "val Loss: 0.000073\n",
      "Epoch 28/50\n",
      "----------\n",
      "train Loss: 0.000061\n",
      "val Loss: 0.000093\n",
      "Epoch 29/50\n",
      "----------\n",
      "train Loss: 0.000064\n",
      "val Loss: 0.000099\n",
      "Epoch 30/50\n",
      "----------\n",
      "train Loss: 0.000065\n",
      "val Loss: 0.000092\n",
      "Epoch 31/50\n",
      "----------\n",
      "train Loss: 0.000045\n",
      "val Loss: 0.000065\n",
      "Epoch 32/50\n",
      "----------\n",
      "train Loss: 0.000072\n",
      "val Loss: 0.000047\n",
      "Epoch 33/50\n",
      "----------\n",
      "train Loss: 0.000038\n",
      "val Loss: 0.000041\n",
      "Epoch 34/50\n",
      "----------\n",
      "train Loss: 0.000046\n",
      "val Loss: 0.000040\n",
      "Epoch 35/50\n",
      "----------\n",
      "train Loss: 0.000035\n",
      "val Loss: 0.000149\n",
      "Epoch 36/50\n",
      "----------\n",
      "train Loss: 0.000054\n",
      "val Loss: 0.000168\n",
      "Epoch 37/50\n",
      "----------\n",
      "train Loss: 0.000049\n",
      "val Loss: 0.000057\n",
      "Epoch 38/50\n",
      "----------\n",
      "train Loss: 0.000054\n",
      "val Loss: 0.000041\n",
      "Epoch 39/50\n",
      "----------\n",
      "train Loss: 0.000030\n",
      "val Loss: 0.000039\n",
      "Epoch 40/50\n",
      "----------\n",
      "train Loss: 0.000036\n",
      "val Loss: 0.000033\n",
      "Epoch 41/50\n",
      "----------\n",
      "train Loss: 0.000030\n",
      "val Loss: 0.000036\n",
      "Epoch 42/50\n",
      "----------\n",
      "train Loss: 0.000036\n",
      "val Loss: 0.000029\n",
      "Epoch 43/50\n",
      "----------\n",
      "train Loss: 0.000032\n",
      "val Loss: 0.000102\n",
      "Epoch 44/50\n",
      "----------\n",
      "train Loss: 0.000040\n",
      "val Loss: 0.000058\n",
      "Epoch 45/50\n",
      "----------\n",
      "train Loss: 0.000033\n",
      "val Loss: 0.000049\n",
      "Epoch 46/50\n",
      "----------\n",
      "train Loss: 0.000047\n",
      "val Loss: 0.000023\n",
      "Epoch 47/50\n",
      "----------\n",
      "train Loss: 0.000034\n",
      "val Loss: 0.000032\n",
      "Epoch 48/50\n",
      "----------\n",
      "train Loss: 0.000033\n",
      "val Loss: 0.000050\n",
      "Epoch 49/50\n",
      "----------\n",
      "train Loss: 0.000030\n",
      "val Loss: 0.000032\n",
      "Epoch 50/50\n",
      "----------\n",
      "train Loss: 0.000030\n",
      "val Loss: 0.000030\n",
      "\n",
      "Best val loss: 0.000023\n"
     ]
    }
   ],
   "source": [
    "if 1 == 1:\n",
    "    hist = train_model(model, dataloaders, criterion, optimizer, num_epochs=50)"
   ]
  },
  {
   "cell_type": "code",
   "execution_count": 46,
   "metadata": {},
   "outputs": [
    {
     "data": {
      "image/png": "[encoded data removed]",
      "text/plain": [
       "<Figure size 432x288 with 1 Axes>"
      ]
     },
     "metadata": {
      "needs_background": "light"
     },
     "output_type": "display_data"
    }
   ],
   "source": [
    "plot_history(hist, log=True)"
   ]
  },
  {
   "cell_type": "markdown",
   "metadata": {},
   "source": [
    "Ah, great! It works!"
   ]
  },
  {
   "cell_type": "markdown",
   "metadata": {},
   "source": [
    "### Save model"
   ]
  },
  {
   "cell_type": "code",
   "execution_count": 47,
   "metadata": {},
   "outputs": [],
   "source": [
    "# after training, save your model parameters in the dir 'saved_models'\n",
    "torch.save(model.state_dict(), \"models/C2_Net1_50.pt\")"
   ]
  },
  {
   "cell_type": "markdown",
   "metadata": {},
   "source": [
    "# Inference"
   ]
  },
  {
   "cell_type": "markdown",
   "metadata": {},
   "source": [
    "### Utilities"
   ]
  },
  {
   "cell_type": "code",
   "execution_count": 48,
   "metadata": {},
   "outputs": [],
   "source": [
    "from sklearn.preprocessing import MinMaxScaler\n",
    "import pickle\n",
    "import pandas as pd\n",
    "from sections import VERTEX_FUNCTIONS\n",
    "\n",
    "shape_func, shape_params = VERTEX_FUNCTIONS['c2']\n",
    "\n",
    "def imshow(tensor):\n",
    "    \"\"\"show first image in a tensor\"\"\"\n",
    "    img = tensor[0].numpy() # shape(1,224,224) -> shape(224,224)\n",
    "    img = img.squeeze()\n",
    "    plt.imshow(img, cmap='gray');\n",
    "    \n",
    "def load_checkpoint(model, fpath):\n",
    "    state_dict = torch.load(fpath, map_location='cpu')\n",
    "    model.load_state_dict(state_dict)\n",
    "    model.eval()"
   ]
  },
  {
   "cell_type": "code",
   "execution_count": 50,
   "metadata": {},
   "outputs": [],
   "source": [
    "# instantiate model, load weights\n",
    "model = Net1()\n",
    "load_checkpoint(model, \"models/C2_Net1_50.pt\")\n",
    "\n",
    "# scaler\n",
    "with open(\"dataset/C2_scaler.pkl\", \"rb\") as fp:\n",
    "    scaler = pickle.load(fp)"
   ]
  },
  {
   "cell_type": "code",
   "execution_count": 102,
   "metadata": {},
   "outputs": [
    {
     "data": {
      "image/png": "[encoded data removed]",
      "text/plain": [
       "<Figure size 432x288 with 1 Axes>"
      ]
     },
     "metadata": {
      "needs_background": "light"
     },
     "output_type": "display_data"
    }
   ],
   "source": [
    "i = 93\n",
    "area = 200\n",
    "\n",
    "# get data point\n",
    "ds = datasets['val']\n",
    "image, target = ds[i]\n",
    "# show image and target\n",
    "imshow(image)"
   ]
  },
  {
   "cell_type": "code",
   "execution_count": 103,
   "metadata": {},
   "outputs": [
    {
     "name": "stdout",
     "output_type": "stream",
     "text": [
      "['h', 'tw', 'ba', 'ra', 'bf', 'rf']\n",
      "target (scaled):  [0.85000573 0.19437116 0.35025127 0.30133401 0.19691905 0.54281199]\n",
      "output (scaled):  [[0.8498283  0.2016884  0.3429889  0.28911775 0.20731738 0.5311064 ]]\n",
      "target (unscaled):  [56.19570602  2.44329157 24.43291566  7.3298747  14.6597494   9.77316626]\n",
      "output (unscaled):  [56.188644  2.468097 24.181393  7.177397 14.985454  9.63937 ]\n"
     ]
    }
   ],
   "source": [
    "img = image.reshape(1, 1, 100, 100)\n",
    "img.shape\n",
    "with torch.no_grad():\n",
    "    outputs = model.forward(img)\n",
    "    outputs = outputs.numpy()\n",
    "    \n",
    "# print raw target / output\n",
    "print(shape_params)\n",
    "\n",
    "print(\"target (scaled): \", target.squeeze())\n",
    "print(\"output (scaled): \", outputs) #.squeeze())\n",
    "\n",
    "# unscale both, multiply with reference length (sqrt(A))\n",
    "target_dim = np.sqrt(area) * scaler.inverse_transform(target.T)\n",
    "target_dim = target_dim.squeeze()\n",
    "output_dim = np.sqrt(area) * scaler.inverse_transform(outputs)\n",
    "output_dim = output_dim.squeeze()\n",
    "print(\"target (unscaled): \", target_dim)\n",
    "print(\"output (unscaled): \", output_dim)\n",
    "\n",
    "# generate vertices"
   ]
  },
  {
   "cell_type": "code",
   "execution_count": 104,
   "metadata": {},
   "outputs": [
    {
     "data": {
      "text/html": [
       "<div>\n",
       "<style scoped>\n",
       "    .dataframe tbody tr th:only-of-type {\n",
       "        vertical-align: middle;\n",
       "    }\n",
       "\n",
       "    .dataframe tbody tr th {\n",
       "        vertical-align: top;\n",
       "    }\n",
       "\n",
       "    .dataframe thead th {\n",
       "        text-align: right;\n",
       "    }\n",
       "</style>\n",
       "<table border=\"1\" class=\"dataframe\">\n",
       "  <thead>\n",
       "    <tr style=\"text-align: right;\">\n",
       "      <th></th>\n",
       "      <th>h</th>\n",
       "      <th>tw</th>\n",
       "      <th>ba</th>\n",
       "      <th>ra</th>\n",
       "      <th>bf</th>\n",
       "      <th>rf</th>\n",
       "    </tr>\n",
       "  </thead>\n",
       "  <tbody>\n",
       "    <tr>\n",
       "      <th>true</th>\n",
       "      <td>56.20</td>\n",
       "      <td>2.44</td>\n",
       "      <td>24.43</td>\n",
       "      <td>7.33</td>\n",
       "      <td>14.66</td>\n",
       "      <td>9.77</td>\n",
       "    </tr>\n",
       "    <tr>\n",
       "      <th>predicted</th>\n",
       "      <td>56.19</td>\n",
       "      <td>2.47</td>\n",
       "      <td>24.18</td>\n",
       "      <td>7.18</td>\n",
       "      <td>14.99</td>\n",
       "      <td>9.64</td>\n",
       "    </tr>\n",
       "  </tbody>\n",
       "</table>\n",
       "</div>"
      ],
      "text/plain": [
       "               h    tw     ba    ra     bf    rf\n",
       "true       56.20  2.44  24.43  7.33  14.66  9.77\n",
       "predicted  56.19  2.47  24.18  7.18  14.99  9.64"
      ]
     },
     "execution_count": 104,
     "metadata": {},
     "output_type": "execute_result"
    }
   ],
   "source": [
    "# show results\n",
    "df = pd.DataFrame([target_dim, output_dim], index=['true', 'predicted'], \n",
    "                  columns=shape_params)\n",
    "df.round(2)"
   ]
  },
  {
   "cell_type": "code",
   "execution_count": 105,
   "metadata": {},
   "outputs": [
    {
     "data": {
      "image/png": "[encoded data removed]",
      "text/plain": [
       "<Figure size 432x432 with 1 Axes>"
      ]
     },
     "metadata": {
      "needs_background": "light"
     },
     "output_type": "display_data"
    }
   ],
   "source": [
    "fig, ax = plt.subplots(figsize=(6, 6))\n",
    "\n",
    "# generate polygons\n",
    "true_o, true_i = shape_func(*target_dim.squeeze())\n",
    "pred_o, pred_i = shape_func(*output_dim.squeeze())\n",
    "\n",
    "\n",
    "for outer in true_o:\n",
    "    mppoly = plt.Polygon(outer, ec=\"k\", ls='--', fill=False, linewidth=1)\n",
    "    ax.add_patch(mppoly)\n",
    "for inner in true_i:\n",
    "    mppoly = plt.Polygon(inner, ec=\"k\", ls='--', fill=False, linewidth=1)\n",
    "    ax.add_patch(mppoly)\n",
    "    \n",
    "for outer in pred_o:\n",
    "    mppoly = plt.Polygon(outer, ec=\"r\", fill=False, linewidth=1)\n",
    "    ax.add_patch(mppoly)\n",
    "for inner in pred_i:\n",
    "    mppoly = plt.Polygon(inner, ec=\"r\", fill=False, linewidth=1)\n",
    "    ax.add_patch(mppoly)\n",
    "\n",
    "ax.autoscale(tight=False)\n",
    "ax.set_aspect(\"equal\")\n",
    "#ax.axis(\"off\");\n"
   ]
  },
  {
   "cell_type": "markdown",
   "metadata": {},
   "source": [
    "### Evaluate: Compute IOU"
   ]
  },
  {
   "cell_type": "code",
   "execution_count": 101,
   "metadata": {},
   "outputs": [],
   "source": [
    "# to be completed"
   ]
  },
  {
   "cell_type": "markdown",
   "metadata": {},
   "source": [
    "### Full Loop: Input polygon vertices, create image "
   ]
  },
  {
   "cell_type": "code",
   "execution_count": null,
   "metadata": {},
   "outputs": [],
   "source": [
    "# to be completed"
   ]
  }
 ],
 "metadata": {
  "kernelspec": {
   "display_name": "Python 3",
   "language": "python",
   "name": "python3"
  },
  "language_info": {
   "codemirror_mode": {
    "name": "ipython",
    "version": 3
   },
   "file_extension": ".py",
   "mimetype": "text/x-python",
   "name": "python",
   "nbconvert_exporter": "python",
   "pygments_lexer": "ipython3",
   "version": "3.8.2"
  }
 },
 "nbformat": 4,
 "nbformat_minor": 4
}
