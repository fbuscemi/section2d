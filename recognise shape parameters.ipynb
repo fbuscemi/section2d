{
 "cells": [
  {
   "cell_type": "code",
   "execution_count": 1,
   "metadata": {},
   "outputs": [],
   "source": [
    "%matplotlib inline\n",
    "import numpy as np\n",
    "import matplotlib\n",
    "import matplotlib.pyplot as plt\n",
    "from matplotlib import path\n",
    "\n",
    "import shapely\n",
    "from shapely.geometry import Polygon\n",
    "from shapely import speedups\n",
    "#from shapely.errors import TopologicalError\n",
    "\n",
    "import warnings\n",
    "warnings.filterwarnings('ignore')\n",
    "\n",
    "from scipy.optimize import differential_evolution, basinhopping, shgo, dual_annealing\n",
    "\n",
    "import cv2\n",
    "\n",
    "from sections import section, VERTEX_FUNCTIONS"
   ]
  },
  {
   "cell_type": "code",
   "execution_count": 2,
   "metadata": {},
   "outputs": [],
   "source": [
    "if speedups.available:\n",
    "    speedups.enable()"
   ]
  },
  {
   "cell_type": "code",
   "execution_count": 3,
   "metadata": {},
   "outputs": [
    {
     "data": {
      "image/svg+xml": [
       "<svg xmlns=\"http://www.w3.org/2000/svg\" xmlns:xlink=\"http://www.w3.org/1999/xlink\" width=\"100.0\" height=\"100.0\" viewBox=\"-1.2 -1.2 22.4 32.4\" preserveAspectRatio=\"xMinYMin meet\"><g transform=\"matrix(1,0,0,-1,0,30.0)\"><path fill-rule=\"evenodd\" fill=\"#66cc99\" stroke=\"#555555\" stroke-width=\"0.648\" opacity=\"0.6\" d=\"M 20.0,0.0 L 20.0,2.0 L 9.999999999999998,2.0 L 8.610814578664558,2.121537975902336 L 7.263838853394652,2.4824590337127326 L 5.9999999999999964,3.071796769724493 L 4.857699122507684,3.871644455048177 L 3.871644455048176,4.857699122507686 L 3.0717967697244912,5.999999999999999 L 2.4824590337127326,7.263838853394651 L 2.121537975902336,8.610814578664556 L 2.0,10.000000000000002 L 2.0,30.0 L 0.0,30.0 L 0.0,10.000000000000002 L 0.15192246987792046,8.263518223330696 L 0.6030737921409148,6.579798566743314 L 1.3397459621556145,4.999999999999999 L 2.33955556881022,3.5721239031346075 L 3.572123903134605,2.339555568810221 L 4.999999999999996,1.3397459621556163 L 6.579798566743315,0.6030737921409148 L 8.263518223330697,0.15192246987792046 L 9.999999999999998,0.0 L 20.0,0.0 z\" /></g></svg>"
      ],
      "text/plain": [
       "<shapely.geometry.polygon.Polygon at 0x7f5a381aded0>"
      ]
     },
     "execution_count": 3,
     "metadata": {},
     "output_type": "execute_result"
    }
   ],
   "source": [
    "ll = section('l2', 30, 2, 20, 8)\n",
    "ll"
   ]
  },
  {
   "cell_type": "code",
   "execution_count": 4,
   "metadata": {},
   "outputs": [
    {
     "data": {
      "text/plain": [
       "True"
      ]
     },
     "execution_count": 4,
     "metadata": {},
     "output_type": "execute_result"
    }
   ],
   "source": [
    "ll.is_valid"
   ]
  },
  {
   "cell_type": "markdown",
   "metadata": {},
   "source": [
    "#### Affine Transformation\n",
    "\n",
    "Allgemein: \n",
    "```\n",
    "| a  b  xoff |\n",
    "| d  e  yoff |\n",
    "| 0  0  1    |\n",
    "```\n",
    "\n",
    "Spiegelung:\n",
    "```\n",
    "| 1   0  0 |\n",
    "| 0  -1  0 |\n",
    "| 0   0  1 |\n",
    "```\n"
   ]
  },
  {
   "cell_type": "code",
   "execution_count": 5,
   "metadata": {},
   "outputs": [
    {
     "data": {
      "image/svg+xml": [
       "<svg xmlns=\"http://www.w3.org/2000/svg\" xmlns:xlink=\"http://www.w3.org/1999/xlink\" width=\"100.0\" height=\"100.0\" viewBox=\"0.25298888762861993 -28.137538575381143 38.45000829857037 18.579855166417595\" preserveAspectRatio=\"xMinYMin meet\"><g transform=\"matrix(1,0,0,-1,0,-37.69522198434469)\"><path fill-rule=\"evenodd\" fill=\"#66cc99\" stroke=\"#555555\" stroke-width=\"0.7690001659714073\" opacity=\"0.6\" d=\"M 1.677063269057152,-11.814051463486365 L 3.495658122708516,-10.98175779039208 L 7.657126488179941,-20.074732058648898 L 8.345745775395688,-21.287337143460867 L 9.234470051526749,-22.361942547994403 L 10.29629587915907,-23.265896930809333 L 11.498960217829824,-23.971734095406806 L 12.805920720186027,-24.45800753671137 L 14.177466052717513,-24.709942082275226 L 15.571922504530736,-24.719882828416438 L 16.946920221966362,-24.487527730593772 L 18.260680595162533,-24.01993678087721 L 36.44662913167617,-15.697000049934363 L 37.27892280477045,-17.51559490358573 L 19.092974268256818,-25.838531634528575 L 17.450773801761606,-26.423020321674272 L 15.732026654967072,-26.71346419395261 L 13.988956090200542,-26.70103826127609 L 12.274524424536185,-26.386120079321273 L 10.640823796590931,-25.778278277690568 L 9.13749337325249,-24.895981821943728 L 7.810211088712088,-23.766038843425065 L 6.699305743548263,-22.422782087758144 L 5.838531634528577,-20.907025731743182 L 1.677063269057152,-11.814051463486365 z\" /></g></svg>"
      ],
      "text/plain": [
       "<shapely.geometry.polygon.Polygon at 0x7f5a27b72e90>"
      ]
     },
     "execution_count": 5,
     "metadata": {},
     "output_type": "execute_result"
    }
   ],
   "source": [
    "# matrix given as tuple/list: [a, b, d, e, xoff, yoff]\n",
    "\n",
    "#shapely.affinity.affine_transform(ll)\n",
    "#shapely.affinity.rotate(ll, 20, origin='center', use_radians=False)\n",
    "\n",
    "mirror = -0.9 # wenn < 0: \n",
    "theta = 2 # rad\n",
    "x0 = 10\n",
    "y0 = 30\n",
    "\n",
    "#mir = [1, 0, 0, -1, 0, 0]\n",
    "sm = np.sign(mirror)\n",
    "\n",
    "# 2. zeile mit +/- 1 multiplizieren\n",
    "mat = [np.cos(theta), np.sin(theta), -np.sin(theta)*sm, np.cos(theta)*sm, x0, y0*sm]\n",
    "\n",
    "l2 = shapely.affinity.affine_transform(ll, mat)\n",
    "l2"
   ]
  },
  {
   "cell_type": "markdown",
   "metadata": {},
   "source": [
    "## Optimize\n",
    "\n",
    "- optimise shape parameters and orientation\n",
    "- criterion is symmetric difference\n",
    "\n",
    "#### Orientierung\n",
    "\n",
    "was funktionieren könnte: Orientierung als parameter rausnehmen.\n",
    "\n",
    "- Hauptträgheitsachsen von p0 berechnen\n",
    "- dann hauptträgheitsachsen von py berechnen\n",
    "- übereinanderlegen\n",
    "\n",
    "#### TODO: \n",
    "\n",
    "- Parametersuche auch für nicht exakte Übereinstimmung (z.B. Profil mit kleinen Fasen)"
   ]
  },
  {
   "cell_type": "code",
   "execution_count": 6,
   "metadata": {},
   "outputs": [],
   "source": [
    "def cost(x, p0, section_type):\n",
    "    # first element of x: theta\n",
    "    theta = x[0]\n",
    "    # rest: shape parameters\n",
    "    try:\n",
    "        poly = section(section_type, *x[1:])\n",
    "        poly = shapely.affinity.rotate(poly, theta, use_radians=True)\n",
    "        poly = shapely.affinity.translate(poly, -poly.centroid.x, -poly.centroid.y)\n",
    "        diff = p0.symmetric_difference(poly)\n",
    "        return diff.area/p0.area\n",
    "    except:\n",
    "        return 2.0 # FIXME: this is an arbitrary value - anything better?\n"
   ]
  },
  {
   "cell_type": "code",
   "execution_count": 6,
   "metadata": {},
   "outputs": [
    {
     "name": "stdout",
     "output_type": "stream",
     "text": [
      "[(3.9668815826578685, 37.41390371212898)]\n",
      "[(3.768251578806047, 38.036721248763946)]\n",
      "[(-7.359223865500542e-15, -3.0469279473465744e-14)]\n"
     ]
    },
    {
     "data": {
      "image/svg+xml": [
       "<svg xmlns=\"http://www.w3.org/2000/svg\" xmlns:xlink=\"http://www.w3.org/1999/xlink\" width=\"100.0\" height=\"100.0\" viewBox=\"-9.60698011964048 -42.07427462495443 27.68114198062998 87.23841162200347\" preserveAspectRatio=\"xMinYMin meet\"><g transform=\"matrix(1,0,0,-1,0,3.089862372094615)\"><path fill-rule=\"evenodd\" fill=\"#66cc99\" stroke=\"#555555\" stroke-width=\"1.7447682324400693\" opacity=\"0.6\" d=\"M 14.703660390296825,-38.843222342658 L 14.843109578693078,-37.24931082571121 L 2.4902953223554345,-36.16857961564025 L 1.1169889035165372,-35.926428641218834 L -0.19340482958889282,-35.449484327199485 L -1.4010702264716706,-34.75223838521822 L -2.46931298515568,-33.85587628039866 L -3.3656750899752326,-32.78763352171465 L -4.062921031956497,-31.579968124831883 L -4.539865345975845,-30.26957439172645 L -4.782016320397263,-28.89626797288755 L -4.782016320397263,-27.501776088925016 L 0.5170528386603541,33.066861555053116 L 0.759203813081772,34.44016797389201 L 1.236148127101119,35.75056170699744 L 1.933394069082384,36.958227103880226 L 2.8297561739019397,38.02646986256425 L 3.897998932585951,38.92283196738378 L 5.105664329468724,39.620077909365044 L 6.416058062574153,40.09702222338441 L 7.789364481413053,40.33917319780581 L 9.183856365375583,40.33917319780581 L 14.56330773507101,39.868532186968444 L 14.702756923467259,41.46244370391525 L 9.323305553771835,41.93308471475259 L 7.649915293016801,41.93308471475262 L 6.001947590410119,41.64250354544691 L 4.429475110683605,41.0701703686237 L 2.980276634424275,40.233475238246164 L 1.698385324003464,39.15784071246272 L 0.6227507982199958,37.87594940204189 L -0.21394433215752073,36.42675092578258 L -0.7862775089807359,34.854278446056036 L -1.0768586782864382,33.20631074344936 L -6.375927837344055,-27.362326900528764 L -6.375927837344054,-29.035717161283806 L -6.085346668038354,-30.683684863890484 L -5.513013491215137,-32.256157343617 L -4.6763183608376195,-33.705355819876324 L -3.6006838350541557,-34.98724713029714 L -2.318792524633345,-36.062881656080606 L -0.8695940483740108,-36.89957678645813 L 0.7028784313525023,-37.47190996328134 L 2.350846133959182,-37.762491132587044 L 14.703660390296825,-38.843222342658 z\" /></g></svg>"
      ],
      "text/plain": [
       "<shapely.geometry.polygon.Polygon at 0x7f2ffc72ee10>"
      ]
     },
     "execution_count": 6,
     "metadata": {},
     "output_type": "execute_result"
    }
   ],
   "source": [
    "# h, tw, ba, ta, bf, tf\n",
    "sectype = \"c2\"\n",
    "#x0 = [30, 2.5, 20, 3, 8, 6] # for z1, c1\n",
    "x0 = [80, 1.6, 22, 8, 15, 8]\n",
    "p0 = section(sectype, *x0)\n",
    "print(p0.centroid.coords[:])\n",
    "p0 = shapely.affinity.rotate(p0, -5)\n",
    "print(p0.centroid.coords[:])\n",
    "# move centroid to origin\n",
    "p0 = shapely.affinity.translate(p0, -p0.centroid.x, -p0.centroid.y)\n",
    "print(p0.centroid.coords[:])\n",
    "\n",
    "p0"
   ]
  },
  {
   "cell_type": "code",
   "execution_count": 7,
   "metadata": {},
   "outputs": [],
   "source": [
    "bounds = [(-np.pi, np.pi)] + \\\n",
    "         [(10, 100), (0.6, 10), (5, 50), (2, 10), (5, 50), (2, 10)]\n",
    "# [(0.1, 50), (0.1, 50)]\n",
    "#xstart = [0] + [30, 3, 10, 3, 10, 3]\n",
    "\n",
    "\n",
    "# works\n",
    "result = differential_evolution(cost, bounds, atol=0.001, tol=0.001, maxiter=10000,\n",
    "                                args=(p0, sectype), strategy='best1bin')\n",
    "\n",
    "# does not work \n",
    "#result = basinhopping(cost, xstart, minimizer_kwargs={\"args\": (p0, sectype)})\n",
    "\n",
    "# does not work at all...\n",
    "#result = shgo(cost, bounds, args=(p0, sectype), options={\"fmin\": 0})\n",
    "\n",
    "# funktioniert auch\n",
    "# this accepts an initial start value !!!\n",
    "#result = dual_annealing(cost, bounds, args=(p0, sectype), )\n",
    "\n",
    "#result.x, result.fun"
   ]
  },
  {
   "cell_type": "code",
   "execution_count": 8,
   "metadata": {},
   "outputs": [
    {
     "name": "stdout",
     "output_type": "stream",
     "text": [
      "[-0.08726646 79.99955214  1.60000004 22.00132127  7.99992134 14.99908696\n",
      "  7.99429433]\n",
      "0.00026534804398407023\n"
     ]
    }
   ],
   "source": [
    "print(result.x)\n",
    "print(result.fun)"
   ]
  },
  {
   "cell_type": "code",
   "execution_count": 9,
   "metadata": {},
   "outputs": [
    {
     "data": {
      "text/plain": [
       "11954"
      ]
     },
     "execution_count": 9,
     "metadata": {},
     "output_type": "execute_result"
    }
   ],
   "source": [
    "result.nfev"
   ]
  },
  {
   "cell_type": "code",
   "execution_count": 10,
   "metadata": {},
   "outputs": [
    {
     "name": "stdout",
     "output_type": "stream",
     "text": [
      "[(3.9668815682885157, 37.41390428749565)]\n",
      "[(3.768273642118408, 38.03677856093389)]\n",
      "[(1.2039547025899532e-14, 2.714827174090439e-14)]\n"
     ]
    },
    {
     "data": {
      "image/svg+xml": [
       "<svg xmlns=\"http://www.w3.org/2000/svg\" xmlns:xlink=\"http://www.w3.org/1999/xlink\" width=\"100.0\" height=\"100.0\" viewBox=\"-9.606993706485229 -42.07439703109637 27.68247836601124 87.2385912151235\" preserveAspectRatio=\"xMinYMin meet\"><g transform=\"matrix(1,0,0,-1,0,3.089797152930764)\"><path fill-rule=\"evenodd\" fill=\"#66cc99\" stroke=\"#555555\" stroke-width=\"1.7447718243024701\" opacity=\"0.6\" d=\"M 14.704976531024844,-38.8433380972029 L 14.844425725632547,-37.24942653926239 L 2.4902169127446934,-36.16857330095687 L 1.1169239971335125,-35.92642470520459 L -0.1934568509401262,-35.44948507852794 L -1.4011103724922198,-34.75224599014039 L -2.4693426263725597,-33.855892696922595 L -3.365695916098603,-32.787660440112326 L -4.0629350005386735,-31.580006916281157 L -4.539874622932061,-30.269626066648534 L -4.7820232141954335,-28.896333150245837 L -4.782023211916355,-27.501854977418212 L 0.5175111424225252,33.07209873272374 L 0.7594894150406946,34.4444256978502 L 1.236093570632966,35.7538848466993 L 1.932842233105009,36.96068892565159 L 2.8285650469194517,38.02816980344043 L 3.8960459276361457,38.92389261376557 L 5.1028500088659134,39.62064127229292 L 6.412309159272909,40.09724542360494 L 7.784636125190327,40.33922369173735 L 9.178133446189715,40.33922368945988 L 14.562359164026535,39.86816496841731 L 14.701808358634239,41.462076526357826 L 9.317582640797418,41.93313524740039 L 7.645186935792672,41.93313525013367 L 5.9981986789250525,41.64272678631338 L 4.426660774963209,41.070733770158874 L 2.978323607882465,40.23453592002361 L 1.6971941696106088,39.1595406844474 L 0.6221989298467472,37.8784112496894 L -0.21399892502272477,36.430074085341964 L -0.7859919463141396,34.858536183249804 L -1.0764004155179845,33.211547927331445 L -6.375934769856866,-27.362405782810512 L -6.375934772591766,-29.03578233964349 L -6.085355985640504,-30.68373654699639 L -5.5130274984046395,-32.25619615018386 L -4.676339222356642,-33.705382759866005 L -3.600713507379536,-34.987263574231434 L -2.3188326965300265,-36.06288929339865 L -0.8696460895827767,-36.89957757418363 L 0.702813511733912,-37.47190606655943 L 2.35076771813699,-37.76248485889738 L 14.704976531024844,-38.8433380972029 z\" /></g></svg>"
      ],
      "text/plain": [
       "<shapely.geometry.polygon.Polygon at 0x7f2fb2ee3650>"
      ]
     },
     "execution_count": 10,
     "metadata": {},
     "output_type": "execute_result"
    }
   ],
   "source": [
    "px = section(sectype, *result.x[1:])\n",
    "print(px.centroid.coords[:])\n",
    "px = shapely.affinity.rotate(px, result.x[0], use_radians=True)\n",
    "print(px.centroid.coords[:])\n",
    "px = shapely.affinity.translate(px, -px.centroid.x, -px.centroid.y)\n",
    "print(px.centroid.coords[:])\n",
    "px"
   ]
  },
  {
   "cell_type": "code",
   "execution_count": 11,
   "metadata": {},
   "outputs": [
    {
     "data": {
      "text/plain": [
       "0.00026534804398407023"
      ]
     },
     "execution_count": 11,
     "metadata": {},
     "output_type": "execute_result"
    }
   ],
   "source": [
    "p0.symmetric_difference(px).area / p0.area"
   ]
  },
  {
   "cell_type": "code",
   "execution_count": 12,
   "metadata": {},
   "outputs": [
    {
     "data": {
      "image/svg+xml": [
       "<svg xmlns=\"http://www.w3.org/2000/svg\" xmlns:xlink=\"http://www.w3.org/1999/xlink\" width=\"100.0\" height=\"100.0\" viewBox=\"-9.606993706485229 -42.07439703109637 27.68247836601124 87.2385912151235\" preserveAspectRatio=\"xMinYMin meet\"><g transform=\"matrix(1,0,0,-1,0,3.089797152930764)\"><g><path fill-rule=\"evenodd\" fill=\"#66cc99\" stroke=\"#555555\" stroke-width=\"1.7447718243024701\" opacity=\"0.6\" d=\"M 14.703660390296825,-38.843222342658 L 14.843109529584307,-37.24931138702702 L 14.844425725632547,-37.24942653926239 L 14.704976531024844,-38.8433380972029 L 2.35076771813699,-37.76248485889738 L 0.702813511733912,-37.47190606655943 L -0.8696460895827767,-36.89957757418363 L -2.3188326965300265,-36.06288929339865 L -3.600713507379536,-34.987263574231434 L -4.676339222356642,-33.705382759866005 L -5.5130274984046395,-32.25619615018386 L -6.085355985640504,-30.68373654699639 L -6.375934772591766,-29.03578233964349 L -6.375934769856866,-27.362405782810512 L -4.718065222633072,-8.412870503589547 L -6.375927837344055,-27.362326900528764 L -6.375927837344054,-29.035717161283806 L -6.085346668038354,-30.683684863890484 L -5.513013491215137,-32.256157343617 L -4.6763183608376195,-33.705355819876324 L -3.6006838350541557,-34.98724713029714 L -2.318792524633345,-36.062881656080606 L -0.8695940483740108,-36.89957678645813 L 0.7028784313525023,-37.47190996328134 L 2.350846133959182,-37.762491132587044 L 14.703660390296825,-38.843222342658 z\" /><path fill-rule=\"evenodd\" fill=\"#66cc99\" stroke=\"#555555\" stroke-width=\"1.7447718243024701\" opacity=\"0.6\" d=\"M -4.782016320397263,-27.501776206996023 L -4.782016320397263,-28.89626797288755 L -4.539865345975845,-30.26957439172645 L -4.062921031956497,-31.579968124831883 L -3.3656750899752326,-32.78763352171465 L -2.46931298515568,-33.85587628039866 L -1.4010702264716706,-34.75223838521822 L -0.19340482958889282,-35.449484327199485 L 1.1169889035165372,-35.926428641218834 L 2.4902953223554345,-36.16857961564025 L 14.843109578693078,-37.24931082571121 L 14.843109529584307,-37.24931138702702 L 2.4902169127446934,-36.16857330095687 L 1.1169239971335125,-35.92642470520459 L -0.1934568509401262,-35.44948507852794 L -1.4011103724922198,-34.75224599014039 L -2.4693426263725597,-33.855892696922595 L -3.365695916098603,-32.787660440112326 L -4.0629350005386735,-31.580006916281157 L -4.539874622932061,-30.269626066648534 L -4.7820232141954335,-28.896333150245837 L -4.782023211916355,-27.501854977418212 L -4.782016320397263,-27.501776206996023 z\" /><path fill-rule=\"evenodd\" fill=\"#66cc99\" stroke=\"#555555\" stroke-width=\"1.7447718243024701\" opacity=\"0.6\" d=\"M -4.782016320397263,-27.501776206996023 L -4.782016320397263,-27.501776088925016 L 0.5170528386603541,33.066861555053116 L 0.5170530571450095,33.06686279414117 L -4.782016320397263,-27.501776206996023 z\" /><path fill-rule=\"evenodd\" fill=\"#66cc99\" stroke=\"#555555\" stroke-width=\"1.7447718243024701\" opacity=\"0.6\" d=\"M 9.178710568425666,40.33917319780581 L 7.789364481413053,40.33917319780581 L 6.416058062574153,40.09702222338441 L 5.105664329468724,39.620077909365044 L 3.897998932585951,38.92283196738378 L 2.8297561739019397,38.02646986256425 L 1.933394069082384,36.958227103880226 L 1.236148127101119,35.75056170699744 L 0.759203813081772,34.44016797389201 L 0.5170530571450095,33.06686279414117 L 0.5175111424225252,33.07209873272374 L 0.7594894150406946,34.4444256978502 L 1.236093570632966,35.7538848466993 L 1.932842233105009,36.96068892565159 L 2.8285650469194517,38.02816980344043 L 3.8960459276361457,38.92389261376557 L 5.1028500088659134,39.62064127229292 L 6.412309159272909,40.09724542360494 L 7.784636125190327,40.33922369173735 L 9.178133446189715,40.33922368945988 L 9.178710568425666,40.33917319780581 z\" /><path fill-rule=\"evenodd\" fill=\"#66cc99\" stroke=\"#555555\" stroke-width=\"1.7447718243024701\" opacity=\"0.6\" d=\"M 9.178710568425666,40.33917319780581 L 9.183856365375583,40.33917319780581 L 14.562398252906167,39.86861175634755 L 14.562359164026535,39.86816496841731 L 9.178710568425666,40.33917319780581 z\" /><path fill-rule=\"evenodd\" fill=\"#66cc99\" stroke=\"#555555\" stroke-width=\"1.7447718243024701\" opacity=\"0.6\" d=\"M 9.318160231593952,41.93308471475259 L 9.323305553771835,41.93308471475259 L 14.702756923467259,41.46244370391525 L 14.56330773507101,39.868532186968444 L 14.562398252906167,39.86861175634755 L 14.701808358634239,41.462076526357826 L 9.318160231593952,41.93308471475259 z\" /><path fill-rule=\"evenodd\" fill=\"#66cc99\" stroke=\"#555555\" stroke-width=\"1.7447718243024701\" opacity=\"0.6\" d=\"M 9.318160231593952,41.93308471475259 L 7.649915293016801,41.93308471475262 L 6.001947590410119,41.64250354544691 L 4.429475110683605,41.0701703686237 L 2.980276634424275,40.233475238246164 L 1.698385324003464,39.15784071246272 L 0.6227507982199958,37.87594940204189 L -0.21394433215752073,36.42675092578258 L -0.7862775089807359,34.854278446056036 L -1.0768585422450418,33.20631151497845 L -1.0764004155179845,33.211547927331445 L -0.7859919463141396,34.858536183249804 L -0.21399892502272477,36.430074085341964 L 0.6221989298467472,37.8784112496894 L 1.6971941696106088,39.1595406844474 L 2.978323607882465,40.23453592002361 L 4.426660774963209,41.070733770158874 L 5.9981986789250525,41.64272678631338 L 7.645186935792672,41.93313525013367 L 9.317582640797418,41.93313524740039 L 9.318160231593952,41.93308471475259 z\" /><path fill-rule=\"evenodd\" fill=\"#66cc99\" stroke=\"#555555\" stroke-width=\"1.7447718243024701\" opacity=\"0.6\" d=\"M -4.718065222633072,-8.412870503589547 L -1.0768586782864382,33.20631074344936 L -1.0768585422450418,33.20631151497845 L -4.718065222633072,-8.412870503589547 z\" /></g></g></svg>"
      ],
      "text/plain": [
       "<shapely.geometry.multipolygon.MultiPolygon at 0x7f2fcbfc15d0>"
      ]
     },
     "execution_count": 12,
     "metadata": {},
     "output_type": "execute_result"
    }
   ],
   "source": [
    "p0.symmetric_difference(px)"
   ]
  },
  {
   "cell_type": "markdown",
   "metadata": {},
   "source": [
    "## Statistics: line directions and lengths\n"
   ]
  },
  {
   "cell_type": "code",
   "execution_count": 14,
   "metadata": {},
   "outputs": [],
   "source": [
    "b = p0.boundary # LineString"
   ]
  },
  {
   "cell_type": "code",
   "execution_count": 15,
   "metadata": {},
   "outputs": [],
   "source": [
    "from collections import defaultdict\n",
    "\n",
    "coords = np.array(b.coords[:])\n",
    "n_coords = len(coords)\n",
    "lengths = defaultdict(float)\n",
    "\n",
    "for i in range(n_coords-1):\n",
    "    p0 = coords[i]\n",
    "    p1 = coords[i+1]\n",
    "    v = p1-p0\n",
    "    length = np.linalg.norm(v)\n",
    "    #alpha = np.arctan2(v[1], v[0]) \n",
    "    alpha = np.arctan(v[1]/v[0]) # 180% range is sufficient\n",
    "    alpha = np.degrees(alpha)\n",
    "    alpha = np.round(alpha, decimals=3)\n",
    "    lengths[alpha] += length"
   ]
  },
  {
   "cell_type": "code",
   "execution_count": 16,
   "metadata": {},
   "outputs": [
    {
     "name": "stdout",
     "output_type": "stream",
     "text": [
      "-90.0 1.673390260755042\n",
      "-80.0 3.067882144717565\n",
      "-70.0 3.0678821447175695\n",
      "-60.0 3.0678821447175633\n",
      "-50.0 3.0678821447175664\n",
      "-40.0 3.067882144717567\n",
      "-30.0 3.067882144717578\n",
      "-20.0 3.0678821447175664\n",
      "-10.0 3.0678821447175633\n",
      "-5.0 35.599999999999994\n",
      "0.0 3.0678821447175633\n",
      "10.0 3.067882144717568\n",
      "20.0 3.067882144717568\n",
      "30.0 3.0678821447175784\n",
      "40.0 3.0678821447175357\n",
      "50.0 3.0678821447175926\n",
      "60.0 3.067882144717566\n",
      "70.0 3.0678821447175917\n",
      "80.0 3.0678821447175584\n",
      "85.0 124.80000000000001\n",
      "90.0 1.3944918839625338\n"
     ]
    }
   ],
   "source": [
    "for k in sorted(lengths.keys()):\n",
    "    print(k, lengths[k])"
   ]
  },
  {
   "cell_type": "code",
   "execution_count": 17,
   "metadata": {},
   "outputs": [],
   "source": [
    "# make an array out of it\n",
    "k = np.array(list(lengths.keys()))\n",
    "v = np.array(list(lengths.values()))\n"
   ]
  },
  {
   "cell_type": "code",
   "execution_count": 18,
   "metadata": {},
   "outputs": [
    {
     "data": {
      "text/plain": [
       "(array([85., -5., 50.]), array([124.8       ,  35.6       ,   3.06788214]))"
      ]
     },
     "execution_count": 18,
     "metadata": {},
     "output_type": "execute_result"
    }
   ],
   "source": [
    "vi = np.argsort(v)[::-1] # descending\n",
    "k[vi[:3]], v[vi[:3]] # angles with largest lengths"
   ]
  },
  {
   "cell_type": "code",
   "execution_count": 19,
   "metadata": {},
   "outputs": [
    {
     "data": {
      "text/plain": [
       "3.0678821447175926"
      ]
     },
     "execution_count": 19,
     "metadata": {},
     "output_type": "execute_result"
    }
   ],
   "source": [
    "np.quantile(v, .9, interpolation='nearest')"
   ]
  },
  {
   "cell_type": "code",
   "execution_count": 20,
   "metadata": {},
   "outputs": [],
   "source": [
    "# c section\n",
    "params = {\"h\":50, \"tw\":2, \"ba\":23, \"ta\":2, \"bf\":15, \"tf\":3}\n",
    "\n",
    "rules = \"\"\"\n",
    "h > 20,\n",
    "h < 200,\n",
    "tw > .8,\n",
    "ta > .8,\n",
    "tf > .8,\n",
    "h >= ba,\n",
    "h >= bf, \n",
    "h > 3*tw, \n",
    "h < 50*tw, \n",
    "ba < 30*ta, \n",
    "ba > 3*ta,\n",
    "ba > tw, \n",
    "bf < 20*tf, \n",
    "bf > 0.5*tf, \n",
    "bf > tw,\n",
    "h > 3*(tf+ta)\n",
    "\"\"\""
   ]
  },
  {
   "cell_type": "code",
   "execution_count": 21,
   "metadata": {},
   "outputs": [],
   "source": [
    "rules = rules.strip().split(\",\")"
   ]
  },
  {
   "cell_type": "code",
   "execution_count": 22,
   "metadata": {},
   "outputs": [
    {
     "data": {
      "text/plain": [
       "True"
      ]
     },
     "execution_count": 22,
     "metadata": {},
     "output_type": "execute_result"
    }
   ],
   "source": [
    "#rls = [r.strip() for r in rules.split(\"\\n\")]\n",
    "\n",
    "all([eval(r, {}, params) for r in rules])"
   ]
  },
  {
   "cell_type": "code",
   "execution_count": null,
   "metadata": {},
   "outputs": [],
   "source": []
  }
 ],
 "metadata": {
  "kernelspec": {
   "display_name": "Python 3",
   "language": "python",
   "name": "python3"
  },
  "language_info": {
   "codemirror_mode": {
    "name": "ipython",
    "version": 3
   },
   "file_extension": ".py",
   "mimetype": "text/x-python",
   "name": "python",
   "nbconvert_exporter": "python",
   "pygments_lexer": "ipython3",
   "version": "3.8.2"
  }
 },
 "nbformat": 4,
 "nbformat_minor": 4
}
