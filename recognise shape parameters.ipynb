{
 "cells": [
  {
   "cell_type": "code",
   "execution_count": 1,
   "metadata": {},
   "outputs": [],
   "source": [
    "%matplotlib inline\n",
    "import numpy as np\n",
    "import matplotlib\n",
    "import matplotlib.pyplot as plt\n",
    "from matplotlib import path\n",
    "\n",
    "import shapely\n",
    "from shapely.geometry import Polygon\n",
    "from shapely import speedups\n",
    "#from shapely.errors import TopologicalError\n",
    "\n",
    "import warnings\n",
    "warnings.filterwarnings('ignore')\n",
    "\n",
    "from scipy.optimize import differential_evolution, basinhopping, shgo, dual_annealing\n",
    "\n",
    "import cv2\n",
    "\n",
    "from sections import section, VERTEX_FUNCTIONS"
   ]
  },
  {
   "cell_type": "code",
   "execution_count": 2,
   "metadata": {},
   "outputs": [],
   "source": [
    "if speedups.available:\n",
    "    speedups.enable()"
   ]
  },
  {
   "cell_type": "code",
   "execution_count": 3,
   "metadata": {},
   "outputs": [
    {
     "data": {
      "image/svg+xml": [
       "<svg xmlns=\"http://www.w3.org/2000/svg\" xmlns:xlink=\"http://www.w3.org/1999/xlink\" width=\"100.0\" height=\"100.0\" viewBox=\"-1.2 -1.2 22.4 32.4\" preserveAspectRatio=\"xMinYMin meet\"><g transform=\"matrix(1,0,0,-1,0,30.0)\"><path fill-rule=\"evenodd\" fill=\"#66cc99\" stroke=\"#555555\" stroke-width=\"0.648\" opacity=\"0.6\" d=\"M 20.0,0.0 L 20.0,2.0 L 9.999999999999998,2.0 L 8.610814578664558,2.121537975902336 L 7.263838853394652,2.4824590337127326 L 5.9999999999999964,3.071796769724493 L 4.857699122507684,3.871644455048177 L 3.871644455048176,4.857699122507686 L 3.0717967697244912,5.999999999999999 L 2.4824590337127326,7.263838853394651 L 2.121537975902336,8.610814578664556 L 2.0,10.000000000000002 L 2.0,30.0 L 0.0,30.0 L 0.0,10.000000000000002 L 0.15192246987792046,8.263518223330696 L 0.6030737921409148,6.579798566743314 L 1.3397459621556145,4.999999999999999 L 2.33955556881022,3.5721239031346075 L 3.572123903134605,2.339555568810221 L 4.999999999999996,1.3397459621556163 L 6.579798566743315,0.6030737921409148 L 8.263518223330697,0.15192246987792046 L 9.999999999999998,0.0 L 20.0,0.0 z\" /></g></svg>"
      ],
      "text/plain": [
       "<shapely.geometry.polygon.Polygon at 0x7f8122591b20>"
      ]
     },
     "execution_count": 3,
     "metadata": {},
     "output_type": "execute_result"
    }
   ],
   "source": [
    "ll = section('l2', 30, 2, 20, 8)\n",
    "ll"
   ]
  },
  {
   "cell_type": "code",
   "execution_count": 4,
   "metadata": {},
   "outputs": [
    {
     "data": {
      "text/plain": [
       "True"
      ]
     },
     "execution_count": 4,
     "metadata": {},
     "output_type": "execute_result"
    }
   ],
   "source": [
    "ll.is_valid"
   ]
  },
  {
   "cell_type": "markdown",
   "metadata": {},
   "source": [
    "#### Affine Transformation\n",
    "\n",
    "Allgemein: \n",
    "```\n",
    "| a  b  xoff |\n",
    "| d  e  yoff |\n",
    "| 0  0  1    |\n",
    "```\n",
    "\n",
    "Spiegelung:\n",
    "```\n",
    "| 1   0  0 |\n",
    "| 0  -1  0 |\n",
    "| 0   0  1 |\n",
    "```\n"
   ]
  },
  {
   "cell_type": "code",
   "execution_count": 5,
   "metadata": {},
   "outputs": [
    {
     "data": {
      "image/svg+xml": [
       "<svg xmlns=\"http://www.w3.org/2000/svg\" xmlns:xlink=\"http://www.w3.org/1999/xlink\" width=\"100.0\" height=\"100.0\" viewBox=\"0.25298888762861993 -28.137538575381143 38.45000829857037 18.579855166417595\" preserveAspectRatio=\"xMinYMin meet\"><g transform=\"matrix(1,0,0,-1,0,-37.69522198434469)\"><path fill-rule=\"evenodd\" fill=\"#66cc99\" stroke=\"#555555\" stroke-width=\"0.7690001659714073\" opacity=\"0.6\" d=\"M 1.677063269057152,-11.814051463486365 L 3.495658122708516,-10.98175779039208 L 7.657126488179941,-20.074732058648898 L 8.345745775395688,-21.287337143460867 L 9.234470051526749,-22.361942547994403 L 10.29629587915907,-23.265896930809333 L 11.498960217829824,-23.971734095406806 L 12.805920720186027,-24.45800753671137 L 14.177466052717513,-24.709942082275226 L 15.571922504530736,-24.719882828416438 L 16.946920221966362,-24.487527730593772 L 18.260680595162533,-24.01993678087721 L 36.44662913167617,-15.697000049934363 L 37.27892280477045,-17.51559490358573 L 19.092974268256818,-25.838531634528575 L 17.450773801761606,-26.423020321674272 L 15.732026654967072,-26.71346419395261 L 13.988956090200542,-26.70103826127609 L 12.274524424536185,-26.386120079321273 L 10.640823796590931,-25.778278277690568 L 9.13749337325249,-24.895981821943728 L 7.810211088712088,-23.766038843425065 L 6.699305743548263,-22.422782087758144 L 5.838531634528577,-20.907025731743182 L 1.677063269057152,-11.814051463486365 z\" /></g></svg>"
      ],
      "text/plain": [
       "<shapely.geometry.polygon.Polygon at 0x7f81804ad850>"
      ]
     },
     "execution_count": 5,
     "metadata": {},
     "output_type": "execute_result"
    }
   ],
   "source": [
    "# matrix given as tuple/list: [a, b, d, e, xoff, yoff]\n",
    "\n",
    "#shapely.affinity.affine_transform(ll)\n",
    "#shapely.affinity.rotate(ll, 20, origin='center', use_radians=False)\n",
    "\n",
    "mirror = -0.9 # wenn < 0: \n",
    "theta = 2 # rad\n",
    "x0 = 10\n",
    "y0 = 30\n",
    "\n",
    "#mir = [1, 0, 0, -1, 0, 0]\n",
    "sm = np.sign(mirror)\n",
    "\n",
    "# 2. zeile mit +/- 1 multiplizieren\n",
    "mat = [np.cos(theta), np.sin(theta), -np.sin(theta)*sm, np.cos(theta)*sm, x0, y0*sm]\n",
    "\n",
    "l2 = shapely.affinity.affine_transform(ll, mat)\n",
    "l2"
   ]
  },
  {
   "cell_type": "markdown",
   "metadata": {},
   "source": [
    "## Optimize\n",
    "\n",
    "- optimise shape parameters and orientation\n",
    "- criterion is symmetric difference\n",
    "\n",
    "#### Orientierung\n",
    "\n",
    "was funktionieren könnte: Orientierung als parameter rausnehmen.\n",
    "\n",
    "- Hauptträgheitsachsen von p0 berechnen\n",
    "- dann hauptträgheitsachsen von py berechnen\n",
    "- übereinanderlegen\n",
    "\n",
    "#### TODO: \n",
    "\n",
    "- Parametersuche auch für nicht exakte Übereinstimmung (z.B. Profil mit kleinen Fasen)"
   ]
  },
  {
   "cell_type": "code",
   "execution_count": 6,
   "metadata": {},
   "outputs": [],
   "source": [
    "def cost(x, p0, section_type):\n",
    "    # first element of x: theta\n",
    "    theta = x[0]\n",
    "    # rest: shape parameters\n",
    "    try:\n",
    "        poly = section(section_type, *x[1:])\n",
    "        poly = shapely.affinity.rotate(poly, theta, use_radians=True)\n",
    "        poly = shapely.affinity.translate(poly, -poly.centroid.x, -poly.centroid.y)\n",
    "        diff = p0.symmetric_difference(poly)\n",
    "        return diff.area/p0.area\n",
    "    except:\n",
    "        return 2.0 # FIXME: this is an arbitrary value - anything better?\n"
   ]
  },
  {
   "cell_type": "code",
   "execution_count": 14,
   "metadata": {},
   "outputs": [
    {
     "name": "stdout",
     "output_type": "stream",
     "text": [
      "[(10.134295858414507, 31.729770215973904)]\n",
      "[(10.134295858414507, 31.729770215973904)]\n",
      "[(3.022331072819616e-15, 6.044662145639232e-15)]\n"
     ]
    },
    {
     "data": {
      "image/svg+xml": [
       "<svg xmlns=\"http://www.w3.org/2000/svg\" xmlns:xlink=\"http://www.w3.org/1999/xlink\" width=\"100.0\" height=\"100.0\" viewBox=\"-22.614295858414504 -33.6097702159739 41.36 50.76\" preserveAspectRatio=\"xMinYMin meet\"><g transform=\"matrix(1,0,0,-1,0,-16.459540431947808)\"><path fill-rule=\"evenodd\" fill=\"#66cc99\" stroke=\"#555555\" stroke-width=\"1.0151999999999999\" opacity=\"0.6\" d=\"M -8.734295858414507,10.570229784026093 L -8.700872915041366,10.952255774893342 L -8.601619624143506,11.322674099342567 L -8.439551746740273,11.670229784026095 L -8.219593633276258,11.984362525336483 L -7.948428599724894,12.255527558887845 L -7.634295858414507,12.475485672351862 L -7.286740173730978,12.637553549755093 L -6.916321849281754,12.73680684065295 L -6.534295858414508,12.770229784026096 L 10.065704141585492,12.770229784026096 L 10.62137831011967,12.721614593665162 L 11.160168600227632,12.577246170540999 L 11.665704141585493,12.341511076136296 L 12.122624492582418,12.021572002006824 L 12.517046359566223,11.627150135023019 L 12.836985433695695,11.170229784026095 L 13.072720528100401,10.664694242668237 L 13.217088951224557,10.125903952560268 L 13.265704141585491,9.570229784026093 L 13.265704141585491,0.2702297840260961 L 16.865704141585493,0.2702297840260961 L 16.865704141585493,15.270229784026096 L -10.134295858414507,15.270229784026096 L -10.134295858414507,-26.529770215973905 L -10.18443027347422,-27.102809202274774 L -10.33331020982101,-27.658436688948612 L -10.57641202592586,-28.179770215973903 L -10.90634919612188,-28.650969327939485 L -11.313096746448927,-29.057716878266532 L -11.784295858414506,-29.38765404846255 L -12.3056293854398,-29.6307558645674 L -12.861256872113637,-29.779635800914193 L -13.434295858414508,-29.829770215973905 L -20.734295858414505,-29.829770215973905 L -20.734295858414505,-31.729770215973904 L -8.734295858414507,-31.729770215973904 L -8.734295858414507,10.570229784026093 z\" /></g></svg>"
      ],
      "text/plain": [
       "<shapely.geometry.polygon.Polygon at 0x7f812252b5b0>"
      ]
     },
     "execution_count": 14,
     "metadata": {},
     "output_type": "execute_result"
    }
   ],
   "source": [
    "# h, tw, ba, ta, bf, tf\n",
    "#sectype = \"c2\"\n",
    "#x0 = [30, 2.5, 20, 3, 8, 6] # for z1, c1\n",
    "#x0 = [80, 1.6, 22, 8, 15, 8]\n",
    "sectype = \"z9\"\n",
    "x0 = [47, 1.4, 12, 1.9, 3.3, 27, 2.5, 2.2, 15, 3.6, 3.2]\n",
    "p0 = section(sectype, *x0)\n",
    "print(p0.centroid.coords[:])\n",
    "#p0 = shapely.affinity.rotate(p0, -5)\n",
    "print(p0.centroid.coords[:])\n",
    "# move centroid to origin\n",
    "p0 = shapely.affinity.translate(p0, -p0.centroid.x, -p0.centroid.y)\n",
    "print(p0.centroid.coords[:])\n",
    "\n",
    "p0"
   ]
  },
  {
   "cell_type": "code",
   "execution_count": 41,
   "metadata": {},
   "outputs": [],
   "source": [
    "bounds = [(-np.pi, np.pi)] + \\\n",
    "         [(10, 100), (0.6, 10), (5, 50), (2, 10), (5, 50), (2, 10)]\n",
    "bounds = [(-0.1, 0.1)] + \\\n",
    "         [(10, 100), (1, 10), (10,100), (1,10), (1,10), (5,50), (1,10), (1,10), (5,50), (1,10), (1,10)]\n",
    "# [(0.1, 50), (0.1, 50)]\n",
    "#xstart = [0] + [30, 3, 10, 3, 10, 3]\n",
    "\n",
    "\n",
    "# works\n",
    "result = differential_evolution(cost, bounds, atol=0.001, tol=0.001, maxiter=1000,\n",
    "                                args=(p0, sectype), strategy='best1bin')\n",
    "\n",
    "# does not work \n",
    "#result = basinhopping(cost, xstart, minimizer_kwargs={\"args\": (p0, sectype)})\n",
    "\n",
    "# does not work at all...\n",
    "#result = shgo(cost, bounds, args=(p0, sectype), options={\"fmin\": 0})\n",
    "\n",
    "# funktioniert auch\n",
    "# this accepts an initial start value !!!\n",
    "#result = dual_annealing(cost, bounds, args=(p0, sectype), )\n",
    "\n",
    "#result.x, result.fun"
   ]
  },
  {
   "cell_type": "code",
   "execution_count": 42,
   "metadata": {},
   "outputs": [
    {
     "name": "stdout",
     "output_type": "stream",
     "text": [
      "[1.06075611e-07 4.70001677e+01 1.40000297e+00 1.20022118e+01\n",
      " 1.90430059e+00 3.24273467e+00 2.70000043e+01 2.49968243e+00\n",
      " 2.20474749e+00 1.50113192e+01 3.60234752e+00 3.13648881e+00]\n",
      "0.0012877397536179803\n"
     ]
    }
   ],
   "source": [
    "print(result.x)\n",
    "print(result.fun)"
   ]
  },
  {
   "cell_type": "code",
   "execution_count": 43,
   "metadata": {},
   "outputs": [
    {
     "data": {
      "text/plain": [
       "59897"
      ]
     },
     "execution_count": 43,
     "metadata": {},
     "output_type": "execute_result"
    }
   ],
   "source": [
    "result.nfev"
   ]
  },
  {
   "cell_type": "code",
   "execution_count": 44,
   "metadata": {},
   "outputs": [
    {
     "name": "stdout",
     "output_type": "stream",
     "text": [
      "[(10.134298935456643, 31.729940584127455)]\n",
      "[(10.13429806246954, 31.72994078942628)]\n",
      "[(-0.0, -1.2092457926899096e-14)]\n"
     ]
    },
    {
     "data": {
      "image/svg+xml": [
       "<svg xmlns=\"http://www.w3.org/2000/svg\" xmlns:xlink=\"http://www.w3.org/1999/xlink\" width=\"100.0\" height=\"100.0\" viewBox=\"-22.6165114770289 -33.60994965105684 41.36222370744829 50.76018541687881\" preserveAspectRatio=\"xMinYMin meet\"><g transform=\"matrix(1,0,0,-1,0,-16.45971388523486)\"><path fill-rule=\"evenodd\" fill=\"#66cc99\" stroke=\"#555555\" stroke-width=\"1.0152037083375762\" opacity=\"0.6\" d=\"M -8.734297082288979,10.565796255445946 L -8.700802054424518,10.948646643559066 L -8.601334619081314,11.319864323467037 L -8.438917043949324,11.668170033811052 L -8.218484304861672,11.982980681833517 L -7.9467341390511885,12.254730905296142 L -7.631923537793806,12.475163711171248 L -7.28361786190688,12.637581360196727 L -6.9124002031010585,12.73704887429421 L -6.529549822093957,12.770543983380847 L 10.126867703625539,12.77054575022052 L 10.671513274513462,12.722895495344048 L 11.199610075442976,12.58139244404964 L 11.695112152347729,12.350336094946869 L 12.142963925357108,12.036746978283084 L 12.529557644972162,11.650153340684355 L 12.843146856648243,11.202301634203295 L 13.074203310872377,10.706799606317446 L 13.215706474203166,10.178702835407982 L 13.263356844626859,9.634057274629136 L 13.263357839101417,0.2589092967257649 L 16.865705363127578,0.2589096788469796 L 16.86570377079271,15.27022889853017 L -10.134300555255258,15.270226034488203 L -10.134296115658643,-26.582906403738637 L -10.183560481943315,-27.146001374984962 L -10.32985682741803,-27.691987000921284 L -10.568740011655063,-28.204273784585578 L -10.892951689982095,-28.66729615128583 L -11.292640854612184,-29.06698540071047 L -11.75566315253052,-29.391197177268257 L -12.267949885515444,-29.63008047018755 L -12.813935480414802,-29.776376931493783 L -13.377030441209621,-29.82564141723974 L -20.736504609737093,-29.825642197900464 L -20.736504407737243,-31.729942783765026 L -8.734292595742732,-31.729941510623068 L -8.734297082288979,10.565796255445946 z\" /></g></svg>"
      ],
      "text/plain": [
       "<shapely.geometry.polygon.Polygon at 0x7f8180496b50>"
      ]
     },
     "execution_count": 44,
     "metadata": {},
     "output_type": "execute_result"
    }
   ],
   "source": [
    "px = section(sectype, *result.x[1:])\n",
    "print(px.centroid.coords[:])\n",
    "px = shapely.affinity.rotate(px, result.x[0], use_radians=True)\n",
    "print(px.centroid.coords[:])\n",
    "px = shapely.affinity.translate(px, -px.centroid.x, -px.centroid.y)\n",
    "print(px.centroid.coords[:])\n",
    "px"
   ]
  },
  {
   "cell_type": "code",
   "execution_count": 45,
   "metadata": {},
   "outputs": [
    {
     "data": {
      "text/plain": [
       "0.0012877397536179803"
      ]
     },
     "execution_count": 45,
     "metadata": {},
     "output_type": "execute_result"
    }
   ],
   "source": [
    "p0.symmetric_difference(px).area / p0.area"
   ]
  },
  {
   "cell_type": "code",
   "execution_count": 46,
   "metadata": {},
   "outputs": [
    {
     "data": {
      "image/svg+xml": [
       "<svg xmlns=\"http://www.w3.org/2000/svg\" xmlns:xlink=\"http://www.w3.org/1999/xlink\" width=\"100.0\" height=\"100.0\" viewBox=\"-22.61651151244874 -33.60994968647667 41.36222377828796 50.76018637321441\" preserveAspectRatio=\"xMinYMin meet\"><g transform=\"matrix(1,0,0,-1,0,-16.459712999738926)\"><g><path fill-rule=\"evenodd\" fill=\"#66cc99\" stroke=\"#555555\" stroke-width=\"1.0152037274642882\" opacity=\"0.6\" d=\"M -8.734295858414507,10.570229784026093 L -8.700872915041366,10.952255774893342 L -8.601619624143506,11.322674099342567 L -8.439551746740273,11.670229784026095 L -8.219593633276258,11.984362525336483 L -7.948428599724894,12.255527558887845 L -7.634295858414507,12.475485672351862 L -7.286740173730978,12.637553549755093 L -6.916321849281754,12.73680684065295 L -6.534295858414508,12.770229784026096 L -6.533141132764641,12.770229784026096 L -6.9124002031010585,12.73704887429421 L -7.28361786190688,12.637581360196727 L -7.631923537793806,12.475163711171248 L -7.9467341390511885,12.254730905296142 L -8.218484304861672,11.982980681833517 L -8.438917043949324,11.668170033811052 L -8.601334619081314,11.319864323467037 L -8.700802054424518,10.948646643559066 L -8.734295858414507,10.565810244412264 L -8.734295858414507,10.570229784026093 z\" /><path fill-rule=\"evenodd\" fill=\"#66cc99\" stroke=\"#555555\" stroke-width=\"1.0152037274642882\" opacity=\"0.6\" d=\"M 13.263356848551425,9.597059466175388 L 13.217088951224557,10.125903952560268 L 13.072720528100401,10.664694242668237 L 12.836985433695695,11.170229784026095 L 12.517046359566223,11.627150135023019 L 12.122624492582418,12.021572002006824 L 11.665704141585493,12.341511076136296 L 11.160168600227632,12.577246170540999 L 10.62137831011967,12.721614593665162 L 10.065704141585492,12.770229784026096 L -6.533141132764641,12.770229784026096 L -6.529549822093957,12.770543983380847 L 10.126867703625539,12.77054575022052 L 10.671513274513462,12.722895495344048 L 11.199610075442976,12.58139244404964 L 11.695112152347729,12.350336094946869 L 12.142963925357108,12.036746978283084 L 12.529557644972162,11.650153340684355 L 12.843146856648243,11.202301634203295 L 13.074203310872377,10.706799606317446 L 13.215706474203166,10.178702835407982 L 13.263356844626859,9.634057274629136 L 13.263356848551425,9.597059466175388 z\" /><path fill-rule=\"evenodd\" fill=\"#66cc99\" stroke=\"#555555\" stroke-width=\"1.0152037274642882\" opacity=\"0.6\" d=\"M 13.263356848551425,9.597059466175388 L 13.265704141585491,9.570229784026093 L 13.265704141585491,0.2702297840260961 L 16.865704141585493,0.2702297840260961 L 16.865704141585493,11.774677213659748 L 16.865705363127578,0.2589096788469796 L 13.263357839101417,0.2589092967257649 L 13.263356848551425,9.597059466175388 z\" /><path fill-rule=\"evenodd\" fill=\"#66cc99\" stroke=\"#555555\" stroke-width=\"1.0152037274642882\" opacity=\"0.6\" d=\"M -10.134295858414507,15.2702260344887 L -10.134295858414507,15.270229784026096 L 16.865704141585493,15.270229784026096 L 16.865704141585493,11.774677213659748 L 16.86570377079271,15.27022889853017 L -10.134295858414507,15.2702260344887 z\" /><path fill-rule=\"evenodd\" fill=\"#66cc99\" stroke=\"#555555\" stroke-width=\"1.0152037274642882\" opacity=\"0.6\" d=\"M -10.134295858414507,15.2702260344887 L -10.134295858414507,-26.529770215973905 L -10.134296121294778,-26.529773220709142 L -10.134300555255258,15.270226034488203 L -10.134295858414507,15.2702260344887 z\" /><path fill-rule=\"evenodd\" fill=\"#66cc99\" stroke=\"#555555\" stroke-width=\"1.0152037274642882\" opacity=\"0.6\" d=\"M -13.38710348514849,-29.825641418308244 L -12.861256872113637,-29.779635800914193 L -12.3056293854398,-29.6307558645674 L -11.784295858414506,-29.38765404846255 L -11.313096746448927,-29.057716878266532 L -10.90634919612188,-28.650969327939485 L -10.57641202592586,-28.179770215973903 L -10.33331020982101,-27.658436688948612 L -10.18443027347422,-27.102809202274774 L -10.134296121294778,-26.529773220709142 L -10.134296115658643,-26.582906403738637 L -10.183560481943315,-27.146001374984962 L -10.32985682741803,-27.691987000921284 L -10.568740011655063,-28.204273784585578 L -10.892951689982095,-28.66729615128583 L -11.292640854612184,-29.06698540071047 L -11.75566315253052,-29.391197177268257 L -12.267949885515444,-29.63008047018755 L -12.813935480414802,-29.776376931493783 L -13.377030441209621,-29.82564141723974 L -13.38710348514849,-29.825641418308244 z\" /><path fill-rule=\"evenodd\" fill=\"#66cc99\" stroke=\"#555555\" stroke-width=\"1.0152037274642882\" opacity=\"0.6\" d=\"M -13.38710348514849,-29.825641418308244 L -13.434295858414508,-29.829770215973905 L -20.734295858414505,-29.829770215973905 L -20.734295858414505,-31.729770215973904 L -8.734295858414507,-31.729770215973904 L -8.734295858414507,-0.9719592632398673 L -8.734292595742732,-31.729941510623068 L -20.736504407737243,-31.729942783765026 L -20.736504609737093,-29.825642197900464 L -13.38710348514849,-29.825641418308244 z\" /><path fill-rule=\"evenodd\" fill=\"#66cc99\" stroke=\"#555555\" stroke-width=\"1.0152037274642882\" opacity=\"0.6\" d=\"M -8.734295858414507,10.565810244412264 L -8.734295858414507,-0.9719592632398673 L -8.734297082288979,10.565796255445946 L -8.734295858414507,10.565810244412264 z\" /></g></g></svg>"
      ],
      "text/plain": [
       "<shapely.geometry.multipolygon.MultiPolygon at 0x7f81804963a0>"
      ]
     },
     "execution_count": 46,
     "metadata": {},
     "output_type": "execute_result"
    }
   ],
   "source": [
    "p0.symmetric_difference(px)"
   ]
  },
  {
   "cell_type": "markdown",
   "metadata": {},
   "source": [
    "## Statistics: line directions and lengths\n"
   ]
  },
  {
   "cell_type": "code",
   "execution_count": 47,
   "metadata": {},
   "outputs": [],
   "source": [
    "b = p0.boundary # LineString"
   ]
  },
  {
   "cell_type": "code",
   "execution_count": 48,
   "metadata": {},
   "outputs": [],
   "source": [
    "from collections import defaultdict\n",
    "\n",
    "coords = np.array(b.coords[:])\n",
    "n_coords = len(coords)\n",
    "lengths = defaultdict(float)\n",
    "\n",
    "for i in range(n_coords-1):\n",
    "    p0 = coords[i]\n",
    "    p1 = coords[i+1]\n",
    "    v = p1-p0\n",
    "    length = np.linalg.norm(v)\n",
    "    #alpha = np.arctan2(v[1], v[0]) \n",
    "    alpha = np.arctan(v[1]/v[0]) # 180% range is sufficient\n",
    "    alpha = np.degrees(alpha)\n",
    "    alpha = np.round(alpha, decimals=3)\n",
    "    lengths[alpha] += length"
   ]
  },
  {
   "cell_type": "code",
   "execution_count": 49,
   "metadata": {},
   "outputs": [
    {
     "name": "stdout",
     "output_type": "stream",
     "text": [
      "-90.0 52.99999999999999\n",
      "-85.0 0.55779675358501\n",
      "-75.0 0.557796753585017\n",
      "-65.0 0.5577967535850119\n",
      "-55.0 0.5577967535850099\n",
      "-45.0 0.557796753585014\n",
      "-35.0 0.5577967535850099\n",
      "-25.0 0.5577967535850137\n",
      "-15.0 0.557796753585012\n",
      "-5.0 0.5577967535850136\n",
      "0.0 66.5\n",
      "5.0 0.9587131702242406\n",
      "15.0 0.9587131702242391\n",
      "25.0 0.9587131702242411\n",
      "35.0 0.9587131702242397\n",
      "45.0 0.9587131702242366\n",
      "55.0 0.9587131702242442\n",
      "65.0 0.9587131702242371\n",
      "75.0 0.958713170224243\n",
      "85.0 0.9587131702242401\n",
      "90.0 57.3\n"
     ]
    }
   ],
   "source": [
    "for k in sorted(lengths.keys()):\n",
    "    print(k, lengths[k])"
   ]
  },
  {
   "cell_type": "code",
   "execution_count": 50,
   "metadata": {},
   "outputs": [],
   "source": [
    "# make an array out of it\n",
    "k = np.array(list(lengths.keys()))\n",
    "v = np.array(list(lengths.values()))\n"
   ]
  },
  {
   "cell_type": "code",
   "execution_count": 51,
   "metadata": {},
   "outputs": [
    {
     "data": {
      "text/plain": [
       "(array([  0.,  90., -90.]), array([66.5, 57.3, 53. ]))"
      ]
     },
     "execution_count": 51,
     "metadata": {},
     "output_type": "execute_result"
    }
   ],
   "source": [
    "vi = np.argsort(v)[::-1] # descending\n",
    "k[vi[:3]], v[vi[:3]] # angles with largest lengths"
   ]
  },
  {
   "cell_type": "code",
   "execution_count": 52,
   "metadata": {},
   "outputs": [
    {
     "data": {
      "text/plain": [
       "52.99999999999999"
      ]
     },
     "execution_count": 52,
     "metadata": {},
     "output_type": "execute_result"
    }
   ],
   "source": [
    "np.quantile(v, .9, interpolation='nearest')"
   ]
  },
  {
   "cell_type": "code",
   "execution_count": 53,
   "metadata": {},
   "outputs": [],
   "source": [
    "# c section\n",
    "params = {\"h\":50, \"tw\":2, \"ba\":23, \"ta\":2, \"bf\":15, \"tf\":3}\n",
    "\n",
    "rules = \"\"\"\n",
    "h > 20,\n",
    "h < 200,\n",
    "tw > .8,\n",
    "ta > .8,\n",
    "tf > .8,\n",
    "h >= ba,\n",
    "h >= bf, \n",
    "h > 3*tw, \n",
    "h < 50*tw, \n",
    "ba < 30*ta, \n",
    "ba > 3*ta,\n",
    "ba > tw, \n",
    "bf < 20*tf, \n",
    "bf > 0.5*tf, \n",
    "bf > tw,\n",
    "h > 3*(tf+ta)\n",
    "\"\"\""
   ]
  },
  {
   "cell_type": "code",
   "execution_count": 54,
   "metadata": {},
   "outputs": [],
   "source": [
    "rules = rules.strip().split(\",\")"
   ]
  },
  {
   "cell_type": "code",
   "execution_count": 55,
   "metadata": {},
   "outputs": [
    {
     "data": {
      "text/plain": [
       "True"
      ]
     },
     "execution_count": 55,
     "metadata": {},
     "output_type": "execute_result"
    }
   ],
   "source": [
    "#rls = [r.strip() for r in rules.split(\"\\n\")]\n",
    "\n",
    "all([eval(r, {}, params) for r in rules])"
   ]
  },
  {
   "cell_type": "code",
   "execution_count": null,
   "metadata": {},
   "outputs": [],
   "source": []
  }
 ],
 "metadata": {
  "kernelspec": {
   "display_name": "Python 3",
   "language": "python",
   "name": "python3"
  },
  "language_info": {
   "codemirror_mode": {
    "name": "ipython",
    "version": 3
   },
   "file_extension": ".py",
   "mimetype": "text/x-python",
   "name": "python",
   "nbconvert_exporter": "python",
   "pygments_lexer": "ipython3",
   "version": "3.8.2"
  }
 },
 "nbformat": 4,
 "nbformat_minor": 4
}
