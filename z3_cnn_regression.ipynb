{
 "cells": [
  {
   "cell_type": "markdown",
   "metadata": {},
   "source": [
    "# CNN for Shape Dimensions: Z3"
   ]
  },
  {
   "cell_type": "code",
   "execution_count": 32,
   "metadata": {},
   "outputs": [],
   "source": [
    "%matplotlib inline\n",
    "import numpy as np\n",
    "import matplotlib.pyplot as plt\n",
    "import pandas as pd\n",
    "import os\n",
    "import copy\n",
    "\n",
    "import torch\n",
    "import torch.nn as nn\n",
    "import torch.nn.functional as F\n",
    "#from torchvision import transforms \n",
    "from torch.utils.data import DataLoader\n",
    "\n",
    "from data_load import ShapeDimensionDataset\n",
    "import regression"
   ]
  },
  {
   "cell_type": "markdown",
   "metadata": {},
   "source": [
    "## SETTINGS"
   ]
  },
  {
   "cell_type": "code",
   "execution_count": 33,
   "metadata": {},
   "outputs": [],
   "source": [
    "IMAGE_SIZE = 150\n",
    "BATCH_SIZE = 32"
   ]
  },
  {
   "cell_type": "markdown",
   "metadata": {},
   "source": [
    "## Datasets and Dataloaders\n",
    "\n",
    "omit test for the time being ..."
   ]
  },
  {
   "cell_type": "code",
   "execution_count": 34,
   "metadata": {},
   "outputs": [],
   "source": [
    "parameters = [\"h\",\"tw\",\"bf\",\"rf\",\"ba\",\"ra\",\"blf\",\"rlf\"]\n",
    "target_cols = [\"h_scaled\",\"tw_scaled\",\"ba_scaled\",\"ra_scaled\",\"bf_scaled\",\"rf_scaled\",\"blf_scaled\",\"rlf_scaled\"]\n",
    "\n",
    "flip_transform = regression.flip_transform(IMAGE_SIZE)\n",
    "no_transform = regression.no_transform(IMAGE_SIZE)\n",
    "\n",
    "datasets = {\n",
    "    'train': ShapeDimensionDataset(\"dataset/Z3_train.csv\", \n",
    "                                   \"dataset/train/Z3/\",\n",
    "                                   transform=flip_transform, \n",
    "                                   target_cols=target_cols),\n",
    "    'val': ShapeDimensionDataset(\"dataset/Z3_val.csv\", \n",
    "                                 \"dataset/val/Z3/\",\n",
    "                                 transform=flip_transform, \n",
    "                                 target_cols=target_cols),    \n",
    "}"
   ]
  },
  {
   "cell_type": "code",
   "execution_count": 35,
   "metadata": {},
   "outputs": [],
   "source": [
    "dataloaders = {'train': DataLoader(datasets['train'], \n",
    "                                   batch_size=BATCH_SIZE,\n",
    "                                   shuffle=True, \n",
    "                                   num_workers=6),\n",
    "               'val': DataLoader(datasets['val'], \n",
    "                                 batch_size=BATCH_SIZE,\n",
    "                                 shuffle=False, \n",
    "                                 num_workers=6),                                       \n",
    "    }\n"
   ]
  },
  {
   "cell_type": "markdown",
   "metadata": {},
   "source": [
    "## Show something\n",
    "\n",
    "Convert PIL grayscale image (type=L) to np array (axes are still flipped):\n",
    "\n",
    "`img = np.frombuffer(img_.tobytes(), dtype=np.uint8).reshape(224,224)`\n",
    "\n",
    "Convert torch.Tensor to np array:\n",
    "\n"
   ]
  },
  {
   "cell_type": "code",
   "execution_count": 36,
   "metadata": {},
   "outputs": [
    {
     "name": "stdout",
     "output_type": "stream",
     "text": [
      "pixel value range: 0.0 1.0\n",
      "shape: (150, 150)\n",
      "dtype: float32\n",
      "[[0.52061126]\n",
      " [0.27585996]\n",
      " [0.40764417]\n",
      " [0.26919125]\n",
      " [0.71184426]\n",
      " [0.60474188]\n",
      " [0.28963825]\n",
      " [0.03355356]]\n"
     ]
    },
    {
     "data": {
      "image/png": "[encoded data removed]",
      "text/plain": [
       "<Figure size 432x288 with 1 Axes>"
      ]
     },
     "metadata": {
      "needs_background": "light"
     },
     "output_type": "display_data"
    }
   ],
   "source": [
    "ds = datasets['train']\n",
    "\n",
    "img_, y = ds[67]  \n",
    "# TODO: how to rotate ???\n",
    "img = img_[0].numpy() # shape(1,224,224) -> shape(224,224)\n",
    "img = img.squeeze()\n",
    "print(\"pixel value range:\", np.min(img), np.max(img))\n",
    "# TODO: these are grayscale (B/W) pictures. One depth dimension is enough.\n",
    "print(\"shape:\", img.shape)\n",
    "print(\"dtype:\", img.dtype)\n",
    "print(y)\n",
    "plt.imshow(img, cmap='gray');\n",
    "\n"
   ]
  },
  {
   "cell_type": "code",
   "execution_count": 37,
   "metadata": {},
   "outputs": [],
   "source": [
    "def plot_history(history, log=False):\n",
    "    \"\"\"history plot, return image\"\"\"\n",
    "    fig, ax = plt.subplots()\n",
    "    ax.plot(history['train'], \"o-\", label=\"train\")\n",
    "    ax.plot(history['val'], \"o-\", label=\"val\")\n",
    "    ax.set_xlabel(\"Epoch\")\n",
    "    ax.set_ylabel(\"Loss\")\n",
    "    if log:\n",
    "        ax.semilogy()\n",
    "    ax.grid()\n",
    "    ax.legend()"
   ]
  },
  {
   "cell_type": "markdown",
   "metadata": {},
   "source": [
    "## Settings"
   ]
  },
  {
   "cell_type": "code",
   "execution_count": 38,
   "metadata": {},
   "outputs": [
    {
     "name": "stdout",
     "output_type": "stream",
     "text": [
      "Net1(\n",
      "  (conv1): Conv2d(1, 8, kernel_size=(5, 5), stride=(2, 2))\n",
      "  (conv2): Conv2d(8, 16, kernel_size=(3, 3), stride=(1, 1))\n",
      "  (pool1): MaxPool2d(kernel_size=2, stride=2, padding=0, dilation=1, ceil_mode=False)\n",
      "  (pool2): MaxPool2d(kernel_size=2, stride=2, padding=0, dilation=1, ceil_mode=False)\n",
      "  (fc1): Linear(in_features=4624, out_features=1000, bias=True)\n",
      "  (fc2): Linear(in_features=1000, out_features=100, bias=True)\n",
      "  (fc3): Linear(in_features=100, out_features=8, bias=True)\n",
      ")\n"
     ]
    }
   ],
   "source": [
    "lr = 0.001\n",
    "\n",
    "model = regression.Net1(len(parameters), image_size=IMAGE_SIZE, param_names=parameters, description=\"Z3\")\n",
    "optimizer = torch.optim.Adam(model.parameters(), lr=lr)\n",
    "criterion = nn.MSELoss()\n",
    "print(model)\n",
    " "
   ]
  },
  {
   "cell_type": "code",
   "execution_count": 39,
   "metadata": {},
   "outputs": [
    {
     "name": "stdout",
     "output_type": "stream",
     "text": [
      "Epoch 1/50: train Loss: 0.038567 val Loss: 0.023652 \n",
      "\n",
      "Epoch 2/50: train Loss: 0.017234 val Loss: 0.011239 \n",
      "\n",
      "Epoch 3/50: train Loss: 0.008884 val Loss: 0.005645 \n",
      "\n",
      "Epoch 4/50: train Loss: 0.004204 val Loss: 0.003098 \n",
      "\n",
      "Epoch 5/50: train Loss: 0.002885 val Loss: 0.002272 \n",
      "\n",
      "Epoch 6/50: train Loss: 0.002289 val Loss: 0.002304 \n",
      "\n",
      "Epoch 7/50: train Loss: 0.001973 val Loss: 0.002051 \n",
      "\n",
      "Epoch 8/50: train Loss: 0.001579 val Loss: 0.001415 \n",
      "\n",
      "Epoch 9/50: train Loss: 0.001443 val Loss: 0.001669 \n",
      "\n",
      "Epoch 10/50: train Loss: 0.001373 val Loss: 0.001192 \n",
      "\n",
      "Epoch 11/50: train Loss: 0.001137 val Loss: 0.001103 \n",
      "\n",
      "Epoch 12/50: train Loss: 0.001063 val Loss: 0.001372 \n",
      "\n",
      "Epoch 13/50: train Loss: 0.000988 val Loss: 0.001103 \n",
      "\n",
      "Epoch 14/50: train Loss: 0.000933 val Loss: 0.000887 \n",
      "\n",
      "Epoch 15/50: train Loss: 0.000832 val Loss: 0.000780 \n",
      "\n",
      "Epoch 16/50: train Loss: 0.000788 val Loss: 0.000860 \n",
      "\n",
      "Epoch 17/50: train Loss: 0.000790 val Loss: 0.000676 \n",
      "\n",
      "Epoch 18/50: train Loss: 0.000688 val Loss: 0.000771 \n",
      "\n",
      "Epoch 19/50: train Loss: 0.000679 val Loss: 0.000705 \n",
      "\n",
      "Epoch 20/50: train Loss: 0.000625 val Loss: 0.000694 \n",
      "\n",
      "Epoch 21/50: train Loss: 0.000604 val Loss: 0.000586 \n",
      "\n",
      "Epoch 22/50: train Loss: 0.000572 val Loss: 0.000560 \n",
      "\n",
      "Epoch 23/50: train Loss: 0.000543 val Loss: 0.000686 \n",
      "\n",
      "Epoch 24/50: train Loss: 0.000561 val Loss: 0.000551 \n",
      "\n",
      "Epoch 25/50: train Loss: 0.000492 val Loss: 0.000457 \n",
      "\n",
      "Epoch 26/50: train Loss: 0.000503 val Loss: 0.000681 \n",
      "\n",
      "Epoch 27/50: train Loss: 0.000454 val Loss: 0.000547 \n",
      "\n",
      "Epoch 28/50: train Loss: 0.000438 val Loss: 0.000530 \n",
      "\n",
      "Epoch 29/50: train Loss: 0.000402 val Loss: 0.000570 \n",
      "\n",
      "Epoch 30/50: train Loss: 0.000430 val Loss: 0.000482 \n",
      "\n",
      "Epoch 31/50: train Loss: 0.000388 val Loss: 0.000522 \n",
      "\n",
      "Epoch 32/50: train Loss: 0.000398 val Loss: 0.000487 \n",
      "\n",
      "Epoch 33/50: train Loss: 0.000381 val Loss: 0.000371 \n",
      "\n",
      "Epoch 34/50: train Loss: 0.000372 val Loss: 0.000404 \n",
      "\n",
      "Epoch 35/50: train Loss: 0.000366 val Loss: 0.000338 \n",
      "\n",
      "Epoch 36/50: train Loss: 0.000329 val Loss: 0.000362 \n",
      "\n",
      "Epoch 37/50: train Loss: 0.000334 val Loss: 0.000375 \n",
      "\n",
      "Epoch 38/50: train Loss: 0.000324 val Loss: 0.000324 \n",
      "\n",
      "Epoch 39/50: train Loss: 0.000314 val Loss: 0.000339 \n",
      "\n",
      "Epoch 40/50: train Loss: 0.000307 val Loss: 0.000315 \n",
      "\n",
      "Epoch 41/50: train Loss: 0.000303 val Loss: 0.000329 \n",
      "\n",
      "Epoch 42/50: train Loss: 0.000272 val Loss: 0.000309 \n",
      "\n",
      "Epoch 43/50: train Loss: 0.000257 val Loss: 0.000280 \n",
      "\n",
      "Epoch 44/50: train Loss: 0.000274 val Loss: 0.000265 \n",
      "\n",
      "Epoch 45/50: train Loss: 0.000296 val Loss: 0.000327 \n",
      "\n",
      "Epoch 46/50: train Loss: 0.000253 val Loss: 0.000304 \n",
      "\n",
      "Epoch 47/50: train Loss: 0.000252 val Loss: 0.000251 \n",
      "\n",
      "Epoch 48/50: train Loss: 0.000252 val Loss: 0.000287 \n",
      "\n",
      "Epoch 49/50: train Loss: 0.000276 val Loss: 0.000352 \n",
      "\n",
      "Epoch 50/50: train Loss: 0.000248 val Loss: 0.000279 \n",
      "\n",
      "\n",
      "Best val loss: 0.000251\n"
     ]
    },
    {
     "data": {
      "image/png": "[encoded data removed]",
      "text/plain": [
       "<Figure size 432x288 with 1 Axes>"
      ]
     },
     "metadata": {
      "needs_background": "light"
     },
     "output_type": "display_data"
    }
   ],
   "source": [
    "if 1 == 1:\n",
    "    hist = regression.train_regression(model, dataloaders, criterion, optimizer, num_epochs=50)\n",
    "    plot_history(hist, log=True)\n",
    "    model.save_checkpoint(\"models/Z3_flip_50.pt\")"
   ]
  },
  {
   "cell_type": "markdown",
   "metadata": {},
   "source": [
    "Ah, great! It works!"
   ]
  },
  {
   "cell_type": "code",
   "execution_count": 40,
   "metadata": {},
   "outputs": [],
   "source": [
    "import json\n",
    "with open(\"history_Z3_flip_50.json\", \"w\") as fp:\n",
    "    json.dump(hist, fp, indent=2)"
   ]
  },
  {
   "cell_type": "markdown",
   "metadata": {},
   "source": [
    "# Inference"
   ]
  },
  {
   "cell_type": "markdown",
   "metadata": {},
   "source": [
    "### Utilities"
   ]
  },
  {
   "cell_type": "code",
   "execution_count": 41,
   "metadata": {},
   "outputs": [
    {
     "name": "stdout",
     "output_type": "stream",
     "text": [
      "['h', 'tw', 'ba', 'ra', 'bf', 'rf', 'blf', 'rlf']\n"
     ]
    }
   ],
   "source": [
    "from sklearn.preprocessing import MinMaxScaler\n",
    "import pickle\n",
    "import pandas as pd\n",
    "from sections import VERTEX_FUNCTIONS\n",
    "\n",
    "func, params = VERTEX_FUNCTIONS['z3']\n",
    "print(params)\n",
    "\n",
    "def imshow(tensor):\n",
    "    \"\"\"show first image in a tensor\"\"\"\n",
    "    img = tensor[0].numpy() # shape(1,224,224) -> shape(224,224)\n",
    "    img = img.squeeze()\n",
    "    plt.imshow(img, cmap='gray');\n"
   ]
  },
  {
   "cell_type": "code",
   "execution_count": 42,
   "metadata": {},
   "outputs": [
    {
     "name": "stdout",
     "output_type": "stream",
     "text": [
      "Z3\n",
      "Input size: 150, output size: 8\n",
      "parameter names: h, tw, bf, rf, ba, ra, blf, rlf\n"
     ]
    }
   ],
   "source": [
    "model = regression.Net1.from_checkpoint(\"models/Z3_flip_50.pt\")\n",
    "\n",
    "# scaler\n",
    "with open(\"dataset/Z3_scaler.pkl\", \"rb\") as fp:\n",
    "    scaler = pickle.load(fp)"
   ]
  },
  {
   "cell_type": "code",
   "execution_count": 44,
   "metadata": {},
   "outputs": [
    {
     "data": {
      "image/png": "[encoded data removed]",
      "text/plain": [
       "<Figure size 432x288 with 1 Axes>"
      ]
     },
     "metadata": {
      "needs_background": "light"
     },
     "output_type": "display_data"
    }
   ],
   "source": [
    "i = 60\n",
    "area = 200\n",
    "\n",
    "# get data point\n",
    "ds = datasets['val']\n",
    "image, target = ds[i]\n",
    "# show image and target\n",
    "imshow(image)"
   ]
  },
  {
   "cell_type": "code",
   "execution_count": 45,
   "metadata": {},
   "outputs": [
    {
     "name": "stdout",
     "output_type": "stream",
     "text": [
      "torch.Size([1, 1, 150, 150])\n",
      "torch.float32\n",
      "tensor(1.)\n",
      "['h', 'tw', 'ba', 'ra']\n",
      "target (scaled):  [0.74224127 0.0780218  0.15561773 0.20677663 0.88431896 0.24519446\n",
      " 0.77278452 0.1246048 ]\n",
      "output (scaled):  [0.7280755  0.08673162 0.14258835 0.19724122 0.880474   0.24626052\n",
      " 0.7653329  0.12100983]\n",
      "target (unscaled):  [96.22189971  1.37459857  8.2475914   4.1237957  28.86656991  4.1237957\n",
      " 21.99357708  2.74919713]\n",
      "output (unscaled):  [95.38302    1.387249   7.9007     3.992098  28.778791   4.136207\n",
      " 21.808163   2.7062693]\n"
     ]
    }
   ],
   "source": [
    "img = image.reshape(1, 1, IMAGE_SIZE, IMAGE_SIZE)\n",
    "print(img.shape)\n",
    "print(img.dtype)\n",
    "print(img.max())\n",
    "with torch.no_grad():\n",
    "    model.eval()\n",
    "    outputs = model.forward(img)\n",
    "    outputs = outputs.numpy()\n",
    "    \n",
    "# print raw target / output\n",
    "print(l2_params)\n",
    "\n",
    "print(\"target (scaled): \", target.squeeze())\n",
    "print(\"output (scaled): \", outputs.squeeze())\n",
    "\n",
    "# unscale both, multiply with reference length (sqrt(A))\n",
    "target_dim = np.sqrt(area) * scaler.inverse_transform(target.T)\n",
    "target_dim = target_dim.squeeze()\n",
    "output_dim = np.sqrt(area) * scaler.inverse_transform(outputs)\n",
    "output_dim = output_dim.squeeze()\n",
    "print(\"target (unscaled): \", target_dim)\n",
    "print(\"output (unscaled): \", output_dim)\n",
    "\n",
    "# generate vertices"
   ]
  },
  {
   "cell_type": "code",
   "execution_count": 46,
   "metadata": {},
   "outputs": [
    {
     "data": {
      "text/html": [
       "<div>\n",
       "<style scoped>\n",
       "    .dataframe tbody tr th:only-of-type {\n",
       "        vertical-align: middle;\n",
       "    }\n",
       "\n",
       "    .dataframe tbody tr th {\n",
       "        vertical-align: top;\n",
       "    }\n",
       "\n",
       "    .dataframe thead th {\n",
       "        text-align: right;\n",
       "    }\n",
       "</style>\n",
       "<table border=\"1\" class=\"dataframe\">\n",
       "  <thead>\n",
       "    <tr style=\"text-align: right;\">\n",
       "      <th></th>\n",
       "      <th>h</th>\n",
       "      <th>tw</th>\n",
       "      <th>ba</th>\n",
       "      <th>ra</th>\n",
       "      <th>bf</th>\n",
       "      <th>rf</th>\n",
       "      <th>blf</th>\n",
       "      <th>rlf</th>\n",
       "    </tr>\n",
       "  </thead>\n",
       "  <tbody>\n",
       "    <tr>\n",
       "      <th>true</th>\n",
       "      <td>96.22</td>\n",
       "      <td>1.37</td>\n",
       "      <td>8.25</td>\n",
       "      <td>4.12</td>\n",
       "      <td>28.87</td>\n",
       "      <td>4.12</td>\n",
       "      <td>21.99</td>\n",
       "      <td>2.75</td>\n",
       "    </tr>\n",
       "    <tr>\n",
       "      <th>predicted</th>\n",
       "      <td>95.38</td>\n",
       "      <td>1.39</td>\n",
       "      <td>7.90</td>\n",
       "      <td>3.99</td>\n",
       "      <td>28.78</td>\n",
       "      <td>4.14</td>\n",
       "      <td>21.81</td>\n",
       "      <td>2.71</td>\n",
       "    </tr>\n",
       "  </tbody>\n",
       "</table>\n",
       "</div>"
      ],
      "text/plain": [
       "               h    tw    ba    ra     bf    rf    blf   rlf\n",
       "true       96.22  1.37  8.25  4.12  28.87  4.12  21.99  2.75\n",
       "predicted  95.38  1.39  7.90  3.99  28.78  4.14  21.81  2.71"
      ]
     },
     "execution_count": 46,
     "metadata": {},
     "output_type": "execute_result"
    }
   ],
   "source": [
    "# show results\n",
    "df = pd.DataFrame([target_dim, output_dim], index=['true', 'predicted'], \n",
    "                  columns=params)\n",
    "df.round(2)"
   ]
  },
  {
   "cell_type": "code",
   "execution_count": 47,
   "metadata": {},
   "outputs": [
    {
     "data": {
      "image/png": "[encoded data removed]",
      "text/plain": [
       "<Figure size 432x432 with 1 Axes>"
      ]
     },
     "metadata": {
      "needs_background": "light"
     },
     "output_type": "display_data"
    }
   ],
   "source": [
    "fig, ax = plt.subplots(figsize=(6, 6))\n",
    "\n",
    "# generate polygons\n",
    "true_o, true_i = func(*target_dim.squeeze())\n",
    "pred_o, pred_i = func(*output_dim.squeeze())\n",
    "\n",
    "\n",
    "for outer in true_o:\n",
    "    mppoly = plt.Polygon(outer, ec=\"k\", ls='--', fill=False, linewidth=1)\n",
    "    ax.add_patch(mppoly)\n",
    "for inner in true_i:\n",
    "    mppoly = plt.Polygon(inner, ec=\"k\", ls='--', fill=False, linewidth=1)\n",
    "    ax.add_patch(mppoly)\n",
    "    \n",
    "for outer in pred_o:\n",
    "    mppoly = plt.Polygon(outer, ec=\"r\", fill=False, linewidth=1)\n",
    "    ax.add_patch(mppoly)\n",
    "for inner in pred_i:\n",
    "    mppoly = plt.Polygon(inner, ec=\"r\", fill=False, linewidth=1)\n",
    "    ax.add_patch(mppoly)\n",
    "\n",
    "ax.autoscale(tight=False)\n",
    "ax.set_aspect(\"equal\")\n",
    "#ax.axis(\"off\");\n"
   ]
  },
  {
   "cell_type": "markdown",
   "metadata": {},
   "source": [
    "### Evaluate: Compute IOU"
   ]
  },
  {
   "cell_type": "code",
   "execution_count": 31,
   "metadata": {},
   "outputs": [],
   "source": [
    "# to be completed"
   ]
  },
  {
   "cell_type": "markdown",
   "metadata": {},
   "source": [
    "### Full Loop: Input polygon vertices, create image "
   ]
  },
  {
   "cell_type": "code",
   "execution_count": null,
   "metadata": {},
   "outputs": [],
   "source": [
    "# to be completed"
   ]
  }
 ],
 "metadata": {
  "kernelspec": {
   "display_name": "Python 3",
   "language": "python",
   "name": "python3"
  },
  "language_info": {
   "codemirror_mode": {
    "name": "ipython",
    "version": 3
   },
   "file_extension": ".py",
   "mimetype": "text/x-python",
   "name": "python",
   "nbconvert_exporter": "python",
   "pygments_lexer": "ipython3",
   "version": "3.8.2"
  }
 },
 "nbformat": 4,
 "nbformat_minor": 4
}
