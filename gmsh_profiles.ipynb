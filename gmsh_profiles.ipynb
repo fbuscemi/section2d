{
 "cells": [
  {
   "cell_type": "code",
   "execution_count": 1,
   "metadata": {},
   "outputs": [],
   "source": [
    "import sys"
   ]
  },
  {
   "cell_type": "code",
   "execution_count": 2,
   "metadata": {},
   "outputs": [],
   "source": [
    "sys.path.append(\"d:/opt/gmsh-4.5.5-Windows64-sdk/lib/\")\n",
    "import gmsh"
   ]
  },
  {
   "cell_type": "code",
   "execution_count": 11,
   "metadata": {},
   "outputs": [
    {
     "data": {
      "text/plain": [
       "1"
      ]
     },
     "execution_count": 11,
     "metadata": {},
     "output_type": "execute_result"
    }
   ],
   "source": [
    "# ply2 works for 2d meshes; not for 1d"
   ]
  },
  {
   "cell_type": "code",
   "execution_count": 14,
   "metadata": {},
   "outputs": [],
   "source": [
    "def shape_t(factory, ba, h, ta, tw, lc=None):\n",
    "    \n",
    "    lc = min(ba, h, ta, tw) / 2.0 # crude assumption\n",
    "    \n",
    "    factory.addPoint(ba/2,  0,  0, lc, 1)\n",
    "    factory.addPoint(ba/2,  ta, 0, lc, 2)\n",
    "    factory.addPoint(tw/2,  ta, 0, lc, 3)\n",
    "    factory.addPoint(tw/2,  h,  0, lc, 4)\n",
    "    factory.addPoint(-tw/2, h,  0, lc, 5)\n",
    "    factory.addPoint(-tw/2, ta, 0, lc, 6)\n",
    "    factory.addPoint(-ba/2, ta, 0, lc, 7)\n",
    "    factory.addPoint(-ba/2, 0,  0, lc, 8)\n",
    "\n",
    "    factory.addLine(1, 2, 1)\n",
    "    factory.addLine(2, 3, 2)\n",
    "    factory.addLine(3, 4, 3)\n",
    "    factory.addLine(4, 5, 4)\n",
    "    factory.addLine(5, 6, 5)\n",
    "    factory.addLine(6, 7, 6)\n",
    "    factory.addLine(7, 8, 7)\n",
    "    factory.addLine(8, 1, 8)\n",
    "\n",
    "    factory.addCurveLoop([1, 2, 3, 4, 5, 6, 7, 8], 1)\n",
    "    factory.addPlaneSurface([1], 1)"
   ]
  },
  {
   "cell_type": "code",
   "execution_count": 16,
   "metadata": {},
   "outputs": [],
   "source": [
    "model = gmsh.model\n",
    "factory = model.occ\n",
    "gmsh.initialize()\n",
    "shape_t(factory, 20, 40, 2, 3)\n",
    "factory.synchronize()\n",
    "model.mesh.generate(1)\n",
    "gmsh.write(\"d:/t.ply2\")\n",
    "gmsh.finalize()"
   ]
  },
  {
   "cell_type": "code",
   "execution_count": null,
   "metadata": {},
   "outputs": [],
   "source": []
  },
  {
   "cell_type": "markdown",
   "metadata": {},
   "source": [
    "## T (Composite)"
   ]
  },
  {
   "cell_type": "code",
   "execution_count": 10,
   "metadata": {},
   "outputs": [],
   "source": [
    "model = gmsh.model\n",
    "factory = model.occ\n",
    "\n",
    "gmsh.initialize()\n",
    "#gmsh.option.setNumber(\"General.Terminal\", 1)\n",
    "\n",
    "ba = 30.\n",
    "h = 40.\n",
    "ta = 2.\n",
    "tw = 3.\n",
    "\n",
    "lc = 0.5\n",
    "\n",
    "factory.addPoint(ba/2,  0,  0, lc, 1)\n",
    "factory.addPoint(ba/2,  ta, 0, lc, 2)\n",
    "factory.addPoint(tw/2,  ta, 0, lc, 3)\n",
    "factory.addPoint(tw/2,  h,  0, lc, 4)\n",
    "factory.addPoint(-tw/2, h,  0, lc, 5)\n",
    "factory.addPoint(-tw/2, ta, 0, lc, 6)\n",
    "factory.addPoint(-ba/2, ta, 0, lc, 7)\n",
    "factory.addPoint(-ba/2, 0,  0, lc, 8)\n",
    "\n",
    "factory.addLine(1, 2, 1)\n",
    "factory.addLine(2, 3, 2)\n",
    "factory.addLine(3, 4, 3)\n",
    "factory.addLine(4, 5, 4)\n",
    "factory.addLine(5, 6, 5)\n",
    "factory.addLine(6, 7, 6)\n",
    "factory.addLine(7, 8, 7)\n",
    "factory.addLine(8, 1, 8)\n",
    "\n",
    "factory.addCurveLoop([1, 2, 3, 4, 5, 6, 7, 8], 1)\n",
    "factory.addPlaneSurface([1], 1)\n",
    "\n",
    "factory.synchronize()\n",
    "\n",
    "#gmsh.write(\"d:/comp_py.step\")\n",
    "\n",
    "# simple ways to export triangulation !!!!!\n",
    "model.mesh.generate(2)\n",
    "# 2. ply format (not really, but simple)\n",
    "gmsh.write(\"d:/comp_py.ply2\")\n",
    "\n",
    "gmsh.finalize()"
   ]
  },
  {
   "cell_type": "markdown",
   "metadata": {},
   "source": [
    "## C (composite)"
   ]
  },
  {
   "cell_type": "code",
   "execution_count": 18,
   "metadata": {},
   "outputs": [],
   "source": [
    "model = gmsh.model\n",
    "factory = model.occ\n",
    "\n",
    "gmsh.initialize()\n",
    "#gmsh.option.setNumber(\"General.Terminal\", 1)\n",
    "\n",
    "ba = 30.\n",
    "bf = 25\n",
    "h = 40.\n",
    "tw = 2.\n",
    "ta = 2.5\n",
    "tf = 3.\n",
    "\n",
    "lc = 0.5\n",
    "\n",
    "factory.addPoint(0,  0,    0, lc, 1)\n",
    "factory.addPoint(ba, 0,    0, lc, 2)\n",
    "factory.addPoint(ba, ta,   0, lc, 3)\n",
    "factory.addPoint(tw, ta,   0, lc, 4)\n",
    "factory.addPoint(tw, h-tf, 0, lc, 5)\n",
    "factory.addPoint(bf, h-tf, 0, lc, 6)\n",
    "factory.addPoint(bf, h,    0, lc, 7)\n",
    "factory.addPoint(0,  h,    0, lc, 8)\n",
    "\n",
    "factory.addLine(1, 2, 1)\n",
    "factory.addLine(2, 3, 2)\n",
    "factory.addLine(3, 4, 3)\n",
    "factory.addLine(4, 5, 4)\n",
    "factory.addLine(5, 6, 5)\n",
    "factory.addLine(6, 7, 6)\n",
    "factory.addLine(7, 8, 7)\n",
    "factory.addLine(8, 1, 8)\n",
    "\n",
    "factory.addCurveLoop([1, 2, 3, 4, 5, 6, 7, 8], 1)\n",
    "factory.addPlaneSurface([1], 1)\n",
    "\n",
    "factory.synchronize()\n",
    "\n",
    "gmsh.write(\"d:/c_comp_py.step\")\n",
    "\n",
    "model.mesh.generate(dim=1)\n",
    "gmsh.write(\"d:/c_comp_py.inp\")\n",
    "\n",
    "model.mesh.generate(2)\n",
    "gmsh.write(\"d:/c_comp_py.stl\")\n",
    "\n",
    "gmsh.finalize()"
   ]
  },
  {
   "cell_type": "markdown",
   "metadata": {},
   "source": [
    "## ABS 5054\n",
    "\n",
    "- unspecified radii: 0.5"
   ]
  },
  {
   "cell_type": "code",
   "execution_count": 24,
   "metadata": {},
   "outputs": [
    {
     "name": "stdout",
     "output_type": "stream",
     "text": [
      "(-3.060688146459606, 9.481839068638653, 0.0)\n",
      "[10849.88335422 -6178.02521201     0.         -6178.02521201\n",
      "  7561.56128093     0.             0.             0.\n",
      " 18411.44463516]\n"
     ]
    }
   ],
   "source": [
    "# example: -135 \n",
    "# r3, r4 are always specified\n",
    "# in many cases, r1, r5, r6 are unspecified. Use 0.5 in these situations.\n",
    "\n",
    "model = gmsh.model\n",
    "factory = model.occ\n",
    "\n",
    "gmsh.initialize()\n",
    "\n",
    "\n",
    "h = 25\n",
    "b1 = 24\n",
    "b2 = 7\n",
    "a1 = 2.5\n",
    "a2 = 4.0\n",
    "a3 = 2.5\n",
    "r1 = 0.5 # None\n",
    "r2 = 2.0\n",
    "r3 = 2.0\n",
    "r4 = 2.0\n",
    "r5 = 0.5 # None\n",
    "r6 = 0.5 # None\n",
    "\n",
    "lc = 0.5\n",
    "\n",
    "# TODO: make radii at two missing points ...\n",
    "\n",
    "# points on contour\n",
    "p1 = factory.addPoint(a3-r4,  0,       0, lc)\n",
    "p2 = factory.addPoint(a3,     r4,      0, lc)\n",
    "p3 = factory.addPoint(a3,     h-a2-r2, 0, lc)\n",
    "p4 = factory.addPoint(a3+r2,  h-a2,    0, lc)\n",
    "p5 = factory.addPoint(b2,     h-a2,    0, lc)\n",
    "p6 = factory.addPoint(b2,     h-r1,    0, lc)\n",
    "p7 = factory.addPoint(b2-r1,  h,       0, lc)\n",
    "p8 = factory.addPoint(r6,     h,       0, lc)\n",
    "p9 = factory.addPoint(0,      h-r6,    0, lc)\n",
    "p10 = factory.addPoint(0,      a1+r3,   0, lc)\n",
    "p11 = factory.addPoint(-r3,    a1,      0, lc)\n",
    "p12 = factory.addPoint(a3-b1,  a1,      0, lc)\n",
    "p13 = factory.addPoint(a3-b1,  r5,      0, lc)\n",
    "p14 = factory.addPoint(a3+r5-b1, 0,     0, lc)\n",
    "\n",
    "# centres of fillets\n",
    "c1 = factory.addPoint(b2-r1, h-r1, 0, lc)\n",
    "c2 = factory.addPoint(a3+r2, h-a2-r2, 0, lc)\n",
    "c3 = factory.addPoint(-r3, a1+r3, 0, lc)\n",
    "c4 = factory.addPoint(a3-r4, r4, 0, lc)\n",
    "c5 = factory.addPoint(a3+r5-b1, r5, 0, lc)\n",
    "c6 = factory.addPoint(r6, h-r6, 0, lc)\n",
    "\n",
    "# line segments\n",
    "l1 = factory.addCircleArc(p1, c4, p2)\n",
    "l2 = factory.addLine(p2, p3)\n",
    "l3 = factory.addCircleArc(p3, c2, p4)\n",
    "l4 = factory.addLine(p4, p5)\n",
    "l5 = factory.addLine(p5, p6)\n",
    "l6 = factory.addCircleArc(p6, c1, p7)\n",
    "l7 = factory.addLine(p7, p8)\n",
    "l8 = factory.addCircleArc(p8, c6, p9)\n",
    "l9 = factory.addLine(p9, p10)\n",
    "l10 = factory.addCircleArc(p10, c3, p11)\n",
    "l11 = factory.addLine(p11, p12)\n",
    "l12 = factory.addLine(p12, p13)\n",
    "l13 = factory.addCircleArc(p13, c5, p14)\n",
    "l14 = factory.addLine(p14, p1)\n",
    "\n",
    "loop1 = factory.addCurveLoop([l1, l2, l3, l4, l5, l6, l7, \n",
    "                              l8, l9, l10, l11, l12, l13, l14])\n",
    "surface = factory.addPlaneSurface([loop1])\n",
    "\n",
    "factory.synchronize()\n",
    "\n",
    "gmsh.write(\"d:/abs5054-135.step\")\n",
    "\n",
    "#model.mesh.generate(dim=1)\n",
    "#gmsh.write(\"d:/c_comp_py.inp\")\n",
    "\n",
    "#model.mesh.generate(2)\n",
    "#gmsh.write(\"d:/c_comp_py.stl\")\n",
    "\n",
    "print(factory.getCenterOfMass(2, surface))\n",
    "print(factory.getMatrixOfInertia(2, surface))\n",
    "\n",
    "gmsh.finalize()"
   ]
  },
  {
   "cell_type": "code",
   "execution_count": null,
   "metadata": {},
   "outputs": [],
   "source": []
  }
 ],
 "metadata": {
  "kernelspec": {
   "display_name": "Python 3",
   "language": "python",
   "name": "python3"
  },
  "language_info": {
   "codemirror_mode": {
    "name": "ipython",
    "version": 3
   },
   "file_extension": ".py",
   "mimetype": "text/x-python",
   "name": "python",
   "nbconvert_exporter": "python",
   "pygments_lexer": "ipython3",
   "version": "3.7.5"
  }
 },
 "nbformat": 4,
 "nbformat_minor": 4
}
