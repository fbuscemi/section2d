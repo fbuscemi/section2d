{
 "cells": [
  {
   "cell_type": "markdown",
   "metadata": {},
   "source": [
    "# Dataset for Other Classes"
   ]
  },
  {
   "cell_type": "markdown",
   "metadata": {},
   "source": [
    "## Data for \"Other\" Category\n",
    "\n",
    "#### 2D Shape Structure Dataset\n",
    "\n",
    "over 1200 shapes in 70 shape classes. Polygons, xy coordinates in json format.\n",
    "calss device3 contains some rectangles, device4 contains triangles, device8\n",
    "contains T shapes, device9 contains circles\n",
    "\n",
    "- http://ubee.enseeiht.fr/ShapesDataset/\n",
    "- http://ubee.enseeiht.fr/ShapesDataset/data/NamesJSON.zip\n",
    "\n",
    "#### Mythological creatures 2D\n",
    "\n",
    "Two-dimensional articulated shapes (silhouettes) for partial similarity experiments. The data set contains 15 shapes: 5 humans, 5 horses and 5 centaurs. Each shape differs by an articulation and additional parts. The shapes are represented as binary images in .bmp format.\n",
    "\n",
    "- http://visl.technion.ac.il/bron/publications/BroBroBruKimIJCV07.pdf\n",
    "- http://tosca.cs.technion.ac.il/book/resources_data.html\n",
    "- http://tosca.cs.technion.ac.il/data/myth.zip\n",
    "\n",
    "#### Tools 2D\n",
    "\n",
    "35 images in 5 classes (scissors, tools). BMP format\n",
    "\n",
    "- http://visl.technion.ac.il/bron/publications/BroBroBruKimIJCV07.pdf \n",
    "- http://tosca.cs.technion.ac.il/book/resources_data.html\n",
    "- http://tosca.cs.technion.ac.il/data/tools.zip\n",
    "\n",
    "#### MPEG-7 Shape Dataset\n",
    "\n",
    "http://www.cis.temple.edu/~latecki/TestData/mpeg7shapeB.tar.gz"
   ]
  },
  {
   "cell_type": "code",
   "execution_count": 22,
   "metadata": {},
   "outputs": [],
   "source": [
    "%matplotlib inline\n",
    "import os\n",
    "import numpy as np\n",
    "import matplotlib.pyplot as plt\n",
    "import cv2\n",
    "from PIL import Image"
   ]
  },
  {
   "cell_type": "code",
   "execution_count": 29,
   "metadata": {},
   "outputs": [],
   "source": [
    "dir_myth = \"raw_other/myth\"\n",
    "dir_tool = \"raw_other/tools/\"\n",
    "dir_mpeg = \"raw_other/mpeg7shapeB/\"\n",
    "\n",
    "dir_target = \"raw_other/_converted/\""
   ]
  },
  {
   "cell_type": "code",
   "execution_count": 62,
   "metadata": {},
   "outputs": [],
   "source": [
    "# the normals ones\n",
    "for dirname in (dir_myth, dir_tool, dir_mpeg):\n",
    "    for fname in os.listdir(dirname):\n",
    "        if not(fname.endswith(\".bmp\") or fname.endswith(\".gif\")):\n",
    "            continue\n",
    "        base, _ = os.path.splitext(fname)\n",
    "        target = os.path.join(dir_target, base+\".png\")           \n",
    "        \n",
    "        img = Image.open(os.path.join(dirname, fname))\n",
    "        if fname.endswith(\".gif\"):\n",
    "            img = -1.0*np.array(img)\n",
    "            imin, imax = np.min(img), np.max(img)\n",
    "            img = 255*(img-imin)/(imax-imin)\n",
    "            cv2.imwrite(target, img)\n",
    "        else:\n",
    "            img.save(target)\n"
   ]
  },
  {
   "cell_type": "code",
   "execution_count": 67,
   "metadata": {},
   "outputs": [
    {
     "name": "stdout",
     "output_type": "stream",
     "text": [
      "1452\n",
      "1452 1018 217\n"
     ]
    }
   ],
   "source": [
    "n = len(os.listdir(dir_target))\n",
    "print(n)\n",
    "\n",
    "r_test = 0.85\n",
    "n_val = int((1-r_test)*n)\n",
    "n_train = n - 2*n_val\n",
    "print(n, n_train, n_val)"
   ]
  },
  {
   "cell_type": "code",
   "execution_count": 73,
   "metadata": {},
   "outputs": [],
   "source": [
    "## Shuffle, and split into test\n",
    "import random\n",
    "import shutil"
   ]
  },
  {
   "cell_type": "code",
   "execution_count": 71,
   "metadata": {},
   "outputs": [],
   "source": [
    "fnames = os.listdir(dir_target)\n",
    "random.shuffle(fnames)"
   ]
  },
  {
   "cell_type": "code",
   "execution_count": 76,
   "metadata": {},
   "outputs": [],
   "source": [
    "for fname in fnames[:n_train]:\n",
    "    source = os.path.join(dir_target, fname)\n",
    "    tdir = os.path.join(\"dataset/train/OTHER\")\n",
    "    target = os.path.join(tdir, fname)\n",
    "    if not os.path.exists(tdir):\n",
    "        os.mkdir(tdir)\n",
    "    shutil.copy(source, target)\n",
    "    \n",
    "for fname in fnames[n_train:n_train+n_val]:\n",
    "    source = os.path.join(dir_target, fname)\n",
    "    tdir = os.path.join(\"dataset/val/OTHER\")\n",
    "    target = os.path.join(tdir, fname)\n",
    "    if not os.path.exists(tdir):\n",
    "        os.mkdir(tdir)\n",
    "    shutil.copy(source, target)\n",
    "    \n",
    "for fname in fnames[n_train+2*n_val:]:\n",
    "    source = os.path.join(dir_target, fname)\n",
    "    tdir = os.path.join(\"dataset/test/OTHER\")\n",
    "    target = os.path.join(tdir, fname)\n",
    "    if not os.path.exists(tdir):\n",
    "        os.mkdir(tdir)\n",
    "    shutil.copy(source, target)"
   ]
  },
  {
   "cell_type": "code",
   "execution_count": null,
   "metadata": {},
   "outputs": [],
   "source": []
  }
 ],
 "metadata": {
  "kernelspec": {
   "display_name": "Python 3",
   "language": "python",
   "name": "python3"
  },
  "language_info": {
   "codemirror_mode": {
    "name": "ipython",
    "version": 3
   },
   "file_extension": ".py",
   "mimetype": "text/x-python",
   "name": "python",
   "nbconvert_exporter": "python",
   "pygments_lexer": "ipython3",
   "version": "3.8.2"
  }
 },
 "nbformat": 4,
 "nbformat_minor": 4
}
