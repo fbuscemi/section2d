{
 "cells": [
  {
   "cell_type": "code",
   "execution_count": 1,
   "metadata": {},
   "outputs": [],
   "source": [
    "%matplotlib inline\n",
    "import numpy as np\n",
    "import matplotlib\n",
    "import matplotlib.pyplot as plt\n",
    "from matplotlib import path\n",
    "\n",
    "import cv2\n",
    "from sections import section, VERTEX_FUNCTIONS"
   ]
  },
  {
   "cell_type": "markdown",
   "metadata": {},
   "source": [
    "## image with matplotlib"
   ]
  },
  {
   "cell_type": "code",
   "execution_count": 2,
   "metadata": {},
   "outputs": [],
   "source": [
    "def image_mpl(outers, inners, ax=None):\n",
    "    if not ax:\n",
    "        fig, ax = plt.subplots(figsize=(1,1))\n",
    "        \n",
    "    for outer in outers:\n",
    "        mppoly = matplotlib.patches.Polygon(outer, facecolor='k', linewidth=0)\n",
    "        ax.add_patch(mppoly)\n",
    "    for inner in inners:\n",
    "        mppoly = matplotlib.patches.Polygon(inner, facecolor='w', linewidth=0)\n",
    "        ax.add_patch(mppoly)\n",
    "\n",
    "    ax.autoscale(tight=True)\n",
    "    ax.set_aspect(\"equal\")\n",
    "    ax.axis(\"off\")\n",
    "    \n",
    "    return ax.figure"
   ]
  },
  {
   "cell_type": "markdown",
   "metadata": {},
   "source": [
    "## image with opencv"
   ]
  },
  {
   "cell_type": "code",
   "execution_count": 3,
   "metadata": {},
   "outputs": [],
   "source": [
    "BLACK = (0,0,0)\n",
    "WHITE = (255,255,255)\n",
    "\n",
    "def image_cv2(outers, inners, figsize=300, pad=20):\n",
    "    \"\"\"Return np.array\"\"\"\n",
    "\n",
    "    mins = np.min(np.concatenate(outers), axis=0)\n",
    "    maxs = np.max(np.concatenate(outers), axis=0)\n",
    "\n",
    "    cx = (mins[0] + maxs[0])/2\n",
    "    cy = (mins[1] + maxs[1])/2\n",
    "    center = [cx, cy] # in true coordinates\n",
    "\n",
    "    w = maxs[0] - mins[0]\n",
    "    h = maxs[1] - mins[1]\n",
    "    scale = (figsize - 2*pad) / max(w, h)\n",
    "    \n",
    "    offset = (figsize//2, figsize//2) # in image coords\n",
    "\n",
    "    img = 255*np.ones((figsize, figsize, 3), dtype = \"uint8\") # empty white image\n",
    "\n",
    "    polys = [(scale * (p - center)).astype(np.int32) for p in outers]\n",
    "    polys = [p*[1,-1] for p in polys] # flip y\n",
    "    cv2.fillPoly(img, polys, BLACK, cv2.LINE_AA, 0, offset)\n",
    "\n",
    "    polys = [(scale * (p - center)).astype(np.int32) for p in inners]\n",
    "    polys = [p*[1,-1] for p in polys] # flip y\n",
    "    cv2.fillPoly(img, polys, WHITE, cv2.LINE_AA, 0, offset)\n",
    "    \n",
    "    return img\n"
   ]
  },
  {
   "cell_type": "markdown",
   "metadata": {},
   "source": [
    "## Example"
   ]
  },
  {
   "cell_type": "code",
   "execution_count": 8,
   "metadata": {},
   "outputs": [
    {
     "name": "stdout",
     "output_type": "stream",
     "text": [
      "['ra', 'ri']\n"
     ]
    }
   ],
   "source": [
    "func_tube, params_tube = VERTEX_FUNCTIONS['tube']\n",
    "print(params_tube)"
   ]
  },
  {
   "cell_type": "code",
   "execution_count": 9,
   "metadata": {},
   "outputs": [],
   "source": [
    "#outers, inners = verts_c2(50, 1.6, 20, 6, 15, 6)\n",
    "outers, inners = func_tube(50, 49)"
   ]
  },
  {
   "cell_type": "code",
   "execution_count": 10,
   "metadata": {},
   "outputs": [
    {
     "data": {
      "text/plain": [
       "True"
      ]
     },
     "execution_count": 10,
     "metadata": {},
     "output_type": "execute_result"
    }
   ],
   "source": [
    "#%%timeit\n",
    "#fig = image_mpl(outers, inners)\n",
    "#fig.savefig(\"c:/temp/tube1.png\", dpi=150, pad_inches=0)\n",
    "\n",
    "img = image_cv2(outers, inners)\n",
    "cv2.imwrite(\"/home/pagzal/tube1.png\", img)"
   ]
  },
  {
   "cell_type": "code",
   "execution_count": 11,
   "metadata": {},
   "outputs": [
    {
     "data": {
      "image/png": "[encoded data removed]",
      "text/plain": [
       "<Figure size 432x288 with 1 Axes>"
      ]
     },
     "metadata": {
      "needs_background": "light"
     },
     "output_type": "display_data"
    }
   ],
   "source": [
    "#%%timeit\n",
    "img = image_cv2(outers, inners)\n",
    "#cv2.imwrite(\"c:/temp/c_cv2.png\", img) # RGB\n",
    "plt.imshow(img, aspect='equal', );"
   ]
  },
  {
   "cell_type": "code",
   "execution_count": 12,
   "metadata": {},
   "outputs": [
    {
     "name": "stdout",
     "output_type": "stream",
     "text": [
      "['h', 'tw', 'ba', 'ta', 'bf', 'tf']\n"
     ]
    }
   ],
   "source": [
    "func_c, params_c = VERTEX_FUNCTIONS['z1']\n",
    "print(params_c)"
   ]
  },
  {
   "cell_type": "code",
   "execution_count": 13,
   "metadata": {},
   "outputs": [],
   "source": [
    "outers, inners = func_c(30, 1.8, 20, 2.5, 4, 8)\n",
    "img = image_cv2(outers, inners)"
   ]
  },
  {
   "cell_type": "code",
   "execution_count": 14,
   "metadata": {},
   "outputs": [
    {
     "name": "stdout",
     "output_type": "stream",
     "text": [
      " 2dsection\t\t\t  okoham.github.io      pytorch_tutorial\r\n",
      " 2dshape\t\t\t  P1_Facial_Keypoints  'Scans IPAD'\r\n",
      " artificial-intelligence-master   patrick_files         tischfussball\r\n",
      " CVND_Exercises\t\t\t  pointcloud\t        uda-da-2\r\n",
      " deep-reinforcement-learning\t  pytorch3d_tutorials   uda-da-r\r\n"
     ]
    }
   ],
   "source": [
    "!ls ~/projects"
   ]
  },
  {
   "cell_type": "code",
   "execution_count": 30,
   "metadata": {},
   "outputs": [
    {
     "data": {
      "text/plain": [
       "True"
      ]
     },
     "execution_count": 30,
     "metadata": {},
     "output_type": "execute_result"
    }
   ],
   "source": [
    "#cv2.imwrite(\"/home/pagzal/zx.png\", img)"
   ]
  },
  {
   "cell_type": "code",
   "execution_count": null,
   "metadata": {},
   "outputs": [],
   "source": []
  }
 ],
 "metadata": {
  "kernelspec": {
   "display_name": "Python 3",
   "language": "python",
   "name": "python3"
  },
  "language_info": {
   "codemirror_mode": {
    "name": "ipython",
    "version": 3
   },
   "file_extension": ".py",
   "mimetype": "text/x-python",
   "name": "python",
   "nbconvert_exporter": "python",
   "pygments_lexer": "ipython3",
   "version": "3.8.2"
  }
 },
 "nbformat": 4,
 "nbformat_minor": 4
}
